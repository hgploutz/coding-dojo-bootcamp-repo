{
 "cells": [
  {
   "cell_type": "markdown",
   "id": "83b745f2-062e-46aa-8007-f6d45a2c3a3d",
   "metadata": {},
   "source": [
    "# Project 1 - Revisited"
   ]
  },
  {
   "cell_type": "code",
   "execution_count": 1,
   "id": "dacb36ed-61ae-4de8-9623-257e50aaf48b",
   "metadata": {},
   "outputs": [],
   "source": [
    "#Full Name: Hannah Ploutz|"
   ]
  },
  {
   "cell_type": "markdown",
   "id": "a2a16509-16f7-4132-b79f-8da7309722ea",
   "metadata": {},
   "source": [
    "## Imports"
   ]
  },
  {
   "cell_type": "code",
   "execution_count": null,
   "id": "44fbc0e7-34f7-4bf2-bb93-4a0120455774",
   "metadata": {},
   "outputs": [],
   "source": [
    "## Pandas\n",
    "import pandas as pd\n",
    "\n",
    "## Numpy\n",
    "import numpy as np\n",
    "\n",
    "## MatPlotLib\n",
    "import matplotlib.pyplot as plt\n",
    "\n",
    "## Preprocessing\n",
    "from sklearn.model_selection import train_test_split\n",
    "from sklearn.compose import make_column_selector, make_column_transformer\n",
    "from sklearn.preprocessing import StandardScaler, OneHotEncoder, OrdinalEncoder\n",
    "from sklearn.pipeline import make_pipeline\n",
    "from sklearn.impute import SimpleImputer\n",
    "\n",
    "## Models\n",
    "from sklearn.dummy import DummyRegressor\n",
    "from sklearn.tree import DecisionTreeRegressor\n",
    "\n",
    "## Regression Metrics\n",
    "from sklearn.metrics import r2_score, mean_absolute_error, mean_squared_error\n",
    "from sklearn.ensemble import BaggingRegressor\n",
    "from sklearn.ensemble import RandomForestRegressor\n",
    "\n",
    "## Models & evaluation metrics\n",
    "from sklearn import metrics\n",
    "from sklearn.linear_model import LinearRegression\n",
    "from sklearn.tree import DecisionTreeRegressor\n",
    "from sklearn.ensemble import RandomForestRegressor\n",
    "import joblib\n",
    "\n",
    "## setting random state for reproducibility\n",
    "SEED = 321\n",
    "np.random.seed(SEED)\n",
    "## set pandas to display more columns\n",
    "pd.set_option('display.max_columns',50)\n",
    "from sklearn.linear_model import LinearRegression\n",
    "\n",
    "## Set global scikit-learn configuration \n",
    "from sklearn import set_config\n",
    "## Display estimators as a diagram\n",
    "set_config(display='diagram') # 'text' or 'diagram'}\n",
    "\n",
    "from IPython.core.display import clear_output"
   ]
  },
  {
   "cell_type": "markdown",
   "id": "6a3834ec-4ac1-4e23-89d8-993086a5c815",
   "metadata": {},
   "source": [
    "## Load Data"
   ]
  },
  {
   "cell_type": "code",
   "execution_count": null,
   "id": "052d3492-fded-42df-9406-b4113f72d46a",
   "metadata": {},
   "outputs": [],
   "source": []
  },
  {
   "cell_type": "code",
   "execution_count": null,
   "id": "534dadc1-740f-4b85-a659-3291f619a951",
   "metadata": {},
   "outputs": [],
   "source": []
  },
  {
   "cell_type": "code",
   "execution_count": null,
   "id": "8e38f9d9-e511-48c6-9570-b988240a83d5",
   "metadata": {},
   "outputs": [],
   "source": []
  },
  {
   "cell_type": "code",
   "execution_count": null,
   "id": "c3ca43bd-5da2-4a8a-802e-369a5c5cb575",
   "metadata": {},
   "outputs": [],
   "source": []
  },
  {
   "cell_type": "code",
   "execution_count": null,
   "id": "582032e7-bae3-485e-a130-7e76e342ef16",
   "metadata": {},
   "outputs": [],
   "source": []
  },
  {
   "cell_type": "code",
   "execution_count": null,
   "id": "92d350b1-6c5b-4c25-8935-7787792d55f3",
   "metadata": {},
   "outputs": [],
   "source": []
  }
 ],
 "metadata": {
  "kernelspec": {
   "display_name": "Python (dojo-env)",
   "language": "python",
   "name": "dojo-env"
  },
  "language_info": {
   "codemirror_mode": {
    "name": "ipython",
    "version": 3
   },
   "file_extension": ".py",
   "mimetype": "text/x-python",
   "name": "python",
   "nbconvert_exporter": "python",
   "pygments_lexer": "ipython3",
   "version": "3.9.15"
  }
 },
 "nbformat": 4,
 "nbformat_minor": 5
}
