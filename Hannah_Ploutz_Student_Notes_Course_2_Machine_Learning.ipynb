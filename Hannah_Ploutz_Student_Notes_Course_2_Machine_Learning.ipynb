{
 "cells": [
  {
   "cell_type": "markdown",
   "metadata": {
    "id": "k0zRnVBuHKoZ"
   },
   "source": [
    "# Week 1 - Intro to Machine Learning"
   ]
  },
  {
   "cell_type": "markdown",
   "metadata": {
    "id": "sFf4KqJfixX0"
   },
   "source": [
    "[Link to Weekly Schedule](https://docs.google.com/spreadsheets/d/12ROj7r0vLUl7Paz0SriUBQXlT28D_RSOaoJkOWOsMuA/edit?usp=sharing)"
   ]
  },
  {
   "cell_type": "markdown",
   "metadata": {
    "id": "5NaaEn2mHbC3"
   },
   "source": [
    "## Core Assignments"
   ]
  },
  {
   "cell_type": "markdown",
   "metadata": {},
   "source": [
    "[Pre-Processing Abalone Core Assignment](https://colab.research.google.com/drive/19Qqr5fhfszfYgN80nL2nc7dDtOO2kujH?usp=share_link) <br>\n",
    "[Pipelines Activity Core Assignment](https://colab.research.google.com/drive/16kmPxkd4DUJ-_5vq_xjwlQhSZUIg4573?usp=share_link)"
   ]
  },
  {
   "cell_type": "markdown",
   "metadata": {
    "id": "TihUbrV0Ha_i"
   },
   "source": [
    "## Practice Assignments"
   ]
  },
  {
   "cell_type": "markdown",
   "metadata": {
    "id": "Nhftl5neHuOw"
   },
   "source": [
    "## Class Notes"
   ]
  },
  {
   "cell_type": "markdown",
   "metadata": {
    "id": "LtLxQG9xdf6I"
   },
   "source": [
    "[Code Along Challenge - Model Validation Split - Class 1](https://colab.research.google.com/drive/1Ge8dp6PVVprhW04-X6ZO8IkqATStgGie?usp=sharing) <br>\n",
    "[Powerpoint Deck - Class 1](https://docs.google.com/presentation/d/1O5DJzyKQeJDWZqBoCxkuwcjhiaeqYzVl/edit?usp=sharing&ouid=104513683842857415553&rtpof=true&sd=true)"
   ]
  },
  {
   "cell_type": "markdown",
   "metadata": {
    "id": "DOPxM0-A_Mge"
   },
   "source": [
    "[Preprocessing Code Along - Class 2](https://colab.research.google.com/drive/1vrJOZV24qVxHcOn-mTw_AILrbL9a1HP8?usp=sharing)\n",
    "<br>[Powerpoint Deck - Class 2](https://docs.google.com/presentation/d/1yzlMvjB4lTukJJwCTpOvzFfyPBn2Vq1Q/edit?usp=sharing&ouid=104513683842857415553&rtpof=true&sd=true)"
   ]
  },
  {
   "cell_type": "markdown",
   "metadata": {
    "id": "QneM7c0DlmRv"
   },
   "source": [
    "### 3/27/23 Class Notes \n",
    "**Regression** <br>\n",
    "-  The thing you are predicting is a continuous variable\n",
    "-  Like the target is Selling price, and the feature is Square Feet, it would be a linear regression model (it will find a line, and those are the predictions)\n",
    "-  Stock Price predicitions, predicting ages, home sales prices, height weight length\n",
    "- Answers \"How many?\" or \"How much\"\n",
    "-  Usually floats, age, price income\n",
    "<br>\n",
    "\n",
    "**Classification** <br>\n",
    "-  Often is it yes or no (eg: binary classification)\n",
    "-  It's answering the question \"Which\" which patient belongs to the group that gets cancer, or the group that doesnt get caner\n",
    "-  It is NOT counting anything\n",
    "-  It looks at how we can divide things (email message - feature, class - target. The target in this case is either \"spam\" or \"not spam\")\n",
    "- Sometimes the target column is talking about the future, or is usefull to predict\n",
    "-  Discrete (no inbetween categories) labels, strings or integers\n",
    "-  yes/no, survived/died\n",
    "- Annwers the question \"Which\" or \"what\""
   ]
  },
  {
   "cell_type": "markdown",
   "metadata": {
    "id": "YJCMc6rHqHhi"
   },
   "source": [
    "Model Validation\n",
    "-  Train Test Split\n",
    "-  Do NOT peek at the test data, test data simulates new data you havent seen yet\n",
    "-  How do you know how well the prediction does? We do our own test/validation on the test data so we have an idea of how well the prediction should go."
   ]
  },
  {
   "cell_type": "code",
   "execution_count": null,
   "metadata": {
    "id": "9D9kRynQq9fe"
   },
   "outputs": [],
   "source": [
    "import pandas as pd\n",
    "from sklearn.datasets import load_iris"
   ]
  },
  {
   "cell_type": "markdown",
   "metadata": {
    "id": "efmwrYyp6r4d"
   },
   "source": [
    "\n",
    "\n",
    "---\n",
    "\n"
   ]
  },
  {
   "cell_type": "markdown",
   "metadata": {
    "id": "vuJ_anWw0_TN"
   },
   "source": [
    "### 3/29/23 Class Notes"
   ]
  },
  {
   "cell_type": "markdown",
   "metadata": {
    "id": "L6wyMdSz1ItQ"
   },
   "source": [
    "Data Leakage - common way to leak data is use .fillna() before splitting"
   ]
  },
  {
   "cell_type": "markdown",
   "metadata": {
    "id": "RuBi1QTQ3yBY"
   },
   "source": [
    "Rules for Machine Learning: \n",
    "- Shall have NO missing values\n",
    "- All Data Shall be Numeric\n",
    "- (Sometimes) Data Shall be Scaled"
   ]
  },
  {
   "cell_type": "markdown",
   "metadata": {
    "id": "BJ9aUKje4AX-"
   },
   "source": [
    "Before the split:\n",
    "- Remove Duplicates\n",
    "- Drop rows or columns with missing values\n",
    "- Fix inconsistent categories\n",
    "- Remove Outliers\n",
    "- Ordinal encode ordinal variables\n",
    "\n",
    "After the split:\n",
    "- Impute missing values\n",
    "- One-hot encode nominal variables\n",
    "- Scale Data"
   ]
  },
  {
   "cell_type": "markdown",
   "metadata": {
    "id": "HWzVpoYW6PWl"
   },
   "source": [
    "- most frequent causes data leakage before splitting\n",
    "- mean median and mode would cause data leakage before splitting"
   ]
  },
  {
   "cell_type": "markdown",
   "metadata": {
    "id": "sUV0TSS46qPy"
   },
   "source": [
    "Encoding"
   ]
  },
  {
   "cell_type": "markdown",
   "metadata": {
    "id": "qagb_BLX6ti4"
   },
   "source": [
    "- ordinal categorical - bad, better, best -  Ordinal Encoding (0,1,2)\n",
    "- nominal categorical - cat dog fish - OneHot encoding (create each own column for the category)"
   ]
  },
  {
   "cell_type": "markdown",
   "metadata": {
    "id": "SckpdN8w8rV8"
   },
   "source": [
    "Scaling"
   ]
  },
  {
   "cell_type": "markdown",
   "metadata": {
    "id": "9Lwyq7MU8so6"
   },
   "source": [
    "Standard Scaling (standard deviations)\n",
    "- centers the data on the mean (whatever mean is = 0)\n",
    "- if original number is 1 standard deviation away from the mean, then it would scale to a 1\n",
    "- it puts data on the same footing"
   ]
  },
  {
   "cell_type": "markdown",
   "metadata": {
    "id": "yC-FApSu9prS"
   },
   "source": [
    "**PreProcessing Process**\n",
    "\n",
    "Pipelines\n",
    "- combining Transformers (simpleimputers, onehot encoders, ect)\n",
    "- do multiple transformations in sequence\n",
    "- If you are just scaling something, doesnt need to be in a pipeline\n",
    "- works as a transformer\n",
    "\n",
    "Column Transformers\n",
    "- do diff transformations on diff subsets of the data\n",
    "- splitting up the data\n",
    "- apply one transformer to each subset of the column\n",
    "\n",
    "you can put pipelines inside of column transformers and visa versa"
   ]
  },
  {
   "cell_type": "markdown",
   "metadata": {
    "id": "DQe8WWSDHa8n"
   },
   "source": [
    "## Learning Platform Notes"
   ]
  },
  {
   "cell_type": "markdown",
   "metadata": {
    "id": "HYeAfQm_Ik9D"
   },
   "source": [
    "### Basic Types of Machine Learning - Supervised and Unsupervised"
   ]
  },
  {
   "cell_type": "markdown",
   "metadata": {
    "id": "4cvTKMZ-JvOu"
   },
   "source": [
    "#### Supervised"
   ]
  },
  {
   "cell_type": "markdown",
   "metadata": {
    "id": "KtWOTlcmKENP"
   },
   "source": [
    "![2023-03-26 16_01_45-Types of ML _ Wk 1_ Intro to Machine Learning and Pre-Processing and 7 more page.png](data:image/png;base64,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)"
   ]
  },
  {
   "cell_type": "markdown",
   "metadata": {
    "id": "AgBCvY3cJWOT"
   },
   "source": [
    "A feature is just one property of the data that is represented as a column. A target is the column of the dataset you want to make predictions for. Once a model learns the relationship between a **features matrix** (multiple columns are called a matrix) and a **target vector** (a single column is called a vector), it can make predictions for unseen or future data. Supervised learning can generally be thought to solve two different types of tasks"
   ]
  },
  {
   "cell_type": "markdown",
   "metadata": {
    "id": "4W_KLoDBJim0"
   },
   "source": [
    "**Regression** <br>\n",
    "Predict a continuous value. This is considered a regression problem. This means that your target vector contains continuous quantities like home prices."
   ]
  },
  {
   "cell_type": "markdown",
   "metadata": {
    "id": "yPrYGWtbJsnF"
   },
   "source": [
    "**Classification** <br>\n",
    "Predict a categorical value. This is considered a classification problem. This means your target vector contains categorical quantities like different flower species."
   ]
  },
  {
   "cell_type": "markdown",
   "metadata": {
    "id": "hOxNjB9RJ1bi"
   },
   "source": [
    "#### Unsupervised"
   ]
  },
  {
   "cell_type": "markdown",
   "metadata": {
    "id": "gmj08m60KMBk"
   },
   "source": [
    "![2023-03-26 16_02_18-Types of ML _ Wk 1_ Intro to Machine Learning and Pre-Processing and 7 more page.png](data:image/png;base64,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)"
   ]
  },
  {
   "cell_type": "markdown",
   "metadata": {
    "id": "vBhL9ArGJ8db"
   },
   "source": [
    "In machine learning, you aren’t always trying to predict a value. Sometimes your goal is to find some structure in your dataset. Unsupervised learning is when you train an algorithm without giving it answers for examples in your dataset. In the context of scikit-learn, this means that you only provide a feature matrix when you fit your algorithm. A features matrix is a two-dimensional grid of data where rows represent samples and columns represent features. Unlike supervised learning, **there is no target vector.**"
   ]
  },
  {
   "cell_type": "markdown",
   "metadata": {
    "id": "BmYHB1QJKWRr"
   },
   "source": [
    "Two common types"
   ]
  },
  {
   "cell_type": "markdown",
   "metadata": {
    "id": "Idr285BXKXbD"
   },
   "source": [
    "**Clustering**"
   ]
  },
  {
   "cell_type": "markdown",
   "metadata": {
    "id": "xEtAmIu_KkUq"
   },
   "source": [
    "used to discover natural groupings in a dataset."
   ]
  },
  {
   "cell_type": "markdown",
   "metadata": {
    "id": "hSnY95IiKbXd"
   },
   "source": [
    "**Dimensionality Reduction**"
   ]
  },
  {
   "cell_type": "markdown",
   "metadata": {
    "id": "eu7u24ACKsck"
   },
   "source": [
    "data compression algorithms, take up less space on your computer"
   ]
  },
  {
   "cell_type": "code",
   "execution_count": null,
   "metadata": {
    "id": "zYKBCS4CIqBk"
   },
   "outputs": [],
   "source": []
  },
  {
   "cell_type": "markdown",
   "metadata": {
    "id": "PPRCiBxCK1y8"
   },
   "source": [
    "### Stating the Supervised Machine Learning Problem"
   ]
  },
  {
   "cell_type": "markdown",
   "metadata": {
    "id": "rC39MzGHLAnV"
   },
   "source": [
    "**Goal of Supervised Learning** <br>\n",
    "The goal of supervised learning problems is to be able to make predictions based on the dataset you are provided. In order to make predictions on future unknown data, our computer will first have to \"learn\" from past cases where the answer is already known."
   ]
  },
  {
   "cell_type": "markdown",
   "metadata": {
    "id": "0hfCziQ5LyMP"
   },
   "source": [
    "![2023-03-26 16_09_20-Stating the Machine Learning Problem _ Wk 1_ Intro to Machine Learning and Pre-P.png](data:image/png;base64,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)"
   ]
  },
  {
   "cell_type": "markdown",
   "metadata": {
    "id": "J3UBsHOdLMwG"
   },
   "source": [
    "Example of Supervised Learning Question related to medical Charges: <br >How well can the charge be predicted based on the age, sex, bmi, number of children, smoking habit and region of the patient?"
   ]
  },
  {
   "cell_type": "markdown",
   "metadata": {
    "id": "eKcSNN0hLkgO"
   },
   "source": [
    "While we do already know the charges for the cases provided in the dataset, the ultimate goal will be to make predictions for cases where we don't yet know what the charges will be."
   ]
  },
  {
   "cell_type": "markdown",
   "metadata": {
    "id": "yKNBlc1nLqox"
   },
   "source": [
    "**Target (y)** <br>\n",
    "\n",
    "The target is the column we are trying to predict. In this case the \"charges\" column is the target."
   ]
  },
  {
   "cell_type": "markdown",
   "metadata": {
    "id": "zM_mIJKnL5Y1"
   },
   "source": [
    "**Features (X)** <br>\n",
    "\n",
    "The features are the columns we will use to make the prediction. In this case the other columns (\"age\", \"sex\", \"bmi\", \"children\", \"smoker\", \"region\") are the features."
   ]
  },
  {
   "cell_type": "markdown",
   "metadata": {
    "id": "QjZCX3BLMA9d"
   },
   "source": [
    "**Feature selection** is the process of selecting which features (columns) we want to use within our machine learning model. There are often columns that are not going to be helpful for the machine learning process. For example, a column that has unique values in every single row or a value that we know is not predictive (such as ID number or phone number) is not going to provide any useful information on trends that help us predict our target."
   ]
  },
  {
   "cell_type": "markdown",
   "metadata": {
    "id": "RiuLDW_8MV--"
   },
   "source": [
    "![2023-03-26 16_11_48-Stating the Machine Learning Problem _ Wk 1_ Intro to Machine Learning and Pre-P.png](data:image/png;base64,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)"
   ]
  },
  {
   "cell_type": "markdown",
   "metadata": {
    "id": "p2sZtAbBMNdM"
   },
   "source": [
    "Example below, we want to assign the target column to y and then the features to X"
   ]
  },
  {
   "cell_type": "code",
   "execution_count": null,
   "metadata": {
    "id": "hRUGN4C9MwLu"
   },
   "outputs": [],
   "source": [
    "import pandas as pd\n",
    "import numpy as np\n"
   ]
  },
  {
   "cell_type": "code",
   "execution_count": null,
   "metadata": {
    "id": "OvfMpnGWM111"
   },
   "outputs": [],
   "source": [
    "filename = '/content/drive/MyDrive/05 Week 5 - Intro to Machine Learning/0.CSV Files/insurance.csv'\n",
    "df = pd.read_csv(filename)"
   ]
  },
  {
   "cell_type": "code",
   "execution_count": null,
   "metadata": {
    "colab": {
     "base_uri": "https://localhost:8080/",
     "height": 206
    },
    "id": "fFeNPHnvNO6Z",
    "outputId": "7eb4aff8-1abb-4f26-9c12-42f1ea87bbd9"
   },
   "outputs": [
    {
     "data": {
      "text/html": [
       "\n",
       "  <div id=\"df-5d202deb-9edd-400e-9b90-d88ee08cd127\">\n",
       "    <div class=\"colab-df-container\">\n",
       "      <div>\n",
       "<style scoped>\n",
       "    .dataframe tbody tr th:only-of-type {\n",
       "        vertical-align: middle;\n",
       "    }\n",
       "\n",
       "    .dataframe tbody tr th {\n",
       "        vertical-align: top;\n",
       "    }\n",
       "\n",
       "    .dataframe thead th {\n",
       "        text-align: right;\n",
       "    }\n",
       "</style>\n",
       "<table border=\"1\" class=\"dataframe\">\n",
       "  <thead>\n",
       "    <tr style=\"text-align: right;\">\n",
       "      <th></th>\n",
       "      <th>age</th>\n",
       "      <th>sex</th>\n",
       "      <th>bmi</th>\n",
       "      <th>children</th>\n",
       "      <th>smoker</th>\n",
       "      <th>region</th>\n",
       "      <th>charges</th>\n",
       "    </tr>\n",
       "  </thead>\n",
       "  <tbody>\n",
       "    <tr>\n",
       "      <th>0</th>\n",
       "      <td>19</td>\n",
       "      <td>female</td>\n",
       "      <td>27.900</td>\n",
       "      <td>0</td>\n",
       "      <td>yes</td>\n",
       "      <td>southwest</td>\n",
       "      <td>16884.92400</td>\n",
       "    </tr>\n",
       "    <tr>\n",
       "      <th>1</th>\n",
       "      <td>18</td>\n",
       "      <td>male</td>\n",
       "      <td>33.770</td>\n",
       "      <td>1</td>\n",
       "      <td>no</td>\n",
       "      <td>southeast</td>\n",
       "      <td>1725.55230</td>\n",
       "    </tr>\n",
       "    <tr>\n",
       "      <th>2</th>\n",
       "      <td>28</td>\n",
       "      <td>male</td>\n",
       "      <td>33.000</td>\n",
       "      <td>3</td>\n",
       "      <td>no</td>\n",
       "      <td>southeast</td>\n",
       "      <td>4449.46200</td>\n",
       "    </tr>\n",
       "    <tr>\n",
       "      <th>3</th>\n",
       "      <td>33</td>\n",
       "      <td>male</td>\n",
       "      <td>22.705</td>\n",
       "      <td>0</td>\n",
       "      <td>no</td>\n",
       "      <td>northwest</td>\n",
       "      <td>21984.47061</td>\n",
       "    </tr>\n",
       "    <tr>\n",
       "      <th>4</th>\n",
       "      <td>32</td>\n",
       "      <td>male</td>\n",
       "      <td>28.880</td>\n",
       "      <td>0</td>\n",
       "      <td>no</td>\n",
       "      <td>northwest</td>\n",
       "      <td>3866.85520</td>\n",
       "    </tr>\n",
       "  </tbody>\n",
       "</table>\n",
       "</div>\n",
       "      <button class=\"colab-df-convert\" onclick=\"convertToInteractive('df-5d202deb-9edd-400e-9b90-d88ee08cd127')\"\n",
       "              title=\"Convert this dataframe to an interactive table.\"\n",
       "              style=\"display:none;\">\n",
       "        \n",
       "  <svg xmlns=\"http://www.w3.org/2000/svg\" height=\"24px\"viewBox=\"0 0 24 24\"\n",
       "       width=\"24px\">\n",
       "    <path d=\"M0 0h24v24H0V0z\" fill=\"none\"/>\n",
       "    <path d=\"M18.56 5.44l.94 2.06.94-2.06 2.06-.94-2.06-.94-.94-2.06-.94 2.06-2.06.94zm-11 1L8.5 8.5l.94-2.06 2.06-.94-2.06-.94L8.5 2.5l-.94 2.06-2.06.94zm10 10l.94 2.06.94-2.06 2.06-.94-2.06-.94-.94-2.06-.94 2.06-2.06.94z\"/><path d=\"M17.41 7.96l-1.37-1.37c-.4-.4-.92-.59-1.43-.59-.52 0-1.04.2-1.43.59L10.3 9.45l-7.72 7.72c-.78.78-.78 2.05 0 2.83L4 21.41c.39.39.9.59 1.41.59.51 0 1.02-.2 1.41-.59l7.78-7.78 2.81-2.81c.8-.78.8-2.07 0-2.86zM5.41 20L4 18.59l7.72-7.72 1.47 1.35L5.41 20z\"/>\n",
       "  </svg>\n",
       "      </button>\n",
       "      \n",
       "  <style>\n",
       "    .colab-df-container {\n",
       "      display:flex;\n",
       "      flex-wrap:wrap;\n",
       "      gap: 12px;\n",
       "    }\n",
       "\n",
       "    .colab-df-convert {\n",
       "      background-color: #E8F0FE;\n",
       "      border: none;\n",
       "      border-radius: 50%;\n",
       "      cursor: pointer;\n",
       "      display: none;\n",
       "      fill: #1967D2;\n",
       "      height: 32px;\n",
       "      padding: 0 0 0 0;\n",
       "      width: 32px;\n",
       "    }\n",
       "\n",
       "    .colab-df-convert:hover {\n",
       "      background-color: #E2EBFA;\n",
       "      box-shadow: 0px 1px 2px rgba(60, 64, 67, 0.3), 0px 1px 3px 1px rgba(60, 64, 67, 0.15);\n",
       "      fill: #174EA6;\n",
       "    }\n",
       "\n",
       "    [theme=dark] .colab-df-convert {\n",
       "      background-color: #3B4455;\n",
       "      fill: #D2E3FC;\n",
       "    }\n",
       "\n",
       "    [theme=dark] .colab-df-convert:hover {\n",
       "      background-color: #434B5C;\n",
       "      box-shadow: 0px 1px 3px 1px rgba(0, 0, 0, 0.15);\n",
       "      filter: drop-shadow(0px 1px 2px rgba(0, 0, 0, 0.3));\n",
       "      fill: #FFFFFF;\n",
       "    }\n",
       "  </style>\n",
       "\n",
       "      <script>\n",
       "        const buttonEl =\n",
       "          document.querySelector('#df-5d202deb-9edd-400e-9b90-d88ee08cd127 button.colab-df-convert');\n",
       "        buttonEl.style.display =\n",
       "          google.colab.kernel.accessAllowed ? 'block' : 'none';\n",
       "\n",
       "        async function convertToInteractive(key) {\n",
       "          const element = document.querySelector('#df-5d202deb-9edd-400e-9b90-d88ee08cd127');\n",
       "          const dataTable =\n",
       "            await google.colab.kernel.invokeFunction('convertToInteractive',\n",
       "                                                     [key], {});\n",
       "          if (!dataTable) return;\n",
       "\n",
       "          const docLinkHtml = 'Like what you see? Visit the ' +\n",
       "            '<a target=\"_blank\" href=https://colab.research.google.com/notebooks/data_table.ipynb>data table notebook</a>'\n",
       "            + ' to learn more about interactive tables.';\n",
       "          element.innerHTML = '';\n",
       "          dataTable['output_type'] = 'display_data';\n",
       "          await google.colab.output.renderOutput(dataTable, element);\n",
       "          const docLink = document.createElement('div');\n",
       "          docLink.innerHTML = docLinkHtml;\n",
       "          element.appendChild(docLink);\n",
       "        }\n",
       "      </script>\n",
       "    </div>\n",
       "  </div>\n",
       "  "
      ],
      "text/plain": [
       "   age     sex     bmi  children smoker     region      charges\n",
       "0   19  female  27.900         0    yes  southwest  16884.92400\n",
       "1   18    male  33.770         1     no  southeast   1725.55230\n",
       "2   28    male  33.000         3     no  southeast   4449.46200\n",
       "3   33    male  22.705         0     no  northwest  21984.47061\n",
       "4   32    male  28.880         0     no  northwest   3866.85520"
      ]
     },
     "execution_count": 4,
     "metadata": {},
     "output_type": "execute_result"
    }
   ],
   "source": [
    "df.head()"
   ]
  },
  {
   "cell_type": "code",
   "execution_count": null,
   "metadata": {
    "id": "dhu0P5YIMMnr"
   },
   "outputs": [],
   "source": [
    "# Assign the target column to y\n",
    "y = df['charges']\n",
    "# Assign the features to X (In this case we include all columns except the target column)\n",
    "X = df.drop(columns = 'charges')"
   ]
  },
  {
   "cell_type": "code",
   "execution_count": null,
   "metadata": {
    "colab": {
     "base_uri": "https://localhost:8080/"
    },
    "id": "zgupMfqbMeSg",
    "outputId": "6ac8b046-c786-4128-9049-7b6ed201e390"
   },
   "outputs": [
    {
     "data": {
      "text/plain": [
       "pandas.core.series.Series"
      ]
     },
     "execution_count": 6,
     "metadata": {},
     "output_type": "execute_result"
    }
   ],
   "source": [
    "type(y)\n",
    "# y is now a series"
   ]
  },
  {
   "cell_type": "code",
   "execution_count": null,
   "metadata": {
    "colab": {
     "base_uri": "https://localhost:8080/"
    },
    "id": "gPMcuJMqNWmG",
    "outputId": "bee8e44f-039f-4c01-843b-837ea631ca96"
   },
   "outputs": [
    {
     "data": {
      "text/plain": [
       "pandas.core.frame.DataFrame"
      ]
     },
     "execution_count": 7,
     "metadata": {},
     "output_type": "execute_result"
    }
   ],
   "source": [
    "type(X)\n",
    "#X is a dataframe"
   ]
  },
  {
   "cell_type": "code",
   "execution_count": null,
   "metadata": {
    "colab": {
     "base_uri": "https://localhost:8080/",
     "height": 206
    },
    "id": "CzXRm2iNNbrv",
    "outputId": "40d2490d-ef73-4cad-838d-e4a926f32d62"
   },
   "outputs": [
    {
     "data": {
      "text/html": [
       "\n",
       "  <div id=\"df-04ef64e5-916d-4097-9756-fb81eedb81c3\">\n",
       "    <div class=\"colab-df-container\">\n",
       "      <div>\n",
       "<style scoped>\n",
       "    .dataframe tbody tr th:only-of-type {\n",
       "        vertical-align: middle;\n",
       "    }\n",
       "\n",
       "    .dataframe tbody tr th {\n",
       "        vertical-align: top;\n",
       "    }\n",
       "\n",
       "    .dataframe thead th {\n",
       "        text-align: right;\n",
       "    }\n",
       "</style>\n",
       "<table border=\"1\" class=\"dataframe\">\n",
       "  <thead>\n",
       "    <tr style=\"text-align: right;\">\n",
       "      <th></th>\n",
       "      <th>age</th>\n",
       "      <th>sex</th>\n",
       "      <th>bmi</th>\n",
       "      <th>children</th>\n",
       "      <th>smoker</th>\n",
       "      <th>region</th>\n",
       "    </tr>\n",
       "  </thead>\n",
       "  <tbody>\n",
       "    <tr>\n",
       "      <th>0</th>\n",
       "      <td>19</td>\n",
       "      <td>female</td>\n",
       "      <td>27.900</td>\n",
       "      <td>0</td>\n",
       "      <td>yes</td>\n",
       "      <td>southwest</td>\n",
       "    </tr>\n",
       "    <tr>\n",
       "      <th>1</th>\n",
       "      <td>18</td>\n",
       "      <td>male</td>\n",
       "      <td>33.770</td>\n",
       "      <td>1</td>\n",
       "      <td>no</td>\n",
       "      <td>southeast</td>\n",
       "    </tr>\n",
       "    <tr>\n",
       "      <th>2</th>\n",
       "      <td>28</td>\n",
       "      <td>male</td>\n",
       "      <td>33.000</td>\n",
       "      <td>3</td>\n",
       "      <td>no</td>\n",
       "      <td>southeast</td>\n",
       "    </tr>\n",
       "    <tr>\n",
       "      <th>3</th>\n",
       "      <td>33</td>\n",
       "      <td>male</td>\n",
       "      <td>22.705</td>\n",
       "      <td>0</td>\n",
       "      <td>no</td>\n",
       "      <td>northwest</td>\n",
       "    </tr>\n",
       "    <tr>\n",
       "      <th>4</th>\n",
       "      <td>32</td>\n",
       "      <td>male</td>\n",
       "      <td>28.880</td>\n",
       "      <td>0</td>\n",
       "      <td>no</td>\n",
       "      <td>northwest</td>\n",
       "    </tr>\n",
       "  </tbody>\n",
       "</table>\n",
       "</div>\n",
       "      <button class=\"colab-df-convert\" onclick=\"convertToInteractive('df-04ef64e5-916d-4097-9756-fb81eedb81c3')\"\n",
       "              title=\"Convert this dataframe to an interactive table.\"\n",
       "              style=\"display:none;\">\n",
       "        \n",
       "  <svg xmlns=\"http://www.w3.org/2000/svg\" height=\"24px\"viewBox=\"0 0 24 24\"\n",
       "       width=\"24px\">\n",
       "    <path d=\"M0 0h24v24H0V0z\" fill=\"none\"/>\n",
       "    <path d=\"M18.56 5.44l.94 2.06.94-2.06 2.06-.94-2.06-.94-.94-2.06-.94 2.06-2.06.94zm-11 1L8.5 8.5l.94-2.06 2.06-.94-2.06-.94L8.5 2.5l-.94 2.06-2.06.94zm10 10l.94 2.06.94-2.06 2.06-.94-2.06-.94-.94-2.06-.94 2.06-2.06.94z\"/><path d=\"M17.41 7.96l-1.37-1.37c-.4-.4-.92-.59-1.43-.59-.52 0-1.04.2-1.43.59L10.3 9.45l-7.72 7.72c-.78.78-.78 2.05 0 2.83L4 21.41c.39.39.9.59 1.41.59.51 0 1.02-.2 1.41-.59l7.78-7.78 2.81-2.81c.8-.78.8-2.07 0-2.86zM5.41 20L4 18.59l7.72-7.72 1.47 1.35L5.41 20z\"/>\n",
       "  </svg>\n",
       "      </button>\n",
       "      \n",
       "  <style>\n",
       "    .colab-df-container {\n",
       "      display:flex;\n",
       "      flex-wrap:wrap;\n",
       "      gap: 12px;\n",
       "    }\n",
       "\n",
       "    .colab-df-convert {\n",
       "      background-color: #E8F0FE;\n",
       "      border: none;\n",
       "      border-radius: 50%;\n",
       "      cursor: pointer;\n",
       "      display: none;\n",
       "      fill: #1967D2;\n",
       "      height: 32px;\n",
       "      padding: 0 0 0 0;\n",
       "      width: 32px;\n",
       "    }\n",
       "\n",
       "    .colab-df-convert:hover {\n",
       "      background-color: #E2EBFA;\n",
       "      box-shadow: 0px 1px 2px rgba(60, 64, 67, 0.3), 0px 1px 3px 1px rgba(60, 64, 67, 0.15);\n",
       "      fill: #174EA6;\n",
       "    }\n",
       "\n",
       "    [theme=dark] .colab-df-convert {\n",
       "      background-color: #3B4455;\n",
       "      fill: #D2E3FC;\n",
       "    }\n",
       "\n",
       "    [theme=dark] .colab-df-convert:hover {\n",
       "      background-color: #434B5C;\n",
       "      box-shadow: 0px 1px 3px 1px rgba(0, 0, 0, 0.15);\n",
       "      filter: drop-shadow(0px 1px 2px rgba(0, 0, 0, 0.3));\n",
       "      fill: #FFFFFF;\n",
       "    }\n",
       "  </style>\n",
       "\n",
       "      <script>\n",
       "        const buttonEl =\n",
       "          document.querySelector('#df-04ef64e5-916d-4097-9756-fb81eedb81c3 button.colab-df-convert');\n",
       "        buttonEl.style.display =\n",
       "          google.colab.kernel.accessAllowed ? 'block' : 'none';\n",
       "\n",
       "        async function convertToInteractive(key) {\n",
       "          const element = document.querySelector('#df-04ef64e5-916d-4097-9756-fb81eedb81c3');\n",
       "          const dataTable =\n",
       "            await google.colab.kernel.invokeFunction('convertToInteractive',\n",
       "                                                     [key], {});\n",
       "          if (!dataTable) return;\n",
       "\n",
       "          const docLinkHtml = 'Like what you see? Visit the ' +\n",
       "            '<a target=\"_blank\" href=https://colab.research.google.com/notebooks/data_table.ipynb>data table notebook</a>'\n",
       "            + ' to learn more about interactive tables.';\n",
       "          element.innerHTML = '';\n",
       "          dataTable['output_type'] = 'display_data';\n",
       "          await google.colab.output.renderOutput(dataTable, element);\n",
       "          const docLink = document.createElement('div');\n",
       "          docLink.innerHTML = docLinkHtml;\n",
       "          element.appendChild(docLink);\n",
       "        }\n",
       "      </script>\n",
       "    </div>\n",
       "  </div>\n",
       "  "
      ],
      "text/plain": [
       "   age     sex     bmi  children smoker     region\n",
       "0   19  female  27.900         0    yes  southwest\n",
       "1   18    male  33.770         1     no  southeast\n",
       "2   28    male  33.000         3     no  southeast\n",
       "3   33    male  22.705         0     no  northwest\n",
       "4   32    male  28.880         0     no  northwest"
      ]
     },
     "execution_count": 8,
     "metadata": {},
     "output_type": "execute_result"
    }
   ],
   "source": [
    "X.head()\n"
   ]
  },
  {
   "cell_type": "markdown",
   "metadata": {
    "id": "erLaVNmRN_5T"
   },
   "source": [
    "### Train Test Split (Model Validation)"
   ]
  },
  {
   "cell_type": "markdown",
   "metadata": {
    "id": "9DPM2Tr3OP99"
   },
   "source": [
    "Train, Test, Split <br>\n",
    "1.  Split the dataset into two separate datasets: a training set and a testing set. The default split results in about 75% of the data going to your training set and about 25% going to your test set.\n",
    "2.  Train the model on the training set only!\n",
    "3.  Test the model on the testing set and evaluate the performance to simulate how it would do on new data that it did NOT train on."
   ]
  },
  {
   "cell_type": "markdown",
   "metadata": {
    "id": "6VJHKFhXQbsw"
   },
   "source": [
    "For this machine learning task, the goal is to predict the value (target) of homes based on a variety of features such as the age of the house, average rooms, etc. <br>\n",
    "\n",
    "This is a regression task because the target (house value which is represented by the column \"MedHouseVal\") is continuous."
   ]
  },
  {
   "cell_type": "code",
   "execution_count": null,
   "metadata": {
    "id": "L6aYzM6hQIcT"
   },
   "outputs": [],
   "source": [
    "filename2 = '/content/drive/MyDrive/05 Week 5 - Intro to Machine Learning/0.CSV Files/cali_housing.csv'\n",
    "df2 = pd.read_csv(filename2)"
   ]
  },
  {
   "cell_type": "code",
   "execution_count": null,
   "metadata": {
    "colab": {
     "base_uri": "https://localhost:8080/",
     "height": 206
    },
    "id": "uv0vUqZ2QTRt",
    "outputId": "0396def5-1535-48f4-a476-5de72b869935"
   },
   "outputs": [
    {
     "data": {
      "text/html": [
       "\n",
       "  <div id=\"df-76bd6111-8dc2-44ae-89a1-9c35356def73\">\n",
       "    <div class=\"colab-df-container\">\n",
       "      <div>\n",
       "<style scoped>\n",
       "    .dataframe tbody tr th:only-of-type {\n",
       "        vertical-align: middle;\n",
       "    }\n",
       "\n",
       "    .dataframe tbody tr th {\n",
       "        vertical-align: top;\n",
       "    }\n",
       "\n",
       "    .dataframe thead th {\n",
       "        text-align: right;\n",
       "    }\n",
       "</style>\n",
       "<table border=\"1\" class=\"dataframe\">\n",
       "  <thead>\n",
       "    <tr style=\"text-align: right;\">\n",
       "      <th></th>\n",
       "      <th>MedInc</th>\n",
       "      <th>HouseAge</th>\n",
       "      <th>AveRooms</th>\n",
       "      <th>AveBedrms</th>\n",
       "      <th>Population</th>\n",
       "      <th>AveOccup</th>\n",
       "      <th>Latitude</th>\n",
       "      <th>Longitude</th>\n",
       "      <th>MedHouseVal</th>\n",
       "    </tr>\n",
       "  </thead>\n",
       "  <tbody>\n",
       "    <tr>\n",
       "      <th>0</th>\n",
       "      <td>8.3252</td>\n",
       "      <td>41.0</td>\n",
       "      <td>6.984127</td>\n",
       "      <td>1.023810</td>\n",
       "      <td>322.0</td>\n",
       "      <td>2.555556</td>\n",
       "      <td>37.88</td>\n",
       "      <td>-122.23</td>\n",
       "      <td>4.526</td>\n",
       "    </tr>\n",
       "    <tr>\n",
       "      <th>1</th>\n",
       "      <td>8.3014</td>\n",
       "      <td>21.0</td>\n",
       "      <td>6.238137</td>\n",
       "      <td>0.971880</td>\n",
       "      <td>2401.0</td>\n",
       "      <td>2.109842</td>\n",
       "      <td>37.86</td>\n",
       "      <td>-122.22</td>\n",
       "      <td>3.585</td>\n",
       "    </tr>\n",
       "    <tr>\n",
       "      <th>2</th>\n",
       "      <td>7.2574</td>\n",
       "      <td>52.0</td>\n",
       "      <td>8.288136</td>\n",
       "      <td>1.073446</td>\n",
       "      <td>496.0</td>\n",
       "      <td>2.802260</td>\n",
       "      <td>37.85</td>\n",
       "      <td>-122.24</td>\n",
       "      <td>3.521</td>\n",
       "    </tr>\n",
       "    <tr>\n",
       "      <th>3</th>\n",
       "      <td>5.6431</td>\n",
       "      <td>52.0</td>\n",
       "      <td>5.817352</td>\n",
       "      <td>1.073059</td>\n",
       "      <td>558.0</td>\n",
       "      <td>2.547945</td>\n",
       "      <td>37.85</td>\n",
       "      <td>-122.25</td>\n",
       "      <td>3.413</td>\n",
       "    </tr>\n",
       "    <tr>\n",
       "      <th>4</th>\n",
       "      <td>3.8462</td>\n",
       "      <td>52.0</td>\n",
       "      <td>6.281853</td>\n",
       "      <td>1.081081</td>\n",
       "      <td>565.0</td>\n",
       "      <td>2.181467</td>\n",
       "      <td>37.85</td>\n",
       "      <td>-122.25</td>\n",
       "      <td>3.422</td>\n",
       "    </tr>\n",
       "  </tbody>\n",
       "</table>\n",
       "</div>\n",
       "      <button class=\"colab-df-convert\" onclick=\"convertToInteractive('df-76bd6111-8dc2-44ae-89a1-9c35356def73')\"\n",
       "              title=\"Convert this dataframe to an interactive table.\"\n",
       "              style=\"display:none;\">\n",
       "        \n",
       "  <svg xmlns=\"http://www.w3.org/2000/svg\" height=\"24px\"viewBox=\"0 0 24 24\"\n",
       "       width=\"24px\">\n",
       "    <path d=\"M0 0h24v24H0V0z\" fill=\"none\"/>\n",
       "    <path d=\"M18.56 5.44l.94 2.06.94-2.06 2.06-.94-2.06-.94-.94-2.06-.94 2.06-2.06.94zm-11 1L8.5 8.5l.94-2.06 2.06-.94-2.06-.94L8.5 2.5l-.94 2.06-2.06.94zm10 10l.94 2.06.94-2.06 2.06-.94-2.06-.94-.94-2.06-.94 2.06-2.06.94z\"/><path d=\"M17.41 7.96l-1.37-1.37c-.4-.4-.92-.59-1.43-.59-.52 0-1.04.2-1.43.59L10.3 9.45l-7.72 7.72c-.78.78-.78 2.05 0 2.83L4 21.41c.39.39.9.59 1.41.59.51 0 1.02-.2 1.41-.59l7.78-7.78 2.81-2.81c.8-.78.8-2.07 0-2.86zM5.41 20L4 18.59l7.72-7.72 1.47 1.35L5.41 20z\"/>\n",
       "  </svg>\n",
       "      </button>\n",
       "      \n",
       "  <style>\n",
       "    .colab-df-container {\n",
       "      display:flex;\n",
       "      flex-wrap:wrap;\n",
       "      gap: 12px;\n",
       "    }\n",
       "\n",
       "    .colab-df-convert {\n",
       "      background-color: #E8F0FE;\n",
       "      border: none;\n",
       "      border-radius: 50%;\n",
       "      cursor: pointer;\n",
       "      display: none;\n",
       "      fill: #1967D2;\n",
       "      height: 32px;\n",
       "      padding: 0 0 0 0;\n",
       "      width: 32px;\n",
       "    }\n",
       "\n",
       "    .colab-df-convert:hover {\n",
       "      background-color: #E2EBFA;\n",
       "      box-shadow: 0px 1px 2px rgba(60, 64, 67, 0.3), 0px 1px 3px 1px rgba(60, 64, 67, 0.15);\n",
       "      fill: #174EA6;\n",
       "    }\n",
       "\n",
       "    [theme=dark] .colab-df-convert {\n",
       "      background-color: #3B4455;\n",
       "      fill: #D2E3FC;\n",
       "    }\n",
       "\n",
       "    [theme=dark] .colab-df-convert:hover {\n",
       "      background-color: #434B5C;\n",
       "      box-shadow: 0px 1px 3px 1px rgba(0, 0, 0, 0.15);\n",
       "      filter: drop-shadow(0px 1px 2px rgba(0, 0, 0, 0.3));\n",
       "      fill: #FFFFFF;\n",
       "    }\n",
       "  </style>\n",
       "\n",
       "      <script>\n",
       "        const buttonEl =\n",
       "          document.querySelector('#df-76bd6111-8dc2-44ae-89a1-9c35356def73 button.colab-df-convert');\n",
       "        buttonEl.style.display =\n",
       "          google.colab.kernel.accessAllowed ? 'block' : 'none';\n",
       "\n",
       "        async function convertToInteractive(key) {\n",
       "          const element = document.querySelector('#df-76bd6111-8dc2-44ae-89a1-9c35356def73');\n",
       "          const dataTable =\n",
       "            await google.colab.kernel.invokeFunction('convertToInteractive',\n",
       "                                                     [key], {});\n",
       "          if (!dataTable) return;\n",
       "\n",
       "          const docLinkHtml = 'Like what you see? Visit the ' +\n",
       "            '<a target=\"_blank\" href=https://colab.research.google.com/notebooks/data_table.ipynb>data table notebook</a>'\n",
       "            + ' to learn more about interactive tables.';\n",
       "          element.innerHTML = '';\n",
       "          dataTable['output_type'] = 'display_data';\n",
       "          await google.colab.output.renderOutput(dataTable, element);\n",
       "          const docLink = document.createElement('div');\n",
       "          docLink.innerHTML = docLinkHtml;\n",
       "          element.appendChild(docLink);\n",
       "        }\n",
       "      </script>\n",
       "    </div>\n",
       "  </div>\n",
       "  "
      ],
      "text/plain": [
       "   MedInc  HouseAge  AveRooms  AveBedrms  Population  AveOccup  Latitude  \\\n",
       "0  8.3252      41.0  6.984127   1.023810       322.0  2.555556     37.88   \n",
       "1  8.3014      21.0  6.238137   0.971880      2401.0  2.109842     37.86   \n",
       "2  7.2574      52.0  8.288136   1.073446       496.0  2.802260     37.85   \n",
       "3  5.6431      52.0  5.817352   1.073059       558.0  2.547945     37.85   \n",
       "4  3.8462      52.0  6.281853   1.081081       565.0  2.181467     37.85   \n",
       "\n",
       "   Longitude  MedHouseVal  \n",
       "0    -122.23        4.526  \n",
       "1    -122.22        3.585  \n",
       "2    -122.24        3.521  \n",
       "3    -122.25        3.413  \n",
       "4    -122.25        3.422  "
      ]
     },
     "execution_count": 10,
     "metadata": {},
     "output_type": "execute_result"
    }
   ],
   "source": [
    "df2.head()"
   ]
  },
  {
   "cell_type": "code",
   "execution_count": null,
   "metadata": {
    "colab": {
     "base_uri": "https://localhost:8080/"
    },
    "id": "9sbv2uVsQi16",
    "outputId": "0b951ed7-a410-4f46-ddfd-4b28be29e84e"
   },
   "outputs": [
    {
     "name": "stdout",
     "output_type": "stream",
     "text": [
      "<class 'pandas.core.frame.DataFrame'>\n",
      "RangeIndex: 1338 entries, 0 to 1337\n",
      "Data columns (total 7 columns):\n",
      " #   Column    Non-Null Count  Dtype  \n",
      "---  ------    --------------  -----  \n",
      " 0   age       1338 non-null   int64  \n",
      " 1   sex       1338 non-null   object \n",
      " 2   bmi       1338 non-null   float64\n",
      " 3   children  1338 non-null   int64  \n",
      " 4   smoker    1338 non-null   object \n",
      " 5   region    1338 non-null   object \n",
      " 6   charges   1338 non-null   float64\n",
      "dtypes: float64(2), int64(2), object(3)\n",
      "memory usage: 73.3+ KB\n"
     ]
    }
   ],
   "source": [
    "df.info()"
   ]
  },
  {
   "cell_type": "code",
   "execution_count": null,
   "metadata": {
    "id": "pBZRj95yQiy5"
   },
   "outputs": [],
   "source": [
    "# The target we are trying to predict\n",
    "y = df2['MedHouseVal']\n",
    "# The features we will use to make the prediction\n",
    "X = df2.drop(columns = 'MedHouseVal')"
   ]
  },
  {
   "cell_type": "code",
   "execution_count": null,
   "metadata": {
    "id": "E4uLyVZNQivp"
   },
   "outputs": [],
   "source": [
    "# Import the TTS from sklearn\n",
    "from sklearn.model_selection import train_test_split\n",
    "# Train test split \n",
    "X_train, X_test, y_train, y_test = train_test_split(X, y, random_state=42)\n"
   ]
  },
  {
   "cell_type": "markdown",
   "metadata": {
    "id": "J9lPvVGAQ9Hd"
   },
   "source": [
    "From our original X dataframe, we get two new dataframes: <br>\n",
    "\n",
    "1.  X_train is the data we will use to train the model and contains only the features\n",
    "2.  X_test is the data we set aside for testing (evaluating) our model and contains only features"
   ]
  },
  {
   "cell_type": "markdown",
   "metadata": {
    "id": "T4UTkDKSRF7y"
   },
   "source": [
    "From our original y series, we get two new series: <br>\n",
    "\n",
    "1.  y_train contains the target values for the data corresponding to the X_train features\n",
    "2.  y_test contains the target values for the data we have set aside for testing corresponding to the X_test features"
   ]
  },
  {
   "cell_type": "code",
   "execution_count": null,
   "metadata": {
    "colab": {
     "base_uri": "https://localhost:8080/"
    },
    "id": "o9S2505-RQy1",
    "outputId": "62d66d4b-452f-48d4-ef30-e697e762a572"
   },
   "outputs": [
    {
     "data": {
      "text/plain": [
       "15480"
      ]
     },
     "execution_count": 15,
     "metadata": {},
     "output_type": "execute_result"
    }
   ],
   "source": [
    "len(X_train)\n"
   ]
  },
  {
   "cell_type": "markdown",
   "metadata": {
    "id": "Zy0SIGUuRVIv"
   },
   "source": [
    "The output above shows that of the original 20640 rows, there are 15480 rows in the training set. (This is 75% of the values)"
   ]
  },
  {
   "cell_type": "code",
   "execution_count": null,
   "metadata": {
    "colab": {
     "base_uri": "https://localhost:8080/"
    },
    "id": "_lZKIvANRXC8",
    "outputId": "f750bc6f-7859-4997-8e74-5973578e855b"
   },
   "outputs": [
    {
     "data": {
      "text/plain": [
       "5160"
      ]
     },
     "execution_count": 16,
     "metadata": {},
     "output_type": "execute_result"
    }
   ],
   "source": [
    "len(X_test)\n"
   ]
  },
  {
   "cell_type": "code",
   "execution_count": null,
   "metadata": {
    "colab": {
     "base_uri": "https://localhost:8080/"
    },
    "id": "pBryLXo7Rdau",
    "outputId": "5dc12388-48cf-474d-c1aa-0c5d9841fa85"
   },
   "outputs": [
    {
     "data": {
      "text/plain": [
       "15480"
      ]
     },
     "execution_count": 17,
     "metadata": {},
     "output_type": "execute_result"
    }
   ],
   "source": [
    "len(y_train)\n"
   ]
  },
  {
   "cell_type": "code",
   "execution_count": null,
   "metadata": {
    "colab": {
     "base_uri": "https://localhost:8080/"
    },
    "id": "HiV8Sm0BRgUO",
    "outputId": "de43a062-b03e-463e-b04a-0bd18db342dc"
   },
   "outputs": [
    {
     "data": {
      "text/plain": [
       "5160"
      ]
     },
     "execution_count": 18,
     "metadata": {},
     "output_type": "execute_result"
    }
   ],
   "source": [
    "len(y_test)\n"
   ]
  },
  {
   "cell_type": "markdown",
   "metadata": {
    "id": "AhyO1LqtRZ_V"
   },
   "source": [
    "The output above shows that of the original 20640 rows, there are 5160 rows in the test set. (This is 25% of the values)"
   ]
  },
  {
   "cell_type": "markdown",
   "metadata": {
    "id": "jQgRLYGCLjmD"
   },
   "source": [
    "### Types of Features\n"
   ]
  },
  {
   "cell_type": "markdown",
   "metadata": {
    "id": "ZFw7ti6ELsXo"
   },
   "source": [
    "Numeric Features - Integers & Floats"
   ]
  },
  {
   "cell_type": "markdown",
   "metadata": {
    "id": "ZmNBazXzLwIe"
   },
   "source": [
    "Ordinal Features - Categories that represent different classes\n",
    "\n",
    "\n",
    "*   They can be strings or integers if the integer represents an ordered class.\n",
    "*   low, medium, high\n",
    "*   one star, two stars, three stars\n",
    "\n"
   ]
  },
  {
   "cell_type": "markdown",
   "metadata": {
    "id": "yjYnwGv7PVHy"
   },
   "source": [
    "Categorical Features (nominal) - Categories that represent different classes NOT ORDERED\n",
    "*  strings or integers\n",
    "* male, female, nonbinary\n",
    "* 0, 1, 2 where 0 is single, 1 is married and 2 is divorced"
   ]
  },
  {
   "cell_type": "markdown",
   "metadata": {
    "id": "k812Tjn3PqFy"
   },
   "source": [
    "### Transforming Features"
   ]
  },
  {
   "cell_type": "markdown",
   "metadata": {
    "id": "Xuda_uQZPuQx"
   },
   "source": [
    "Numeric Features - already numeric, scaling may be required (discussed later)"
   ]
  },
  {
   "cell_type": "markdown",
   "metadata": {
    "id": "yvo568SlPyvD"
   },
   "source": [
    "Ordinal Features - If strings, need to be mapped to numeric\n",
    "-  low, medium, high = 0, 1, 2\n",
    "-  one star, two star, three star = 0, 1, 2"
   ]
  },
  {
   "cell_type": "markdown",
   "metadata": {
    "id": "cKUHhgKNQDMK"
   },
   "source": [
    "#### Example in Dataset (code)"
   ]
  },
  {
   "cell_type": "code",
   "execution_count": null,
   "metadata": {
    "colab": {
     "base_uri": "https://localhost:8080/",
     "height": 206
    },
    "id": "cWVLFUa3QC9U",
    "outputId": "3e8d5b66-32b4-457c-a766-cc97d79db57c"
   },
   "outputs": [
    {
     "data": {
      "text/html": [
       "\n",
       "  <div id=\"df-c1925734-3386-4eb2-9a49-633fb5c748ea\">\n",
       "    <div class=\"colab-df-container\">\n",
       "      <div>\n",
       "<style scoped>\n",
       "    .dataframe tbody tr th:only-of-type {\n",
       "        vertical-align: middle;\n",
       "    }\n",
       "\n",
       "    .dataframe tbody tr th {\n",
       "        vertical-align: top;\n",
       "    }\n",
       "\n",
       "    .dataframe thead th {\n",
       "        text-align: right;\n",
       "    }\n",
       "</style>\n",
       "<table border=\"1\" class=\"dataframe\">\n",
       "  <thead>\n",
       "    <tr style=\"text-align: right;\">\n",
       "      <th></th>\n",
       "      <th>Size</th>\n",
       "      <th>Color</th>\n",
       "      <th>Cost</th>\n",
       "      <th>Sold</th>\n",
       "    </tr>\n",
       "  </thead>\n",
       "  <tbody>\n",
       "    <tr>\n",
       "      <th>0</th>\n",
       "      <td>S</td>\n",
       "      <td>Blue</td>\n",
       "      <td>5.00</td>\n",
       "      <td>Y</td>\n",
       "    </tr>\n",
       "    <tr>\n",
       "      <th>1</th>\n",
       "      <td>M</td>\n",
       "      <td>Red</td>\n",
       "      <td>7.49</td>\n",
       "      <td>Y</td>\n",
       "    </tr>\n",
       "    <tr>\n",
       "      <th>2</th>\n",
       "      <td>M</td>\n",
       "      <td>Green</td>\n",
       "      <td>8.00</td>\n",
       "      <td>N</td>\n",
       "    </tr>\n",
       "    <tr>\n",
       "      <th>3</th>\n",
       "      <td>XL</td>\n",
       "      <td>Green</td>\n",
       "      <td>4.00</td>\n",
       "      <td>N</td>\n",
       "    </tr>\n",
       "    <tr>\n",
       "      <th>4</th>\n",
       "      <td>L</td>\n",
       "      <td>Red</td>\n",
       "      <td>9.99</td>\n",
       "      <td>Y</td>\n",
       "    </tr>\n",
       "  </tbody>\n",
       "</table>\n",
       "</div>\n",
       "      <button class=\"colab-df-convert\" onclick=\"convertToInteractive('df-c1925734-3386-4eb2-9a49-633fb5c748ea')\"\n",
       "              title=\"Convert this dataframe to an interactive table.\"\n",
       "              style=\"display:none;\">\n",
       "        \n",
       "  <svg xmlns=\"http://www.w3.org/2000/svg\" height=\"24px\"viewBox=\"0 0 24 24\"\n",
       "       width=\"24px\">\n",
       "    <path d=\"M0 0h24v24H0V0z\" fill=\"none\"/>\n",
       "    <path d=\"M18.56 5.44l.94 2.06.94-2.06 2.06-.94-2.06-.94-.94-2.06-.94 2.06-2.06.94zm-11 1L8.5 8.5l.94-2.06 2.06-.94-2.06-.94L8.5 2.5l-.94 2.06-2.06.94zm10 10l.94 2.06.94-2.06 2.06-.94-2.06-.94-.94-2.06-.94 2.06-2.06.94z\"/><path d=\"M17.41 7.96l-1.37-1.37c-.4-.4-.92-.59-1.43-.59-.52 0-1.04.2-1.43.59L10.3 9.45l-7.72 7.72c-.78.78-.78 2.05 0 2.83L4 21.41c.39.39.9.59 1.41.59.51 0 1.02-.2 1.41-.59l7.78-7.78 2.81-2.81c.8-.78.8-2.07 0-2.86zM5.41 20L4 18.59l7.72-7.72 1.47 1.35L5.41 20z\"/>\n",
       "  </svg>\n",
       "      </button>\n",
       "      \n",
       "  <style>\n",
       "    .colab-df-container {\n",
       "      display:flex;\n",
       "      flex-wrap:wrap;\n",
       "      gap: 12px;\n",
       "    }\n",
       "\n",
       "    .colab-df-convert {\n",
       "      background-color: #E8F0FE;\n",
       "      border: none;\n",
       "      border-radius: 50%;\n",
       "      cursor: pointer;\n",
       "      display: none;\n",
       "      fill: #1967D2;\n",
       "      height: 32px;\n",
       "      padding: 0 0 0 0;\n",
       "      width: 32px;\n",
       "    }\n",
       "\n",
       "    .colab-df-convert:hover {\n",
       "      background-color: #E2EBFA;\n",
       "      box-shadow: 0px 1px 2px rgba(60, 64, 67, 0.3), 0px 1px 3px 1px rgba(60, 64, 67, 0.15);\n",
       "      fill: #174EA6;\n",
       "    }\n",
       "\n",
       "    [theme=dark] .colab-df-convert {\n",
       "      background-color: #3B4455;\n",
       "      fill: #D2E3FC;\n",
       "    }\n",
       "\n",
       "    [theme=dark] .colab-df-convert:hover {\n",
       "      background-color: #434B5C;\n",
       "      box-shadow: 0px 1px 3px 1px rgba(0, 0, 0, 0.15);\n",
       "      filter: drop-shadow(0px 1px 2px rgba(0, 0, 0, 0.3));\n",
       "      fill: #FFFFFF;\n",
       "    }\n",
       "  </style>\n",
       "\n",
       "      <script>\n",
       "        const buttonEl =\n",
       "          document.querySelector('#df-c1925734-3386-4eb2-9a49-633fb5c748ea button.colab-df-convert');\n",
       "        buttonEl.style.display =\n",
       "          google.colab.kernel.accessAllowed ? 'block' : 'none';\n",
       "\n",
       "        async function convertToInteractive(key) {\n",
       "          const element = document.querySelector('#df-c1925734-3386-4eb2-9a49-633fb5c748ea');\n",
       "          const dataTable =\n",
       "            await google.colab.kernel.invokeFunction('convertToInteractive',\n",
       "                                                     [key], {});\n",
       "          if (!dataTable) return;\n",
       "\n",
       "          const docLinkHtml = 'Like what you see? Visit the ' +\n",
       "            '<a target=\"_blank\" href=https://colab.research.google.com/notebooks/data_table.ipynb>data table notebook</a>'\n",
       "            + ' to learn more about interactive tables.';\n",
       "          element.innerHTML = '';\n",
       "          dataTable['output_type'] = 'display_data';\n",
       "          await google.colab.output.renderOutput(dataTable, element);\n",
       "          const docLink = document.createElement('div');\n",
       "          docLink.innerHTML = docLinkHtml;\n",
       "          element.appendChild(docLink);\n",
       "        }\n",
       "      </script>\n",
       "    </div>\n",
       "  </div>\n",
       "  "
      ],
      "text/plain": [
       "  Size  Color  Cost Sold\n",
       "0    S   Blue  5.00    Y\n",
       "1    M    Red  7.49    Y\n",
       "2    M  Green  8.00    N\n",
       "3   XL  Green  4.00    N\n",
       "4    L    Red  9.99    Y"
      ]
     },
     "execution_count": 2,
     "metadata": {},
     "output_type": "execute_result"
    }
   ],
   "source": [
    "import pandas as pd\n",
    "from sklearn.model_selection import train_test_split\n",
    "df = pd.read_excel('/content/drive/MyDrive/05 Week 5 - Intro to Machine Learning/0.Excel Files/Tshirt.xlsx')\n",
    "df.head()"
   ]
  },
  {
   "cell_type": "code",
   "execution_count": null,
   "metadata": {
    "id": "fQqn0nn5Qn5Z"
   },
   "outputs": [],
   "source": [
    "# assign target y and features X\n",
    "y = df['Sold']\n",
    "X = df.drop(columns = 'Sold')\n",
    "# Train test split\n",
    "X_train, X_test, y_train, y_test = train_test_split(X, y, random_state = 42)"
   ]
  },
  {
   "cell_type": "markdown",
   "metadata": {
    "id": "wwpFqsReQwBc"
   },
   "source": [
    "Replacing the Ordinal feature (Size) with Numbers"
   ]
  },
  {
   "cell_type": "code",
   "execution_count": null,
   "metadata": {
    "colab": {
     "base_uri": "https://localhost:8080/",
     "height": 206
    },
    "id": "KUBqF-32QsQr",
    "outputId": "101a2103-c933-4a6a-930b-3a2bed2110fd"
   },
   "outputs": [
    {
     "data": {
      "text/html": [
       "\n",
       "  <div id=\"df-fe62b86c-f91d-4993-9622-b96b41af9e07\">\n",
       "    <div class=\"colab-df-container\">\n",
       "      <div>\n",
       "<style scoped>\n",
       "    .dataframe tbody tr th:only-of-type {\n",
       "        vertical-align: middle;\n",
       "    }\n",
       "\n",
       "    .dataframe tbody tr th {\n",
       "        vertical-align: top;\n",
       "    }\n",
       "\n",
       "    .dataframe thead th {\n",
       "        text-align: right;\n",
       "    }\n",
       "</style>\n",
       "<table border=\"1\" class=\"dataframe\">\n",
       "  <thead>\n",
       "    <tr style=\"text-align: right;\">\n",
       "      <th></th>\n",
       "      <th>Size</th>\n",
       "      <th>Color</th>\n",
       "      <th>Cost</th>\n",
       "    </tr>\n",
       "  </thead>\n",
       "  <tbody>\n",
       "    <tr>\n",
       "      <th>0</th>\n",
       "      <td>0</td>\n",
       "      <td>Blue</td>\n",
       "      <td>5.00</td>\n",
       "    </tr>\n",
       "    <tr>\n",
       "      <th>8</th>\n",
       "      <td>0</td>\n",
       "      <td>Green</td>\n",
       "      <td>9.00</td>\n",
       "    </tr>\n",
       "    <tr>\n",
       "      <th>2</th>\n",
       "      <td>1</td>\n",
       "      <td>Green</td>\n",
       "      <td>8.00</td>\n",
       "    </tr>\n",
       "    <tr>\n",
       "      <th>4</th>\n",
       "      <td>2</td>\n",
       "      <td>Red</td>\n",
       "      <td>9.99</td>\n",
       "    </tr>\n",
       "    <tr>\n",
       "      <th>3</th>\n",
       "      <td>3</td>\n",
       "      <td>Green</td>\n",
       "      <td>4.00</td>\n",
       "    </tr>\n",
       "  </tbody>\n",
       "</table>\n",
       "</div>\n",
       "      <button class=\"colab-df-convert\" onclick=\"convertToInteractive('df-fe62b86c-f91d-4993-9622-b96b41af9e07')\"\n",
       "              title=\"Convert this dataframe to an interactive table.\"\n",
       "              style=\"display:none;\">\n",
       "        \n",
       "  <svg xmlns=\"http://www.w3.org/2000/svg\" height=\"24px\"viewBox=\"0 0 24 24\"\n",
       "       width=\"24px\">\n",
       "    <path d=\"M0 0h24v24H0V0z\" fill=\"none\"/>\n",
       "    <path d=\"M18.56 5.44l.94 2.06.94-2.06 2.06-.94-2.06-.94-.94-2.06-.94 2.06-2.06.94zm-11 1L8.5 8.5l.94-2.06 2.06-.94-2.06-.94L8.5 2.5l-.94 2.06-2.06.94zm10 10l.94 2.06.94-2.06 2.06-.94-2.06-.94-.94-2.06-.94 2.06-2.06.94z\"/><path d=\"M17.41 7.96l-1.37-1.37c-.4-.4-.92-.59-1.43-.59-.52 0-1.04.2-1.43.59L10.3 9.45l-7.72 7.72c-.78.78-.78 2.05 0 2.83L4 21.41c.39.39.9.59 1.41.59.51 0 1.02-.2 1.41-.59l7.78-7.78 2.81-2.81c.8-.78.8-2.07 0-2.86zM5.41 20L4 18.59l7.72-7.72 1.47 1.35L5.41 20z\"/>\n",
       "  </svg>\n",
       "      </button>\n",
       "      \n",
       "  <style>\n",
       "    .colab-df-container {\n",
       "      display:flex;\n",
       "      flex-wrap:wrap;\n",
       "      gap: 12px;\n",
       "    }\n",
       "\n",
       "    .colab-df-convert {\n",
       "      background-color: #E8F0FE;\n",
       "      border: none;\n",
       "      border-radius: 50%;\n",
       "      cursor: pointer;\n",
       "      display: none;\n",
       "      fill: #1967D2;\n",
       "      height: 32px;\n",
       "      padding: 0 0 0 0;\n",
       "      width: 32px;\n",
       "    }\n",
       "\n",
       "    .colab-df-convert:hover {\n",
       "      background-color: #E2EBFA;\n",
       "      box-shadow: 0px 1px 2px rgba(60, 64, 67, 0.3), 0px 1px 3px 1px rgba(60, 64, 67, 0.15);\n",
       "      fill: #174EA6;\n",
       "    }\n",
       "\n",
       "    [theme=dark] .colab-df-convert {\n",
       "      background-color: #3B4455;\n",
       "      fill: #D2E3FC;\n",
       "    }\n",
       "\n",
       "    [theme=dark] .colab-df-convert:hover {\n",
       "      background-color: #434B5C;\n",
       "      box-shadow: 0px 1px 3px 1px rgba(0, 0, 0, 0.15);\n",
       "      filter: drop-shadow(0px 1px 2px rgba(0, 0, 0, 0.3));\n",
       "      fill: #FFFFFF;\n",
       "    }\n",
       "  </style>\n",
       "\n",
       "      <script>\n",
       "        const buttonEl =\n",
       "          document.querySelector('#df-fe62b86c-f91d-4993-9622-b96b41af9e07 button.colab-df-convert');\n",
       "        buttonEl.style.display =\n",
       "          google.colab.kernel.accessAllowed ? 'block' : 'none';\n",
       "\n",
       "        async function convertToInteractive(key) {\n",
       "          const element = document.querySelector('#df-fe62b86c-f91d-4993-9622-b96b41af9e07');\n",
       "          const dataTable =\n",
       "            await google.colab.kernel.invokeFunction('convertToInteractive',\n",
       "                                                     [key], {});\n",
       "          if (!dataTable) return;\n",
       "\n",
       "          const docLinkHtml = 'Like what you see? Visit the ' +\n",
       "            '<a target=\"_blank\" href=https://colab.research.google.com/notebooks/data_table.ipynb>data table notebook</a>'\n",
       "            + ' to learn more about interactive tables.';\n",
       "          element.innerHTML = '';\n",
       "          dataTable['output_type'] = 'display_data';\n",
       "          await google.colab.output.renderOutput(dataTable, element);\n",
       "          const docLink = document.createElement('div');\n",
       "          docLink.innerHTML = docLinkHtml;\n",
       "          element.appendChild(docLink);\n",
       "        }\n",
       "      </script>\n",
       "    </div>\n",
       "  </div>\n",
       "  "
      ],
      "text/plain": [
       "   Size  Color  Cost\n",
       "0     0   Blue  5.00\n",
       "8     0  Green  9.00\n",
       "2     1  Green  8.00\n",
       "4     2    Red  9.99\n",
       "3     3  Green  4.00"
      ]
     },
     "execution_count": 4,
     "metadata": {},
     "output_type": "execute_result"
    }
   ],
   "source": [
    "# define dictionary to replace\n",
    "sizes = {'S': 0, 'M': 1, 'L': 2, 'XL': 3}\n",
    "# apply the dictionary to the column in the train set\n",
    "X_train['Size'] = X_train['Size'].replace(sizes)\n",
    "X_test['Size'] = X_test['Size'].replace(sizes)\n",
    "# view the dataframe to make sure it worked\n",
    "X_train.head()"
   ]
  },
  {
   "cell_type": "markdown",
   "metadata": {
    "id": "6PsXZJrhQ77k"
   },
   "source": [
    "Transforming Categorical (Nominal) Features"
   ]
  },
  {
   "cell_type": "markdown",
   "metadata": {
    "id": "FzJYzRBXQ-_K"
   },
   "source": [
    "You don't want to just give each category a number, because they are unordered and no color is higher in value then another (blue, green, ect)\n",
    "\n",
    "-  Deal with this by one-hot encosing categories\n",
    "-  Creates a binary column for each class in the column\n",
    "- Color in the above data set is a nominal feature\n",
    "\n"
   ]
  },
  {
   "cell_type": "markdown",
   "metadata": {
    "id": "mqPgsai9RWU9"
   },
   "source": [
    "![2023-03-27 20_31_40-Types of Features _ Wk 1_ Intro to Machine Learning and Pre-Processing and 6 mor.png](data:image/png;base64,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)"
   ]
  },
  {
   "cell_type": "markdown",
   "metadata": {
    "id": "Lgm_VDnpR1hW"
   },
   "source": [
    "### Standardization and Scaling Data"
   ]
  },
  {
   "cell_type": "markdown",
   "metadata": {
    "id": "A2AOasRXSBhi"
   },
   "source": [
    "**Scale** - Change the range of values (like a model of a building has the same scale as the real one its just proportions are smaller"
   ]
  },
  {
   "cell_type": "markdown",
   "metadata": {
    "id": "NDvmJ0Y-SNjz"
   },
   "source": [
    "**Standardize** - a kind of scaling. It means scaling the values so that the distribution has a standard deviation of 1 with a mean of 0. It outputs something very close to a normal distribution\n",
    "-  standardized_feature = (feature - mean_of_feature) / std_dev_of_feature\n",
    "-  scaler only fit on the training set (generaly scaling of y target values is not required)\n",
    "- calculates the means and standard deviations of each feature in the set\n",
    "\n"
   ]
  },
  {
   "cell_type": "markdown",
   "metadata": {
    "id": "A9gMoXmAS7B9"
   },
   "source": [
    "#### Example in Dataset (code)"
   ]
  },
  {
   "cell_type": "code",
   "execution_count": null,
   "metadata": {
    "id": "l8CabaXITJup"
   },
   "outputs": [],
   "source": [
    "import pandas as pd\n",
    "import numpy as np\n",
    "from sklearn.preprocessing import StandardScaler\n",
    "from sklearn.model_selection import train_test_split\n"
   ]
  },
  {
   "cell_type": "code",
   "execution_count": null,
   "metadata": {
    "colab": {
     "base_uri": "https://localhost:8080/",
     "height": 206
    },
    "id": "_zvco_DDTNVr",
    "outputId": "ef533d95-6f4d-4add-f206-49a12080e329"
   },
   "outputs": [
    {
     "data": {
      "text/html": [
       "\n",
       "  <div id=\"df-72ebf602-795e-41bb-912d-ca0da91289f9\">\n",
       "    <div class=\"colab-df-container\">\n",
       "      <div>\n",
       "<style scoped>\n",
       "    .dataframe tbody tr th:only-of-type {\n",
       "        vertical-align: middle;\n",
       "    }\n",
       "\n",
       "    .dataframe tbody tr th {\n",
       "        vertical-align: top;\n",
       "    }\n",
       "\n",
       "    .dataframe thead th {\n",
       "        text-align: right;\n",
       "    }\n",
       "</style>\n",
       "<table border=\"1\" class=\"dataframe\">\n",
       "  <thead>\n",
       "    <tr style=\"text-align: right;\">\n",
       "      <th></th>\n",
       "      <th>Sold</th>\n",
       "      <th>SqFt</th>\n",
       "      <th>Price</th>\n",
       "    </tr>\n",
       "  </thead>\n",
       "  <tbody>\n",
       "    <tr>\n",
       "      <th>0</th>\n",
       "      <td>1</td>\n",
       "      <td>200</td>\n",
       "      <td>906442</td>\n",
       "    </tr>\n",
       "    <tr>\n",
       "      <th>1</th>\n",
       "      <td>0</td>\n",
       "      <td>425</td>\n",
       "      <td>272629</td>\n",
       "    </tr>\n",
       "    <tr>\n",
       "      <th>2</th>\n",
       "      <td>1</td>\n",
       "      <td>675</td>\n",
       "      <td>824862</td>\n",
       "    </tr>\n",
       "    <tr>\n",
       "      <th>3</th>\n",
       "      <td>1</td>\n",
       "      <td>984</td>\n",
       "      <td>720344</td>\n",
       "    </tr>\n",
       "    <tr>\n",
       "      <th>4</th>\n",
       "      <td>0</td>\n",
       "      <td>727</td>\n",
       "      <td>879679</td>\n",
       "    </tr>\n",
       "  </tbody>\n",
       "</table>\n",
       "</div>\n",
       "      <button class=\"colab-df-convert\" onclick=\"convertToInteractive('df-72ebf602-795e-41bb-912d-ca0da91289f9')\"\n",
       "              title=\"Convert this dataframe to an interactive table.\"\n",
       "              style=\"display:none;\">\n",
       "        \n",
       "  <svg xmlns=\"http://www.w3.org/2000/svg\" height=\"24px\"viewBox=\"0 0 24 24\"\n",
       "       width=\"24px\">\n",
       "    <path d=\"M0 0h24v24H0V0z\" fill=\"none\"/>\n",
       "    <path d=\"M18.56 5.44l.94 2.06.94-2.06 2.06-.94-2.06-.94-.94-2.06-.94 2.06-2.06.94zm-11 1L8.5 8.5l.94-2.06 2.06-.94-2.06-.94L8.5 2.5l-.94 2.06-2.06.94zm10 10l.94 2.06.94-2.06 2.06-.94-2.06-.94-.94-2.06-.94 2.06-2.06.94z\"/><path d=\"M17.41 7.96l-1.37-1.37c-.4-.4-.92-.59-1.43-.59-.52 0-1.04.2-1.43.59L10.3 9.45l-7.72 7.72c-.78.78-.78 2.05 0 2.83L4 21.41c.39.39.9.59 1.41.59.51 0 1.02-.2 1.41-.59l7.78-7.78 2.81-2.81c.8-.78.8-2.07 0-2.86zM5.41 20L4 18.59l7.72-7.72 1.47 1.35L5.41 20z\"/>\n",
       "  </svg>\n",
       "      </button>\n",
       "      \n",
       "  <style>\n",
       "    .colab-df-container {\n",
       "      display:flex;\n",
       "      flex-wrap:wrap;\n",
       "      gap: 12px;\n",
       "    }\n",
       "\n",
       "    .colab-df-convert {\n",
       "      background-color: #E8F0FE;\n",
       "      border: none;\n",
       "      border-radius: 50%;\n",
       "      cursor: pointer;\n",
       "      display: none;\n",
       "      fill: #1967D2;\n",
       "      height: 32px;\n",
       "      padding: 0 0 0 0;\n",
       "      width: 32px;\n",
       "    }\n",
       "\n",
       "    .colab-df-convert:hover {\n",
       "      background-color: #E2EBFA;\n",
       "      box-shadow: 0px 1px 2px rgba(60, 64, 67, 0.3), 0px 1px 3px 1px rgba(60, 64, 67, 0.15);\n",
       "      fill: #174EA6;\n",
       "    }\n",
       "\n",
       "    [theme=dark] .colab-df-convert {\n",
       "      background-color: #3B4455;\n",
       "      fill: #D2E3FC;\n",
       "    }\n",
       "\n",
       "    [theme=dark] .colab-df-convert:hover {\n",
       "      background-color: #434B5C;\n",
       "      box-shadow: 0px 1px 3px 1px rgba(0, 0, 0, 0.15);\n",
       "      filter: drop-shadow(0px 1px 2px rgba(0, 0, 0, 0.3));\n",
       "      fill: #FFFFFF;\n",
       "    }\n",
       "  </style>\n",
       "\n",
       "      <script>\n",
       "        const buttonEl =\n",
       "          document.querySelector('#df-72ebf602-795e-41bb-912d-ca0da91289f9 button.colab-df-convert');\n",
       "        buttonEl.style.display =\n",
       "          google.colab.kernel.accessAllowed ? 'block' : 'none';\n",
       "\n",
       "        async function convertToInteractive(key) {\n",
       "          const element = document.querySelector('#df-72ebf602-795e-41bb-912d-ca0da91289f9');\n",
       "          const dataTable =\n",
       "            await google.colab.kernel.invokeFunction('convertToInteractive',\n",
       "                                                     [key], {});\n",
       "          if (!dataTable) return;\n",
       "\n",
       "          const docLinkHtml = 'Like what you see? Visit the ' +\n",
       "            '<a target=\"_blank\" href=https://colab.research.google.com/notebooks/data_table.ipynb>data table notebook</a>'\n",
       "            + ' to learn more about interactive tables.';\n",
       "          element.innerHTML = '';\n",
       "          dataTable['output_type'] = 'display_data';\n",
       "          await google.colab.output.renderOutput(dataTable, element);\n",
       "          const docLink = document.createElement('div');\n",
       "          docLink.innerHTML = docLinkHtml;\n",
       "          element.appendChild(docLink);\n",
       "        }\n",
       "      </script>\n",
       "    </div>\n",
       "  </div>\n",
       "  "
      ],
      "text/plain": [
       "   Sold  SqFt   Price\n",
       "0     1   200  906442\n",
       "1     0   425  272629\n",
       "2     1   675  824862\n",
       "3     1   984  720344\n",
       "4     0   727  879679"
      ]
     },
     "execution_count": 7,
     "metadata": {},
     "output_type": "execute_result"
    }
   ],
   "source": [
    "df = pd.read_csv('/content/drive/MyDrive/05 Week 5 - Intro to Machine Learning/0.CSV Files/apartments.csv')\n",
    "df.head()\n"
   ]
  },
  {
   "cell_type": "code",
   "execution_count": null,
   "metadata": {
    "id": "UC_pLcmpTtCb"
   },
   "outputs": [],
   "source": [
    "# Assign the target column as y\n",
    "y = df['Sold']\n",
    "# Assign the rest of the columns as X\n",
    "X = df.drop(columns = 'Sold')\n"
   ]
  },
  {
   "cell_type": "code",
   "execution_count": null,
   "metadata": {
    "id": "XDxDrdp0Ts9c"
   },
   "outputs": [],
   "source": [
    "# train/test split\n",
    "X_train, X_test, y_train, y_test = train_test_split(X, y, random_state=42)"
   ]
  },
  {
   "cell_type": "code",
   "execution_count": null,
   "metadata": {
    "colab": {
     "base_uri": "https://localhost:8080/",
     "height": 300
    },
    "id": "7C60-eAxTs5T",
    "outputId": "a9109015-ef81-4cef-d42e-dfe4ffec7222"
   },
   "outputs": [
    {
     "data": {
      "text/html": [
       "\n",
       "  <div id=\"df-07457c74-8b71-4a3c-9b51-fce90fafd9de\">\n",
       "    <div class=\"colab-df-container\">\n",
       "      <div>\n",
       "<style scoped>\n",
       "    .dataframe tbody tr th:only-of-type {\n",
       "        vertical-align: middle;\n",
       "    }\n",
       "\n",
       "    .dataframe tbody tr th {\n",
       "        vertical-align: top;\n",
       "    }\n",
       "\n",
       "    .dataframe thead th {\n",
       "        text-align: right;\n",
       "    }\n",
       "</style>\n",
       "<table border=\"1\" class=\"dataframe\">\n",
       "  <thead>\n",
       "    <tr style=\"text-align: right;\">\n",
       "      <th></th>\n",
       "      <th>SqFt</th>\n",
       "      <th>Price</th>\n",
       "    </tr>\n",
       "  </thead>\n",
       "  <tbody>\n",
       "    <tr>\n",
       "      <th>count</th>\n",
       "      <td>75.0</td>\n",
       "      <td>75.0</td>\n",
       "    </tr>\n",
       "    <tr>\n",
       "      <th>mean</th>\n",
       "      <td>564.0</td>\n",
       "      <td>524950.0</td>\n",
       "    </tr>\n",
       "    <tr>\n",
       "      <th>std</th>\n",
       "      <td>285.0</td>\n",
       "      <td>274185.0</td>\n",
       "    </tr>\n",
       "    <tr>\n",
       "      <th>min</th>\n",
       "      <td>114.0</td>\n",
       "      <td>109277.0</td>\n",
       "    </tr>\n",
       "    <tr>\n",
       "      <th>25%</th>\n",
       "      <td>320.0</td>\n",
       "      <td>272804.0</td>\n",
       "    </tr>\n",
       "    <tr>\n",
       "      <th>50%</th>\n",
       "      <td>588.0</td>\n",
       "      <td>503613.0</td>\n",
       "    </tr>\n",
       "    <tr>\n",
       "      <th>75%</th>\n",
       "      <td>836.0</td>\n",
       "      <td>786078.0</td>\n",
       "    </tr>\n",
       "    <tr>\n",
       "      <th>max</th>\n",
       "      <td>997.0</td>\n",
       "      <td>995878.0</td>\n",
       "    </tr>\n",
       "  </tbody>\n",
       "</table>\n",
       "</div>\n",
       "      <button class=\"colab-df-convert\" onclick=\"convertToInteractive('df-07457c74-8b71-4a3c-9b51-fce90fafd9de')\"\n",
       "              title=\"Convert this dataframe to an interactive table.\"\n",
       "              style=\"display:none;\">\n",
       "        \n",
       "  <svg xmlns=\"http://www.w3.org/2000/svg\" height=\"24px\"viewBox=\"0 0 24 24\"\n",
       "       width=\"24px\">\n",
       "    <path d=\"M0 0h24v24H0V0z\" fill=\"none\"/>\n",
       "    <path d=\"M18.56 5.44l.94 2.06.94-2.06 2.06-.94-2.06-.94-.94-2.06-.94 2.06-2.06.94zm-11 1L8.5 8.5l.94-2.06 2.06-.94-2.06-.94L8.5 2.5l-.94 2.06-2.06.94zm10 10l.94 2.06.94-2.06 2.06-.94-2.06-.94-.94-2.06-.94 2.06-2.06.94z\"/><path d=\"M17.41 7.96l-1.37-1.37c-.4-.4-.92-.59-1.43-.59-.52 0-1.04.2-1.43.59L10.3 9.45l-7.72 7.72c-.78.78-.78 2.05 0 2.83L4 21.41c.39.39.9.59 1.41.59.51 0 1.02-.2 1.41-.59l7.78-7.78 2.81-2.81c.8-.78.8-2.07 0-2.86zM5.41 20L4 18.59l7.72-7.72 1.47 1.35L5.41 20z\"/>\n",
       "  </svg>\n",
       "      </button>\n",
       "      \n",
       "  <style>\n",
       "    .colab-df-container {\n",
       "      display:flex;\n",
       "      flex-wrap:wrap;\n",
       "      gap: 12px;\n",
       "    }\n",
       "\n",
       "    .colab-df-convert {\n",
       "      background-color: #E8F0FE;\n",
       "      border: none;\n",
       "      border-radius: 50%;\n",
       "      cursor: pointer;\n",
       "      display: none;\n",
       "      fill: #1967D2;\n",
       "      height: 32px;\n",
       "      padding: 0 0 0 0;\n",
       "      width: 32px;\n",
       "    }\n",
       "\n",
       "    .colab-df-convert:hover {\n",
       "      background-color: #E2EBFA;\n",
       "      box-shadow: 0px 1px 2px rgba(60, 64, 67, 0.3), 0px 1px 3px 1px rgba(60, 64, 67, 0.15);\n",
       "      fill: #174EA6;\n",
       "    }\n",
       "\n",
       "    [theme=dark] .colab-df-convert {\n",
       "      background-color: #3B4455;\n",
       "      fill: #D2E3FC;\n",
       "    }\n",
       "\n",
       "    [theme=dark] .colab-df-convert:hover {\n",
       "      background-color: #434B5C;\n",
       "      box-shadow: 0px 1px 3px 1px rgba(0, 0, 0, 0.15);\n",
       "      filter: drop-shadow(0px 1px 2px rgba(0, 0, 0, 0.3));\n",
       "      fill: #FFFFFF;\n",
       "    }\n",
       "  </style>\n",
       "\n",
       "      <script>\n",
       "        const buttonEl =\n",
       "          document.querySelector('#df-07457c74-8b71-4a3c-9b51-fce90fafd9de button.colab-df-convert');\n",
       "        buttonEl.style.display =\n",
       "          google.colab.kernel.accessAllowed ? 'block' : 'none';\n",
       "\n",
       "        async function convertToInteractive(key) {\n",
       "          const element = document.querySelector('#df-07457c74-8b71-4a3c-9b51-fce90fafd9de');\n",
       "          const dataTable =\n",
       "            await google.colab.kernel.invokeFunction('convertToInteractive',\n",
       "                                                     [key], {});\n",
       "          if (!dataTable) return;\n",
       "\n",
       "          const docLinkHtml = 'Like what you see? Visit the ' +\n",
       "            '<a target=\"_blank\" href=https://colab.research.google.com/notebooks/data_table.ipynb>data table notebook</a>'\n",
       "            + ' to learn more about interactive tables.';\n",
       "          element.innerHTML = '';\n",
       "          dataTable['output_type'] = 'display_data';\n",
       "          await google.colab.output.renderOutput(dataTable, element);\n",
       "          const docLink = document.createElement('div');\n",
       "          docLink.innerHTML = docLinkHtml;\n",
       "          element.appendChild(docLink);\n",
       "        }\n",
       "      </script>\n",
       "    </div>\n",
       "  </div>\n",
       "  "
      ],
      "text/plain": [
       "        SqFt     Price\n",
       "count   75.0      75.0\n",
       "mean   564.0  524950.0\n",
       "std    285.0  274185.0\n",
       "min    114.0  109277.0\n",
       "25%    320.0  272804.0\n",
       "50%    588.0  503613.0\n",
       "75%    836.0  786078.0\n",
       "max    997.0  995878.0"
      ]
     },
     "execution_count": 10,
     "metadata": {},
     "output_type": "execute_result"
    }
   ],
   "source": [
    "# Obtain descriptive statistics of your features\n",
    "X_train.describe().round(0)"
   ]
  },
  {
   "cell_type": "markdown",
   "metadata": {
    "id": "Z-Vdc9PFUDP1"
   },
   "source": [
    "scaler only on training set, nothing on the test set because we want to levae that alone to simulate unseen data so no calculations are done on it for pre-processing"
   ]
  },
  {
   "cell_type": "markdown",
   "metadata": {
    "id": "Hbd_ceWnUv7r"
   },
   "source": [
    "using fit performs the calculation, it doesnt apply them yet"
   ]
  },
  {
   "cell_type": "code",
   "execution_count": null,
   "metadata": {
    "colab": {
     "base_uri": "https://localhost:8080/",
     "height": 75
    },
    "id": "Xzw-d9moUCMy",
    "outputId": "72855995-a0b5-4abf-dc21-4cbc6ad340b8"
   },
   "outputs": [
    {
     "data": {
      "text/html": [
       "<style>#sk-container-id-1 {color: black;background-color: white;}#sk-container-id-1 pre{padding: 0;}#sk-container-id-1 div.sk-toggleable {background-color: white;}#sk-container-id-1 label.sk-toggleable__label {cursor: pointer;display: block;width: 100%;margin-bottom: 0;padding: 0.3em;box-sizing: border-box;text-align: center;}#sk-container-id-1 label.sk-toggleable__label-arrow:before {content: \"▸\";float: left;margin-right: 0.25em;color: #696969;}#sk-container-id-1 label.sk-toggleable__label-arrow:hover:before {color: black;}#sk-container-id-1 div.sk-estimator:hover label.sk-toggleable__label-arrow:before {color: black;}#sk-container-id-1 div.sk-toggleable__content {max-height: 0;max-width: 0;overflow: hidden;text-align: left;background-color: #f0f8ff;}#sk-container-id-1 div.sk-toggleable__content pre {margin: 0.2em;color: black;border-radius: 0.25em;background-color: #f0f8ff;}#sk-container-id-1 input.sk-toggleable__control:checked~div.sk-toggleable__content {max-height: 200px;max-width: 100%;overflow: auto;}#sk-container-id-1 input.sk-toggleable__control:checked~label.sk-toggleable__label-arrow:before {content: \"▾\";}#sk-container-id-1 div.sk-estimator input.sk-toggleable__control:checked~label.sk-toggleable__label {background-color: #d4ebff;}#sk-container-id-1 div.sk-label input.sk-toggleable__control:checked~label.sk-toggleable__label {background-color: #d4ebff;}#sk-container-id-1 input.sk-hidden--visually {border: 0;clip: rect(1px 1px 1px 1px);clip: rect(1px, 1px, 1px, 1px);height: 1px;margin: -1px;overflow: hidden;padding: 0;position: absolute;width: 1px;}#sk-container-id-1 div.sk-estimator {font-family: monospace;background-color: #f0f8ff;border: 1px dotted black;border-radius: 0.25em;box-sizing: border-box;margin-bottom: 0.5em;}#sk-container-id-1 div.sk-estimator:hover {background-color: #d4ebff;}#sk-container-id-1 div.sk-parallel-item::after {content: \"\";width: 100%;border-bottom: 1px solid gray;flex-grow: 1;}#sk-container-id-1 div.sk-label:hover label.sk-toggleable__label {background-color: #d4ebff;}#sk-container-id-1 div.sk-serial::before {content: \"\";position: absolute;border-left: 1px solid gray;box-sizing: border-box;top: 0;bottom: 0;left: 50%;z-index: 0;}#sk-container-id-1 div.sk-serial {display: flex;flex-direction: column;align-items: center;background-color: white;padding-right: 0.2em;padding-left: 0.2em;position: relative;}#sk-container-id-1 div.sk-item {position: relative;z-index: 1;}#sk-container-id-1 div.sk-parallel {display: flex;align-items: stretch;justify-content: center;background-color: white;position: relative;}#sk-container-id-1 div.sk-item::before, #sk-container-id-1 div.sk-parallel-item::before {content: \"\";position: absolute;border-left: 1px solid gray;box-sizing: border-box;top: 0;bottom: 0;left: 50%;z-index: -1;}#sk-container-id-1 div.sk-parallel-item {display: flex;flex-direction: column;z-index: 1;position: relative;background-color: white;}#sk-container-id-1 div.sk-parallel-item:first-child::after {align-self: flex-end;width: 50%;}#sk-container-id-1 div.sk-parallel-item:last-child::after {align-self: flex-start;width: 50%;}#sk-container-id-1 div.sk-parallel-item:only-child::after {width: 0;}#sk-container-id-1 div.sk-dashed-wrapped {border: 1px dashed gray;margin: 0 0.4em 0.5em 0.4em;box-sizing: border-box;padding-bottom: 0.4em;background-color: white;}#sk-container-id-1 div.sk-label label {font-family: monospace;font-weight: bold;display: inline-block;line-height: 1.2em;}#sk-container-id-1 div.sk-label-container {text-align: center;}#sk-container-id-1 div.sk-container {/* jupyter's `normalize.less` sets `[hidden] { display: none; }` but bootstrap.min.css set `[hidden] { display: none !important; }` so we also need the `!important` here to be able to override the default hidden behavior on the sphinx rendered scikit-learn.org. See: https://github.com/scikit-learn/scikit-learn/issues/21755 */display: inline-block !important;position: relative;}#sk-container-id-1 div.sk-text-repr-fallback {display: none;}</style><div id=\"sk-container-id-1\" class=\"sk-top-container\"><div class=\"sk-text-repr-fallback\"><pre>StandardScaler()</pre><b>In a Jupyter environment, please rerun this cell to show the HTML representation or trust the notebook. <br />On GitHub, the HTML representation is unable to render, please try loading this page with nbviewer.org.</b></div><div class=\"sk-container\" hidden><div class=\"sk-item\"><div class=\"sk-estimator sk-toggleable\"><input class=\"sk-toggleable__control sk-hidden--visually\" id=\"sk-estimator-id-1\" type=\"checkbox\" checked><label for=\"sk-estimator-id-1\" class=\"sk-toggleable__label sk-toggleable__label-arrow\">StandardScaler</label><div class=\"sk-toggleable__content\"><pre>StandardScaler()</pre></div></div></div></div></div>"
      ],
      "text/plain": [
       "StandardScaler()"
      ]
     },
     "execution_count": 11,
     "metadata": {},
     "output_type": "execute_result"
    }
   ],
   "source": [
    "# instantiate scaler\n",
    "scaler = StandardScaler()\n",
    "# fit scaler on training data\n",
    "scaler.fit(X_train)"
   ]
  },
  {
   "cell_type": "markdown",
   "metadata": {
    "id": "zPh0RJ3RU0GZ"
   },
   "source": [
    "apply calculations and transform the data"
   ]
  },
  {
   "cell_type": "code",
   "execution_count": null,
   "metadata": {
    "colab": {
     "base_uri": "https://localhost:8080/"
    },
    "id": "sxefA0E_U9Ne",
    "outputId": "08f40bfc-6f2f-4d66-c4eb-ae831cee58b4"
   },
   "outputs": [
    {
     "data": {
      "text/plain": [
       "array([[-1.37431725,  1.72912293],\n",
       "       [ 1.34901239, -0.33899825],\n",
       "       [ 1.35959527, -0.23730597],\n",
       "       [ 1.1197165 , -1.01916082],\n",
       "       [ 0.98919422,  1.07150845]])"
      ]
     },
     "execution_count": 12,
     "metadata": {},
     "output_type": "execute_result"
    }
   ],
   "source": [
    "# transform training data\n",
    "train_scaled = scaler.transform(X_train)\n",
    "# transform testing data\n",
    "test_scaled = scaler.transform(X_test)\n",
    "# view the first 5 rows of train_scaled\n",
    "train_scaled[:5]"
   ]
  },
  {
   "cell_type": "code",
   "execution_count": null,
   "metadata": {
    "colab": {
     "base_uri": "https://localhost:8080/",
     "height": 206
    },
    "id": "MImZtCAbVD1G",
    "outputId": "60d60325-fa6e-4f65-ca20-bb99e1b846e1"
   },
   "outputs": [
    {
     "data": {
      "text/html": [
       "\n",
       "  <div id=\"df-2c103bc6-ea97-458c-b86c-e8a18ee03496\">\n",
       "    <div class=\"colab-df-container\">\n",
       "      <div>\n",
       "<style scoped>\n",
       "    .dataframe tbody tr th:only-of-type {\n",
       "        vertical-align: middle;\n",
       "    }\n",
       "\n",
       "    .dataframe tbody tr th {\n",
       "        vertical-align: top;\n",
       "    }\n",
       "\n",
       "    .dataframe thead th {\n",
       "        text-align: right;\n",
       "    }\n",
       "</style>\n",
       "<table border=\"1\" class=\"dataframe\">\n",
       "  <thead>\n",
       "    <tr style=\"text-align: right;\">\n",
       "      <th></th>\n",
       "      <th>SqFt</th>\n",
       "      <th>Price</th>\n",
       "    </tr>\n",
       "  </thead>\n",
       "  <tbody>\n",
       "    <tr>\n",
       "      <th>0</th>\n",
       "      <td>-1.374317</td>\n",
       "      <td>1.729123</td>\n",
       "    </tr>\n",
       "    <tr>\n",
       "      <th>1</th>\n",
       "      <td>1.349012</td>\n",
       "      <td>-0.338998</td>\n",
       "    </tr>\n",
       "    <tr>\n",
       "      <th>2</th>\n",
       "      <td>1.359595</td>\n",
       "      <td>-0.237306</td>\n",
       "    </tr>\n",
       "    <tr>\n",
       "      <th>3</th>\n",
       "      <td>1.119716</td>\n",
       "      <td>-1.019161</td>\n",
       "    </tr>\n",
       "    <tr>\n",
       "      <th>4</th>\n",
       "      <td>0.989194</td>\n",
       "      <td>1.071508</td>\n",
       "    </tr>\n",
       "  </tbody>\n",
       "</table>\n",
       "</div>\n",
       "      <button class=\"colab-df-convert\" onclick=\"convertToInteractive('df-2c103bc6-ea97-458c-b86c-e8a18ee03496')\"\n",
       "              title=\"Convert this dataframe to an interactive table.\"\n",
       "              style=\"display:none;\">\n",
       "        \n",
       "  <svg xmlns=\"http://www.w3.org/2000/svg\" height=\"24px\"viewBox=\"0 0 24 24\"\n",
       "       width=\"24px\">\n",
       "    <path d=\"M0 0h24v24H0V0z\" fill=\"none\"/>\n",
       "    <path d=\"M18.56 5.44l.94 2.06.94-2.06 2.06-.94-2.06-.94-.94-2.06-.94 2.06-2.06.94zm-11 1L8.5 8.5l.94-2.06 2.06-.94-2.06-.94L8.5 2.5l-.94 2.06-2.06.94zm10 10l.94 2.06.94-2.06 2.06-.94-2.06-.94-.94-2.06-.94 2.06-2.06.94z\"/><path d=\"M17.41 7.96l-1.37-1.37c-.4-.4-.92-.59-1.43-.59-.52 0-1.04.2-1.43.59L10.3 9.45l-7.72 7.72c-.78.78-.78 2.05 0 2.83L4 21.41c.39.39.9.59 1.41.59.51 0 1.02-.2 1.41-.59l7.78-7.78 2.81-2.81c.8-.78.8-2.07 0-2.86zM5.41 20L4 18.59l7.72-7.72 1.47 1.35L5.41 20z\"/>\n",
       "  </svg>\n",
       "      </button>\n",
       "      \n",
       "  <style>\n",
       "    .colab-df-container {\n",
       "      display:flex;\n",
       "      flex-wrap:wrap;\n",
       "      gap: 12px;\n",
       "    }\n",
       "\n",
       "    .colab-df-convert {\n",
       "      background-color: #E8F0FE;\n",
       "      border: none;\n",
       "      border-radius: 50%;\n",
       "      cursor: pointer;\n",
       "      display: none;\n",
       "      fill: #1967D2;\n",
       "      height: 32px;\n",
       "      padding: 0 0 0 0;\n",
       "      width: 32px;\n",
       "    }\n",
       "\n",
       "    .colab-df-convert:hover {\n",
       "      background-color: #E2EBFA;\n",
       "      box-shadow: 0px 1px 2px rgba(60, 64, 67, 0.3), 0px 1px 3px 1px rgba(60, 64, 67, 0.15);\n",
       "      fill: #174EA6;\n",
       "    }\n",
       "\n",
       "    [theme=dark] .colab-df-convert {\n",
       "      background-color: #3B4455;\n",
       "      fill: #D2E3FC;\n",
       "    }\n",
       "\n",
       "    [theme=dark] .colab-df-convert:hover {\n",
       "      background-color: #434B5C;\n",
       "      box-shadow: 0px 1px 3px 1px rgba(0, 0, 0, 0.15);\n",
       "      filter: drop-shadow(0px 1px 2px rgba(0, 0, 0, 0.3));\n",
       "      fill: #FFFFFF;\n",
       "    }\n",
       "  </style>\n",
       "\n",
       "      <script>\n",
       "        const buttonEl =\n",
       "          document.querySelector('#df-2c103bc6-ea97-458c-b86c-e8a18ee03496 button.colab-df-convert');\n",
       "        buttonEl.style.display =\n",
       "          google.colab.kernel.accessAllowed ? 'block' : 'none';\n",
       "\n",
       "        async function convertToInteractive(key) {\n",
       "          const element = document.querySelector('#df-2c103bc6-ea97-458c-b86c-e8a18ee03496');\n",
       "          const dataTable =\n",
       "            await google.colab.kernel.invokeFunction('convertToInteractive',\n",
       "                                                     [key], {});\n",
       "          if (!dataTable) return;\n",
       "\n",
       "          const docLinkHtml = 'Like what you see? Visit the ' +\n",
       "            '<a target=\"_blank\" href=https://colab.research.google.com/notebooks/data_table.ipynb>data table notebook</a>'\n",
       "            + ' to learn more about interactive tables.';\n",
       "          element.innerHTML = '';\n",
       "          dataTable['output_type'] = 'display_data';\n",
       "          await google.colab.output.renderOutput(dataTable, element);\n",
       "          const docLink = document.createElement('div');\n",
       "          docLink.innerHTML = docLinkHtml;\n",
       "          element.appendChild(docLink);\n",
       "        }\n",
       "      </script>\n",
       "    </div>\n",
       "  </div>\n",
       "  "
      ],
      "text/plain": [
       "       SqFt     Price\n",
       "0 -1.374317  1.729123\n",
       "1  1.349012 -0.338998\n",
       "2  1.359595 -0.237306\n",
       "3  1.119716 -1.019161\n",
       "4  0.989194  1.071508"
      ]
     },
     "execution_count": 13,
     "metadata": {},
     "output_type": "execute_result"
    }
   ],
   "source": [
    "# transform back to a dataframe\n",
    "X_train_scaled = pd.DataFrame(train_scaled, columns=X_train.columns)\n",
    "X_train_scaled.head()"
   ]
  },
  {
   "cell_type": "code",
   "execution_count": null,
   "metadata": {
    "colab": {
     "base_uri": "https://localhost:8080/",
     "height": 300
    },
    "id": "znbX9YhcVHkB",
    "outputId": "7053192f-3d54-47ad-b3bf-a7df8338ddc4"
   },
   "outputs": [
    {
     "data": {
      "text/html": [
       "\n",
       "  <div id=\"df-541a5ff3-ee71-4a67-8a37-d12b9b3e2ff7\">\n",
       "    <div class=\"colab-df-container\">\n",
       "      <div>\n",
       "<style scoped>\n",
       "    .dataframe tbody tr th:only-of-type {\n",
       "        vertical-align: middle;\n",
       "    }\n",
       "\n",
       "    .dataframe tbody tr th {\n",
       "        vertical-align: top;\n",
       "    }\n",
       "\n",
       "    .dataframe thead th {\n",
       "        text-align: right;\n",
       "    }\n",
       "</style>\n",
       "<table border=\"1\" class=\"dataframe\">\n",
       "  <thead>\n",
       "    <tr style=\"text-align: right;\">\n",
       "      <th></th>\n",
       "      <th>SqFt</th>\n",
       "      <th>Price</th>\n",
       "    </tr>\n",
       "  </thead>\n",
       "  <tbody>\n",
       "    <tr>\n",
       "      <th>count</th>\n",
       "      <td>75.00</td>\n",
       "      <td>75.00</td>\n",
       "    </tr>\n",
       "    <tr>\n",
       "      <th>mean</th>\n",
       "      <td>-0.00</td>\n",
       "      <td>0.00</td>\n",
       "    </tr>\n",
       "    <tr>\n",
       "      <th>std</th>\n",
       "      <td>1.01</td>\n",
       "      <td>1.01</td>\n",
       "    </tr>\n",
       "    <tr>\n",
       "      <th>min</th>\n",
       "      <td>-1.59</td>\n",
       "      <td>-1.53</td>\n",
       "    </tr>\n",
       "    <tr>\n",
       "      <th>25%</th>\n",
       "      <td>-0.86</td>\n",
       "      <td>-0.93</td>\n",
       "    </tr>\n",
       "    <tr>\n",
       "      <th>50%</th>\n",
       "      <td>0.09</td>\n",
       "      <td>-0.08</td>\n",
       "    </tr>\n",
       "    <tr>\n",
       "      <th>75%</th>\n",
       "      <td>0.96</td>\n",
       "      <td>0.96</td>\n",
       "    </tr>\n",
       "    <tr>\n",
       "      <th>max</th>\n",
       "      <td>1.53</td>\n",
       "      <td>1.73</td>\n",
       "    </tr>\n",
       "  </tbody>\n",
       "</table>\n",
       "</div>\n",
       "      <button class=\"colab-df-convert\" onclick=\"convertToInteractive('df-541a5ff3-ee71-4a67-8a37-d12b9b3e2ff7')\"\n",
       "              title=\"Convert this dataframe to an interactive table.\"\n",
       "              style=\"display:none;\">\n",
       "        \n",
       "  <svg xmlns=\"http://www.w3.org/2000/svg\" height=\"24px\"viewBox=\"0 0 24 24\"\n",
       "       width=\"24px\">\n",
       "    <path d=\"M0 0h24v24H0V0z\" fill=\"none\"/>\n",
       "    <path d=\"M18.56 5.44l.94 2.06.94-2.06 2.06-.94-2.06-.94-.94-2.06-.94 2.06-2.06.94zm-11 1L8.5 8.5l.94-2.06 2.06-.94-2.06-.94L8.5 2.5l-.94 2.06-2.06.94zm10 10l.94 2.06.94-2.06 2.06-.94-2.06-.94-.94-2.06-.94 2.06-2.06.94z\"/><path d=\"M17.41 7.96l-1.37-1.37c-.4-.4-.92-.59-1.43-.59-.52 0-1.04.2-1.43.59L10.3 9.45l-7.72 7.72c-.78.78-.78 2.05 0 2.83L4 21.41c.39.39.9.59 1.41.59.51 0 1.02-.2 1.41-.59l7.78-7.78 2.81-2.81c.8-.78.8-2.07 0-2.86zM5.41 20L4 18.59l7.72-7.72 1.47 1.35L5.41 20z\"/>\n",
       "  </svg>\n",
       "      </button>\n",
       "      \n",
       "  <style>\n",
       "    .colab-df-container {\n",
       "      display:flex;\n",
       "      flex-wrap:wrap;\n",
       "      gap: 12px;\n",
       "    }\n",
       "\n",
       "    .colab-df-convert {\n",
       "      background-color: #E8F0FE;\n",
       "      border: none;\n",
       "      border-radius: 50%;\n",
       "      cursor: pointer;\n",
       "      display: none;\n",
       "      fill: #1967D2;\n",
       "      height: 32px;\n",
       "      padding: 0 0 0 0;\n",
       "      width: 32px;\n",
       "    }\n",
       "\n",
       "    .colab-df-convert:hover {\n",
       "      background-color: #E2EBFA;\n",
       "      box-shadow: 0px 1px 2px rgba(60, 64, 67, 0.3), 0px 1px 3px 1px rgba(60, 64, 67, 0.15);\n",
       "      fill: #174EA6;\n",
       "    }\n",
       "\n",
       "    [theme=dark] .colab-df-convert {\n",
       "      background-color: #3B4455;\n",
       "      fill: #D2E3FC;\n",
       "    }\n",
       "\n",
       "    [theme=dark] .colab-df-convert:hover {\n",
       "      background-color: #434B5C;\n",
       "      box-shadow: 0px 1px 3px 1px rgba(0, 0, 0, 0.15);\n",
       "      filter: drop-shadow(0px 1px 2px rgba(0, 0, 0, 0.3));\n",
       "      fill: #FFFFFF;\n",
       "    }\n",
       "  </style>\n",
       "\n",
       "      <script>\n",
       "        const buttonEl =\n",
       "          document.querySelector('#df-541a5ff3-ee71-4a67-8a37-d12b9b3e2ff7 button.colab-df-convert');\n",
       "        buttonEl.style.display =\n",
       "          google.colab.kernel.accessAllowed ? 'block' : 'none';\n",
       "\n",
       "        async function convertToInteractive(key) {\n",
       "          const element = document.querySelector('#df-541a5ff3-ee71-4a67-8a37-d12b9b3e2ff7');\n",
       "          const dataTable =\n",
       "            await google.colab.kernel.invokeFunction('convertToInteractive',\n",
       "                                                     [key], {});\n",
       "          if (!dataTable) return;\n",
       "\n",
       "          const docLinkHtml = 'Like what you see? Visit the ' +\n",
       "            '<a target=\"_blank\" href=https://colab.research.google.com/notebooks/data_table.ipynb>data table notebook</a>'\n",
       "            + ' to learn more about interactive tables.';\n",
       "          element.innerHTML = '';\n",
       "          dataTable['output_type'] = 'display_data';\n",
       "          await google.colab.output.renderOutput(dataTable, element);\n",
       "          const docLink = document.createElement('div');\n",
       "          docLink.innerHTML = docLinkHtml;\n",
       "          element.appendChild(docLink);\n",
       "        }\n",
       "      </script>\n",
       "    </div>\n",
       "  </div>\n",
       "  "
      ],
      "text/plain": [
       "        SqFt  Price\n",
       "count  75.00  75.00\n",
       "mean   -0.00   0.00\n",
       "std     1.01   1.01\n",
       "min    -1.59  -1.53\n",
       "25%    -0.86  -0.93\n",
       "50%     0.09  -0.08\n",
       "75%     0.96   0.96\n",
       "max     1.53   1.73"
      ]
     },
     "execution_count": 14,
     "metadata": {},
     "output_type": "execute_result"
    }
   ],
   "source": [
    "# Obtain descriptive statistics of the scaled data\n",
    "# Use .round(2) to eliminate scientific notation and maintain 2 places after the decimal\n",
    "X_train_scaled.describe().round(2)\n"
   ]
  },
  {
   "cell_type": "markdown",
   "metadata": {
    "id": "qC-GmMmCVQ6e"
   },
   "source": [
    "values that are closer to the mean will be closer to zero. As avalue becomes more dramatically different than the mean, it will have a bigger magnitude"
   ]
  },
  {
   "cell_type": "markdown",
   "metadata": {
    "id": "ZX3Bi4NNVZbB"
   },
   "source": [
    "any value below the mean of the feature is negative, and any value above the mean is positive"
   ]
  },
  {
   "cell_type": "markdown",
   "metadata": {
    "id": "kT83hmttVfwo"
   },
   "source": [
    "Values with large magnitudes (in either the + or - direction) could be considered outliers. While there is no exact threshold for establishing outliers, generally scaled values beyond -3 or 3 are considered outliers.\n",
    "\n"
   ]
  },
  {
   "cell_type": "markdown",
   "metadata": {
    "id": "bVluFWAfVsLu"
   },
   "source": [
    "*Note: One-hot encoded features do not need to be scaled, but ordinal encoded features should be.*\n",
    "\n"
   ]
  },
  {
   "cell_type": "markdown",
   "metadata": {
    "id": "DMqbpA0xWGzc"
   },
   "source": [
    "### Ordinal and OneHotEncoder in Python (see Pipelines and Column Transformers later for more details)\n"
   ]
  },
  {
   "cell_type": "markdown",
   "metadata": {
    "id": "5SboI9e_Wr9m"
   },
   "source": [
    "ordinal - ordered (low, medium, high)"
   ]
  },
  {
   "cell_type": "markdown",
   "metadata": {
    "id": "Svn3QTVZWQHv"
   },
   "source": [
    "when the values are strings but not ordered (green, blue, purple, ect) then we need to one-hot encode the data"
   ]
  },
  {
   "cell_type": "markdown",
   "metadata": {
    "id": "KOn2uetcYOg2"
   },
   "source": [
    "### Column Transformer"
   ]
  },
  {
   "cell_type": "markdown",
   "metadata": {
    "id": "fzdUlQg53V4g"
   },
   "source": [
    "We need to be able to do some preprocessing steps to transform the data for all the different types of columns to get it ready for the final prediction model. Column Transformer is a way to do this in fewer steps!"
   ]
  },
  {
   "cell_type": "markdown",
   "metadata": {
    "id": "wO0zaRJA3mFx"
   },
   "source": [
    "![2023-03-28 17_56_56-Window.png](data:image/png;base64,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)"
   ]
  },
  {
   "cell_type": "markdown",
   "metadata": {
    "id": "D_2ZIBw44Ktw"
   },
   "source": [
    "#### Example in Dataset (code)"
   ]
  },
  {
   "cell_type": "code",
   "execution_count": null,
   "metadata": {
    "id": "I8Qxzrw84Ojo"
   },
   "outputs": [],
   "source": [
    "import pandas as pd\n",
    "import numpy as np\n",
    "from sklearn.model_selection import train_test_split\n",
    "from sklearn.compose import make_column_selector\n",
    "from sklearn.preprocessing import StandardScaler, OneHotEncoder"
   ]
  },
  {
   "cell_type": "code",
   "execution_count": null,
   "metadata": {
    "colab": {
     "base_uri": "https://localhost:8080/",
     "height": 299
    },
    "id": "SPTdR91x43m6",
    "outputId": "aec7702e-9a8c-453e-e985-5225d17ea2d1"
   },
   "outputs": [
    {
     "data": {
      "text/html": [
       "\n",
       "  <div id=\"df-dc83bc80-9ba4-4079-8d1e-1359a21f1188\">\n",
       "    <div class=\"colab-df-container\">\n",
       "      <div>\n",
       "<style scoped>\n",
       "    .dataframe tbody tr th:only-of-type {\n",
       "        vertical-align: middle;\n",
       "    }\n",
       "\n",
       "    .dataframe tbody tr th {\n",
       "        vertical-align: top;\n",
       "    }\n",
       "\n",
       "    .dataframe thead th {\n",
       "        text-align: right;\n",
       "    }\n",
       "</style>\n",
       "<table border=\"1\" class=\"dataframe\">\n",
       "  <thead>\n",
       "    <tr style=\"text-align: right;\">\n",
       "      <th></th>\n",
       "      <th>State</th>\n",
       "      <th>Lat</th>\n",
       "      <th>Lng</th>\n",
       "      <th>Area</th>\n",
       "      <th>Children</th>\n",
       "      <th>Age</th>\n",
       "      <th>Income</th>\n",
       "      <th>Marital</th>\n",
       "      <th>Gender</th>\n",
       "      <th>ReAdmis</th>\n",
       "      <th>...</th>\n",
       "      <th>Hyperlipidemia</th>\n",
       "      <th>BackPain</th>\n",
       "      <th>Anxiety</th>\n",
       "      <th>Allergic_rhinitis</th>\n",
       "      <th>Reflux_esophagitis</th>\n",
       "      <th>Asthma</th>\n",
       "      <th>Services</th>\n",
       "      <th>Initial_days</th>\n",
       "      <th>TotalCharge</th>\n",
       "      <th>Additional_charges</th>\n",
       "    </tr>\n",
       "  </thead>\n",
       "  <tbody>\n",
       "    <tr>\n",
       "      <th>0</th>\n",
       "      <td>AL</td>\n",
       "      <td>34.34960</td>\n",
       "      <td>-86.72508</td>\n",
       "      <td>Suburban</td>\n",
       "      <td>1</td>\n",
       "      <td>53</td>\n",
       "      <td>86575.93</td>\n",
       "      <td>Divorced</td>\n",
       "      <td>Male</td>\n",
       "      <td>0</td>\n",
       "      <td>...</td>\n",
       "      <td>0</td>\n",
       "      <td>1</td>\n",
       "      <td>1</td>\n",
       "      <td>1</td>\n",
       "      <td>0</td>\n",
       "      <td>1</td>\n",
       "      <td>Blood Work</td>\n",
       "      <td>10.585770</td>\n",
       "      <td>3726.702860</td>\n",
       "      <td>17939.403420</td>\n",
       "    </tr>\n",
       "    <tr>\n",
       "      <th>1</th>\n",
       "      <td>FL</td>\n",
       "      <td>30.84513</td>\n",
       "      <td>-85.22907</td>\n",
       "      <td>Urban</td>\n",
       "      <td>3</td>\n",
       "      <td>51</td>\n",
       "      <td>46805.99</td>\n",
       "      <td>Married</td>\n",
       "      <td>Female</td>\n",
       "      <td>0</td>\n",
       "      <td>...</td>\n",
       "      <td>0</td>\n",
       "      <td>0</td>\n",
       "      <td>0</td>\n",
       "      <td>0</td>\n",
       "      <td>1</td>\n",
       "      <td>0</td>\n",
       "      <td>Intravenous</td>\n",
       "      <td>15.129562</td>\n",
       "      <td>4193.190458</td>\n",
       "      <td>17612.998120</td>\n",
       "    </tr>\n",
       "    <tr>\n",
       "      <th>2</th>\n",
       "      <td>SD</td>\n",
       "      <td>43.54321</td>\n",
       "      <td>-96.63772</td>\n",
       "      <td>Suburban</td>\n",
       "      <td>3</td>\n",
       "      <td>53</td>\n",
       "      <td>14370.14</td>\n",
       "      <td>Widowed</td>\n",
       "      <td>Female</td>\n",
       "      <td>0</td>\n",
       "      <td>...</td>\n",
       "      <td>0</td>\n",
       "      <td>0</td>\n",
       "      <td>0</td>\n",
       "      <td>0</td>\n",
       "      <td>0</td>\n",
       "      <td>0</td>\n",
       "      <td>Blood Work</td>\n",
       "      <td>4.772177</td>\n",
       "      <td>2434.234222</td>\n",
       "      <td>17505.192460</td>\n",
       "    </tr>\n",
       "    <tr>\n",
       "      <th>3</th>\n",
       "      <td>MN</td>\n",
       "      <td>43.89744</td>\n",
       "      <td>-93.51479</td>\n",
       "      <td>Suburban</td>\n",
       "      <td>0</td>\n",
       "      <td>78</td>\n",
       "      <td>39741.49</td>\n",
       "      <td>Married</td>\n",
       "      <td>Male</td>\n",
       "      <td>0</td>\n",
       "      <td>...</td>\n",
       "      <td>0</td>\n",
       "      <td>0</td>\n",
       "      <td>0</td>\n",
       "      <td>0</td>\n",
       "      <td>1</td>\n",
       "      <td>1</td>\n",
       "      <td>Blood Work</td>\n",
       "      <td>1.714879</td>\n",
       "      <td>2127.830423</td>\n",
       "      <td>12993.437350</td>\n",
       "    </tr>\n",
       "    <tr>\n",
       "      <th>4</th>\n",
       "      <td>VA</td>\n",
       "      <td>37.59894</td>\n",
       "      <td>-76.88958</td>\n",
       "      <td>Rural</td>\n",
       "      <td>1</td>\n",
       "      <td>22</td>\n",
       "      <td>1209.56</td>\n",
       "      <td>Widowed</td>\n",
       "      <td>Female</td>\n",
       "      <td>0</td>\n",
       "      <td>...</td>\n",
       "      <td>1</td>\n",
       "      <td>0</td>\n",
       "      <td>0</td>\n",
       "      <td>1</td>\n",
       "      <td>0</td>\n",
       "      <td>0</td>\n",
       "      <td>CT Scan</td>\n",
       "      <td>1.254807</td>\n",
       "      <td>2113.073274</td>\n",
       "      <td>3716.525786</td>\n",
       "    </tr>\n",
       "  </tbody>\n",
       "</table>\n",
       "<p>5 rows × 32 columns</p>\n",
       "</div>\n",
       "      <button class=\"colab-df-convert\" onclick=\"convertToInteractive('df-dc83bc80-9ba4-4079-8d1e-1359a21f1188')\"\n",
       "              title=\"Convert this dataframe to an interactive table.\"\n",
       "              style=\"display:none;\">\n",
       "        \n",
       "  <svg xmlns=\"http://www.w3.org/2000/svg\" height=\"24px\"viewBox=\"0 0 24 24\"\n",
       "       width=\"24px\">\n",
       "    <path d=\"M0 0h24v24H0V0z\" fill=\"none\"/>\n",
       "    <path d=\"M18.56 5.44l.94 2.06.94-2.06 2.06-.94-2.06-.94-.94-2.06-.94 2.06-2.06.94zm-11 1L8.5 8.5l.94-2.06 2.06-.94-2.06-.94L8.5 2.5l-.94 2.06-2.06.94zm10 10l.94 2.06.94-2.06 2.06-.94-2.06-.94-.94-2.06-.94 2.06-2.06.94z\"/><path d=\"M17.41 7.96l-1.37-1.37c-.4-.4-.92-.59-1.43-.59-.52 0-1.04.2-1.43.59L10.3 9.45l-7.72 7.72c-.78.78-.78 2.05 0 2.83L4 21.41c.39.39.9.59 1.41.59.51 0 1.02-.2 1.41-.59l7.78-7.78 2.81-2.81c.8-.78.8-2.07 0-2.86zM5.41 20L4 18.59l7.72-7.72 1.47 1.35L5.41 20z\"/>\n",
       "  </svg>\n",
       "      </button>\n",
       "      \n",
       "  <style>\n",
       "    .colab-df-container {\n",
       "      display:flex;\n",
       "      flex-wrap:wrap;\n",
       "      gap: 12px;\n",
       "    }\n",
       "\n",
       "    .colab-df-convert {\n",
       "      background-color: #E8F0FE;\n",
       "      border: none;\n",
       "      border-radius: 50%;\n",
       "      cursor: pointer;\n",
       "      display: none;\n",
       "      fill: #1967D2;\n",
       "      height: 32px;\n",
       "      padding: 0 0 0 0;\n",
       "      width: 32px;\n",
       "    }\n",
       "\n",
       "    .colab-df-convert:hover {\n",
       "      background-color: #E2EBFA;\n",
       "      box-shadow: 0px 1px 2px rgba(60, 64, 67, 0.3), 0px 1px 3px 1px rgba(60, 64, 67, 0.15);\n",
       "      fill: #174EA6;\n",
       "    }\n",
       "\n",
       "    [theme=dark] .colab-df-convert {\n",
       "      background-color: #3B4455;\n",
       "      fill: #D2E3FC;\n",
       "    }\n",
       "\n",
       "    [theme=dark] .colab-df-convert:hover {\n",
       "      background-color: #434B5C;\n",
       "      box-shadow: 0px 1px 3px 1px rgba(0, 0, 0, 0.15);\n",
       "      filter: drop-shadow(0px 1px 2px rgba(0, 0, 0, 0.3));\n",
       "      fill: #FFFFFF;\n",
       "    }\n",
       "  </style>\n",
       "\n",
       "      <script>\n",
       "        const buttonEl =\n",
       "          document.querySelector('#df-dc83bc80-9ba4-4079-8d1e-1359a21f1188 button.colab-df-convert');\n",
       "        buttonEl.style.display =\n",
       "          google.colab.kernel.accessAllowed ? 'block' : 'none';\n",
       "\n",
       "        async function convertToInteractive(key) {\n",
       "          const element = document.querySelector('#df-dc83bc80-9ba4-4079-8d1e-1359a21f1188');\n",
       "          const dataTable =\n",
       "            await google.colab.kernel.invokeFunction('convertToInteractive',\n",
       "                                                     [key], {});\n",
       "          if (!dataTable) return;\n",
       "\n",
       "          const docLinkHtml = 'Like what you see? Visit the ' +\n",
       "            '<a target=\"_blank\" href=https://colab.research.google.com/notebooks/data_table.ipynb>data table notebook</a>'\n",
       "            + ' to learn more about interactive tables.';\n",
       "          element.innerHTML = '';\n",
       "          dataTable['output_type'] = 'display_data';\n",
       "          await google.colab.output.renderOutput(dataTable, element);\n",
       "          const docLink = document.createElement('div');\n",
       "          docLink.innerHTML = docLinkHtml;\n",
       "          element.appendChild(docLink);\n",
       "        }\n",
       "      </script>\n",
       "    </div>\n",
       "  </div>\n",
       "  "
      ],
      "text/plain": [
       "  State       Lat       Lng      Area  Children  Age    Income   Marital  \\\n",
       "0    AL  34.34960 -86.72508  Suburban         1   53  86575.93  Divorced   \n",
       "1    FL  30.84513 -85.22907     Urban         3   51  46805.99   Married   \n",
       "2    SD  43.54321 -96.63772  Suburban         3   53  14370.14   Widowed   \n",
       "3    MN  43.89744 -93.51479  Suburban         0   78  39741.49   Married   \n",
       "4    VA  37.59894 -76.88958     Rural         1   22   1209.56   Widowed   \n",
       "\n",
       "   Gender  ReAdmis  ...  Hyperlipidemia  BackPain  Anxiety  Allergic_rhinitis  \\\n",
       "0    Male        0  ...               0         1        1                  1   \n",
       "1  Female        0  ...               0         0        0                  0   \n",
       "2  Female        0  ...               0         0        0                  0   \n",
       "3    Male        0  ...               0         0        0                  0   \n",
       "4  Female        0  ...               1         0        0                  1   \n",
       "\n",
       "   Reflux_esophagitis Asthma     Services  Initial_days  TotalCharge  \\\n",
       "0                   0      1   Blood Work     10.585770  3726.702860   \n",
       "1                   1      0  Intravenous     15.129562  4193.190458   \n",
       "2                   0      0   Blood Work      4.772177  2434.234222   \n",
       "3                   1      1   Blood Work      1.714879  2127.830423   \n",
       "4                   0      0      CT Scan      1.254807  2113.073274   \n",
       "\n",
       "   Additional_charges  \n",
       "0        17939.403420  \n",
       "1        17612.998120  \n",
       "2        17505.192460  \n",
       "3        12993.437350  \n",
       "4         3716.525786  \n",
       "\n",
       "[5 rows x 32 columns]"
      ]
     },
     "execution_count": 2,
     "metadata": {},
     "output_type": "execute_result"
    }
   ],
   "source": [
    "df = pd.read_excel('/content/drive/MyDrive/05 Week 5 - Intro to Machine Learning/0.Excel Files/medical.xlsx')\n",
    "df.head()\n"
   ]
  },
  {
   "cell_type": "markdown",
   "metadata": {
    "id": "0RP9KZHa5GRa"
   },
   "source": [
    "Format for ML and Train Test Split"
   ]
  },
  {
   "cell_type": "code",
   "execution_count": null,
   "metadata": {
    "id": "JVF9pgh55EFo"
   },
   "outputs": [],
   "source": [
    "X = df.drop(columns = 'Additional_charges')\n",
    "y = df['Additional_charges']\n",
    "X_train, X_test, y_train, y_test = train_test_split(X, y, random_state = 42)"
   ]
  },
  {
   "cell_type": "markdown",
   "metadata": {
    "id": "pIL4eXOO5Ibs"
   },
   "source": [
    "Make Column Selectors\n"
   ]
  },
  {
   "cell_type": "code",
   "execution_count": null,
   "metadata": {
    "id": "Fa3C1mQC5LBK"
   },
   "outputs": [],
   "source": [
    "cat_selector = make_column_selector(dtype_include='object')\n",
    "num_selector = make_column_selector(dtype_include='number')"
   ]
  },
  {
   "cell_type": "markdown",
   "metadata": {
    "id": "gTtnOIcU5Wdv"
   },
   "source": [
    "Instantiate the Standard Scaler and the One hot encoder\n"
   ]
  },
  {
   "cell_type": "code",
   "execution_count": null,
   "metadata": {
    "id": "ReXpf9S35Vcl"
   },
   "outputs": [],
   "source": [
    "scaler = StandardScaler()\n",
    "ohe = OneHotEncoder(handle_unknown='ignore')"
   ]
  },
  {
   "cell_type": "markdown",
   "metadata": {
    "id": "2HqG01qE5yDy"
   },
   "source": [
    "Match Transformer with Columns"
   ]
  },
  {
   "cell_type": "code",
   "execution_count": null,
   "metadata": {
    "id": "ge3vYhtp5lqy"
   },
   "outputs": [],
   "source": [
    "# Make tuples for preprocessing the categorical and numeric columns\n",
    "num_tuple = (scaler, num_selector)\n",
    "cat_tuple = (ohe, cat_selector)"
   ]
  },
  {
   "cell_type": "markdown",
   "metadata": {
    "id": "VMPCZvcL50i6"
   },
   "source": [
    "Instantiate the ColumnTransformer"
   ]
  },
  {
   "cell_type": "code",
   "execution_count": null,
   "metadata": {
    "id": "4Lx4tObz5ssF"
   },
   "outputs": [],
   "source": [
    "from sklearn.compose import make_column_transformer\n",
    "col_transformer = make_column_transformer(num_tuple, cat_tuple, remainder = 'passthrough')\n"
   ]
  },
  {
   "cell_type": "markdown",
   "metadata": {
    "id": "t23KvTQY56aR"
   },
   "source": [
    "Fit the Transformer"
   ]
  },
  {
   "cell_type": "code",
   "execution_count": null,
   "metadata": {
    "colab": {
     "base_uri": "https://localhost:8080/",
     "height": 116
    },
    "id": "M3kwv-ZQ56N3",
    "outputId": "d3b9dfbb-e979-4fc6-d502-15995e5474df"
   },
   "outputs": [
    {
     "data": {
      "text/html": [
       "<style>#sk-container-id-1 {color: black;background-color: white;}#sk-container-id-1 pre{padding: 0;}#sk-container-id-1 div.sk-toggleable {background-color: white;}#sk-container-id-1 label.sk-toggleable__label {cursor: pointer;display: block;width: 100%;margin-bottom: 0;padding: 0.3em;box-sizing: border-box;text-align: center;}#sk-container-id-1 label.sk-toggleable__label-arrow:before {content: \"▸\";float: left;margin-right: 0.25em;color: #696969;}#sk-container-id-1 label.sk-toggleable__label-arrow:hover:before {color: black;}#sk-container-id-1 div.sk-estimator:hover label.sk-toggleable__label-arrow:before {color: black;}#sk-container-id-1 div.sk-toggleable__content {max-height: 0;max-width: 0;overflow: hidden;text-align: left;background-color: #f0f8ff;}#sk-container-id-1 div.sk-toggleable__content pre {margin: 0.2em;color: black;border-radius: 0.25em;background-color: #f0f8ff;}#sk-container-id-1 input.sk-toggleable__control:checked~div.sk-toggleable__content {max-height: 200px;max-width: 100%;overflow: auto;}#sk-container-id-1 input.sk-toggleable__control:checked~label.sk-toggleable__label-arrow:before {content: \"▾\";}#sk-container-id-1 div.sk-estimator input.sk-toggleable__control:checked~label.sk-toggleable__label {background-color: #d4ebff;}#sk-container-id-1 div.sk-label input.sk-toggleable__control:checked~label.sk-toggleable__label {background-color: #d4ebff;}#sk-container-id-1 input.sk-hidden--visually {border: 0;clip: rect(1px 1px 1px 1px);clip: rect(1px, 1px, 1px, 1px);height: 1px;margin: -1px;overflow: hidden;padding: 0;position: absolute;width: 1px;}#sk-container-id-1 div.sk-estimator {font-family: monospace;background-color: #f0f8ff;border: 1px dotted black;border-radius: 0.25em;box-sizing: border-box;margin-bottom: 0.5em;}#sk-container-id-1 div.sk-estimator:hover {background-color: #d4ebff;}#sk-container-id-1 div.sk-parallel-item::after {content: \"\";width: 100%;border-bottom: 1px solid gray;flex-grow: 1;}#sk-container-id-1 div.sk-label:hover label.sk-toggleable__label {background-color: #d4ebff;}#sk-container-id-1 div.sk-serial::before {content: \"\";position: absolute;border-left: 1px solid gray;box-sizing: border-box;top: 0;bottom: 0;left: 50%;z-index: 0;}#sk-container-id-1 div.sk-serial {display: flex;flex-direction: column;align-items: center;background-color: white;padding-right: 0.2em;padding-left: 0.2em;position: relative;}#sk-container-id-1 div.sk-item {position: relative;z-index: 1;}#sk-container-id-1 div.sk-parallel {display: flex;align-items: stretch;justify-content: center;background-color: white;position: relative;}#sk-container-id-1 div.sk-item::before, #sk-container-id-1 div.sk-parallel-item::before {content: \"\";position: absolute;border-left: 1px solid gray;box-sizing: border-box;top: 0;bottom: 0;left: 50%;z-index: -1;}#sk-container-id-1 div.sk-parallel-item {display: flex;flex-direction: column;z-index: 1;position: relative;background-color: white;}#sk-container-id-1 div.sk-parallel-item:first-child::after {align-self: flex-end;width: 50%;}#sk-container-id-1 div.sk-parallel-item:last-child::after {align-self: flex-start;width: 50%;}#sk-container-id-1 div.sk-parallel-item:only-child::after {width: 0;}#sk-container-id-1 div.sk-dashed-wrapped {border: 1px dashed gray;margin: 0 0.4em 0.5em 0.4em;box-sizing: border-box;padding-bottom: 0.4em;background-color: white;}#sk-container-id-1 div.sk-label label {font-family: monospace;font-weight: bold;display: inline-block;line-height: 1.2em;}#sk-container-id-1 div.sk-label-container {text-align: center;}#sk-container-id-1 div.sk-container {/* jupyter's `normalize.less` sets `[hidden] { display: none; }` but bootstrap.min.css set `[hidden] { display: none !important; }` so we also need the `!important` here to be able to override the default hidden behavior on the sphinx rendered scikit-learn.org. See: https://github.com/scikit-learn/scikit-learn/issues/21755 */display: inline-block !important;position: relative;}#sk-container-id-1 div.sk-text-repr-fallback {display: none;}</style><div id=\"sk-container-id-1\" class=\"sk-top-container\"><div class=\"sk-text-repr-fallback\"><pre>ColumnTransformer(remainder=&#x27;passthrough&#x27;,\n",
       "                  transformers=[(&#x27;standardscaler&#x27;, StandardScaler(),\n",
       "                                 &lt;sklearn.compose._column_transformer.make_column_selector object at 0x7fa424974ac0&gt;),\n",
       "                                (&#x27;onehotencoder&#x27;,\n",
       "                                 OneHotEncoder(handle_unknown=&#x27;ignore&#x27;),\n",
       "                                 &lt;sklearn.compose._column_transformer.make_column_selector object at 0x7fa424974d00&gt;)])</pre><b>In a Jupyter environment, please rerun this cell to show the HTML representation or trust the notebook. <br />On GitHub, the HTML representation is unable to render, please try loading this page with nbviewer.org.</b></div><div class=\"sk-container\" hidden><div class=\"sk-item sk-dashed-wrapped\"><div class=\"sk-label-container\"><div class=\"sk-label sk-toggleable\"><input class=\"sk-toggleable__control sk-hidden--visually\" id=\"sk-estimator-id-1\" type=\"checkbox\" ><label for=\"sk-estimator-id-1\" class=\"sk-toggleable__label sk-toggleable__label-arrow\">ColumnTransformer</label><div class=\"sk-toggleable__content\"><pre>ColumnTransformer(remainder=&#x27;passthrough&#x27;,\n",
       "                  transformers=[(&#x27;standardscaler&#x27;, StandardScaler(),\n",
       "                                 &lt;sklearn.compose._column_transformer.make_column_selector object at 0x7fa424974ac0&gt;),\n",
       "                                (&#x27;onehotencoder&#x27;,\n",
       "                                 OneHotEncoder(handle_unknown=&#x27;ignore&#x27;),\n",
       "                                 &lt;sklearn.compose._column_transformer.make_column_selector object at 0x7fa424974d00&gt;)])</pre></div></div></div><div class=\"sk-parallel\"><div class=\"sk-parallel-item\"><div class=\"sk-item\"><div class=\"sk-label-container\"><div class=\"sk-label sk-toggleable\"><input class=\"sk-toggleable__control sk-hidden--visually\" id=\"sk-estimator-id-2\" type=\"checkbox\" ><label for=\"sk-estimator-id-2\" class=\"sk-toggleable__label sk-toggleable__label-arrow\">standardscaler</label><div class=\"sk-toggleable__content\"><pre>&lt;sklearn.compose._column_transformer.make_column_selector object at 0x7fa424974ac0&gt;</pre></div></div></div><div class=\"sk-serial\"><div class=\"sk-item\"><div class=\"sk-estimator sk-toggleable\"><input class=\"sk-toggleable__control sk-hidden--visually\" id=\"sk-estimator-id-3\" type=\"checkbox\" ><label for=\"sk-estimator-id-3\" class=\"sk-toggleable__label sk-toggleable__label-arrow\">StandardScaler</label><div class=\"sk-toggleable__content\"><pre>StandardScaler()</pre></div></div></div></div></div></div><div class=\"sk-parallel-item\"><div class=\"sk-item\"><div class=\"sk-label-container\"><div class=\"sk-label sk-toggleable\"><input class=\"sk-toggleable__control sk-hidden--visually\" id=\"sk-estimator-id-4\" type=\"checkbox\" ><label for=\"sk-estimator-id-4\" class=\"sk-toggleable__label sk-toggleable__label-arrow\">onehotencoder</label><div class=\"sk-toggleable__content\"><pre>&lt;sklearn.compose._column_transformer.make_column_selector object at 0x7fa424974d00&gt;</pre></div></div></div><div class=\"sk-serial\"><div class=\"sk-item\"><div class=\"sk-estimator sk-toggleable\"><input class=\"sk-toggleable__control sk-hidden--visually\" id=\"sk-estimator-id-5\" type=\"checkbox\" ><label for=\"sk-estimator-id-5\" class=\"sk-toggleable__label sk-toggleable__label-arrow\">OneHotEncoder</label><div class=\"sk-toggleable__content\"><pre>OneHotEncoder(handle_unknown=&#x27;ignore&#x27;)</pre></div></div></div></div></div></div><div class=\"sk-parallel-item\"><div class=\"sk-item\"><div class=\"sk-label-container\"><div class=\"sk-label sk-toggleable\"><input class=\"sk-toggleable__control sk-hidden--visually\" id=\"sk-estimator-id-6\" type=\"checkbox\" ><label for=\"sk-estimator-id-6\" class=\"sk-toggleable__label sk-toggleable__label-arrow\">remainder</label><div class=\"sk-toggleable__content\"><pre>[]</pre></div></div></div><div class=\"sk-serial\"><div class=\"sk-item\"><div class=\"sk-estimator sk-toggleable\"><input class=\"sk-toggleable__control sk-hidden--visually\" id=\"sk-estimator-id-7\" type=\"checkbox\" ><label for=\"sk-estimator-id-7\" class=\"sk-toggleable__label sk-toggleable__label-arrow\">passthrough</label><div class=\"sk-toggleable__content\"><pre>passthrough</pre></div></div></div></div></div></div></div></div></div></div>"
      ],
      "text/plain": [
       "ColumnTransformer(remainder='passthrough',\n",
       "                  transformers=[('standardscaler', StandardScaler(),\n",
       "                                 <sklearn.compose._column_transformer.make_column_selector object at 0x7fa424974ac0>),\n",
       "                                ('onehotencoder',\n",
       "                                 OneHotEncoder(handle_unknown='ignore'),\n",
       "                                 <sklearn.compose._column_transformer.make_column_selector object at 0x7fa424974d00>)])"
      ]
     },
     "execution_count": 8,
     "metadata": {},
     "output_type": "execute_result"
    }
   ],
   "source": [
    "col_transformer.fit(X_train)"
   ]
  },
  {
   "cell_type": "markdown",
   "metadata": {
    "id": "otwjBHyI6EEL"
   },
   "source": [
    "Transform"
   ]
  },
  {
   "cell_type": "code",
   "execution_count": null,
   "metadata": {
    "id": "jEXfV3Te6Dqy"
   },
   "outputs": [],
   "source": [
    "X_train_processed = col_transformer.transform(X_train)\n",
    "X_test_processed = col_transformer.transform(X_test)\n"
   ]
  },
  {
   "cell_type": "markdown",
   "metadata": {
    "id": "DmfnKzvh6NFe"
   },
   "source": [
    "View the transformations"
   ]
  },
  {
   "cell_type": "code",
   "execution_count": null,
   "metadata": {
    "colab": {
     "base_uri": "https://localhost:8080/",
     "height": 299
    },
    "id": "T5S_tHJz6O5a",
    "outputId": "7a2b6a4a-6a9d-4d02-e818-6e2a379b5a04"
   },
   "outputs": [
    {
     "data": {
      "text/html": [
       "\n",
       "  <div id=\"df-1546fe0d-66f5-4f2e-aa9f-8073c0f461f9\">\n",
       "    <div class=\"colab-df-container\">\n",
       "      <div>\n",
       "<style scoped>\n",
       "    .dataframe tbody tr th:only-of-type {\n",
       "        vertical-align: middle;\n",
       "    }\n",
       "\n",
       "    .dataframe tbody tr th {\n",
       "        vertical-align: top;\n",
       "    }\n",
       "\n",
       "    .dataframe thead th {\n",
       "        text-align: right;\n",
       "    }\n",
       "</style>\n",
       "<table border=\"1\" class=\"dataframe\">\n",
       "  <thead>\n",
       "    <tr style=\"text-align: right;\">\n",
       "      <th></th>\n",
       "      <th>0</th>\n",
       "      <th>1</th>\n",
       "      <th>2</th>\n",
       "      <th>3</th>\n",
       "      <th>4</th>\n",
       "      <th>5</th>\n",
       "      <th>6</th>\n",
       "      <th>7</th>\n",
       "      <th>8</th>\n",
       "      <th>9</th>\n",
       "      <th>...</th>\n",
       "      <th>90</th>\n",
       "      <th>91</th>\n",
       "      <th>92</th>\n",
       "      <th>93</th>\n",
       "      <th>94</th>\n",
       "      <th>95</th>\n",
       "      <th>96</th>\n",
       "      <th>97</th>\n",
       "      <th>98</th>\n",
       "      <th>99</th>\n",
       "    </tr>\n",
       "  </thead>\n",
       "  <tbody>\n",
       "    <tr>\n",
       "      <th>0</th>\n",
       "      <td>-0.508205</td>\n",
       "      <td>0.281935</td>\n",
       "      <td>-0.060153</td>\n",
       "      <td>0.272586</td>\n",
       "      <td>-1.123467</td>\n",
       "      <td>0.0</td>\n",
       "      <td>0.509399</td>\n",
       "      <td>-0.008943</td>\n",
       "      <td>0.014639</td>\n",
       "      <td>-0.620174</td>\n",
       "      <td>...</td>\n",
       "      <td>1.0</td>\n",
       "      <td>0.0</td>\n",
       "      <td>0.0</td>\n",
       "      <td>0.0</td>\n",
       "      <td>0.0</td>\n",
       "      <td>1.0</td>\n",
       "      <td>0.0</td>\n",
       "      <td>0.0</td>\n",
       "      <td>1.0</td>\n",
       "      <td>0.0</td>\n",
       "    </tr>\n",
       "    <tr>\n",
       "      <th>1</th>\n",
       "      <td>-0.720642</td>\n",
       "      <td>0.252836</td>\n",
       "      <td>1.241233</td>\n",
       "      <td>1.119125</td>\n",
       "      <td>-0.619881</td>\n",
       "      <td>0.0</td>\n",
       "      <td>-0.999823</td>\n",
       "      <td>1.907372</td>\n",
       "      <td>0.014639</td>\n",
       "      <td>-0.620174</td>\n",
       "      <td>...</td>\n",
       "      <td>1.0</td>\n",
       "      <td>0.0</td>\n",
       "      <td>0.0</td>\n",
       "      <td>0.0</td>\n",
       "      <td>0.0</td>\n",
       "      <td>1.0</td>\n",
       "      <td>1.0</td>\n",
       "      <td>0.0</td>\n",
       "      <td>0.0</td>\n",
       "      <td>0.0</td>\n",
       "    </tr>\n",
       "    <tr>\n",
       "      <th>2</th>\n",
       "      <td>-0.493403</td>\n",
       "      <td>0.482823</td>\n",
       "      <td>-0.493948</td>\n",
       "      <td>0.272586</td>\n",
       "      <td>-0.518276</td>\n",
       "      <td>0.0</td>\n",
       "      <td>0.119354</td>\n",
       "      <td>-0.967100</td>\n",
       "      <td>0.014639</td>\n",
       "      <td>-0.620174</td>\n",
       "      <td>...</td>\n",
       "      <td>0.0</td>\n",
       "      <td>1.0</td>\n",
       "      <td>1.0</td>\n",
       "      <td>0.0</td>\n",
       "      <td>0.0</td>\n",
       "      <td>0.0</td>\n",
       "      <td>0.0</td>\n",
       "      <td>0.0</td>\n",
       "      <td>1.0</td>\n",
       "      <td>0.0</td>\n",
       "    </tr>\n",
       "    <tr>\n",
       "      <th>3</th>\n",
       "      <td>1.134821</td>\n",
       "      <td>-0.434666</td>\n",
       "      <td>2.108824</td>\n",
       "      <td>1.307245</td>\n",
       "      <td>1.938720</td>\n",
       "      <td>0.0</td>\n",
       "      <td>-1.044875</td>\n",
       "      <td>-0.008943</td>\n",
       "      <td>-0.983474</td>\n",
       "      <td>2.762592</td>\n",
       "      <td>...</td>\n",
       "      <td>0.0</td>\n",
       "      <td>1.0</td>\n",
       "      <td>1.0</td>\n",
       "      <td>0.0</td>\n",
       "      <td>0.0</td>\n",
       "      <td>0.0</td>\n",
       "      <td>1.0</td>\n",
       "      <td>0.0</td>\n",
       "      <td>0.0</td>\n",
       "      <td>0.0</td>\n",
       "    </tr>\n",
       "    <tr>\n",
       "      <th>4</th>\n",
       "      <td>0.587322</td>\n",
       "      <td>0.497439</td>\n",
       "      <td>-0.927744</td>\n",
       "      <td>-0.809103</td>\n",
       "      <td>-0.328240</td>\n",
       "      <td>0.0</td>\n",
       "      <td>1.283708</td>\n",
       "      <td>-0.008943</td>\n",
       "      <td>0.014639</td>\n",
       "      <td>-0.620174</td>\n",
       "      <td>...</td>\n",
       "      <td>0.0</td>\n",
       "      <td>0.0</td>\n",
       "      <td>0.0</td>\n",
       "      <td>0.0</td>\n",
       "      <td>0.0</td>\n",
       "      <td>1.0</td>\n",
       "      <td>1.0</td>\n",
       "      <td>0.0</td>\n",
       "      <td>0.0</td>\n",
       "      <td>0.0</td>\n",
       "    </tr>\n",
       "  </tbody>\n",
       "</table>\n",
       "<p>5 rows × 100 columns</p>\n",
       "</div>\n",
       "      <button class=\"colab-df-convert\" onclick=\"convertToInteractive('df-1546fe0d-66f5-4f2e-aa9f-8073c0f461f9')\"\n",
       "              title=\"Convert this dataframe to an interactive table.\"\n",
       "              style=\"display:none;\">\n",
       "        \n",
       "  <svg xmlns=\"http://www.w3.org/2000/svg\" height=\"24px\"viewBox=\"0 0 24 24\"\n",
       "       width=\"24px\">\n",
       "    <path d=\"M0 0h24v24H0V0z\" fill=\"none\"/>\n",
       "    <path d=\"M18.56 5.44l.94 2.06.94-2.06 2.06-.94-2.06-.94-.94-2.06-.94 2.06-2.06.94zm-11 1L8.5 8.5l.94-2.06 2.06-.94-2.06-.94L8.5 2.5l-.94 2.06-2.06.94zm10 10l.94 2.06.94-2.06 2.06-.94-2.06-.94-.94-2.06-.94 2.06-2.06.94z\"/><path d=\"M17.41 7.96l-1.37-1.37c-.4-.4-.92-.59-1.43-.59-.52 0-1.04.2-1.43.59L10.3 9.45l-7.72 7.72c-.78.78-.78 2.05 0 2.83L4 21.41c.39.39.9.59 1.41.59.51 0 1.02-.2 1.41-.59l7.78-7.78 2.81-2.81c.8-.78.8-2.07 0-2.86zM5.41 20L4 18.59l7.72-7.72 1.47 1.35L5.41 20z\"/>\n",
       "  </svg>\n",
       "      </button>\n",
       "      \n",
       "  <style>\n",
       "    .colab-df-container {\n",
       "      display:flex;\n",
       "      flex-wrap:wrap;\n",
       "      gap: 12px;\n",
       "    }\n",
       "\n",
       "    .colab-df-convert {\n",
       "      background-color: #E8F0FE;\n",
       "      border: none;\n",
       "      border-radius: 50%;\n",
       "      cursor: pointer;\n",
       "      display: none;\n",
       "      fill: #1967D2;\n",
       "      height: 32px;\n",
       "      padding: 0 0 0 0;\n",
       "      width: 32px;\n",
       "    }\n",
       "\n",
       "    .colab-df-convert:hover {\n",
       "      background-color: #E2EBFA;\n",
       "      box-shadow: 0px 1px 2px rgba(60, 64, 67, 0.3), 0px 1px 3px 1px rgba(60, 64, 67, 0.15);\n",
       "      fill: #174EA6;\n",
       "    }\n",
       "\n",
       "    [theme=dark] .colab-df-convert {\n",
       "      background-color: #3B4455;\n",
       "      fill: #D2E3FC;\n",
       "    }\n",
       "\n",
       "    [theme=dark] .colab-df-convert:hover {\n",
       "      background-color: #434B5C;\n",
       "      box-shadow: 0px 1px 3px 1px rgba(0, 0, 0, 0.15);\n",
       "      filter: drop-shadow(0px 1px 2px rgba(0, 0, 0, 0.3));\n",
       "      fill: #FFFFFF;\n",
       "    }\n",
       "  </style>\n",
       "\n",
       "      <script>\n",
       "        const buttonEl =\n",
       "          document.querySelector('#df-1546fe0d-66f5-4f2e-aa9f-8073c0f461f9 button.colab-df-convert');\n",
       "        buttonEl.style.display =\n",
       "          google.colab.kernel.accessAllowed ? 'block' : 'none';\n",
       "\n",
       "        async function convertToInteractive(key) {\n",
       "          const element = document.querySelector('#df-1546fe0d-66f5-4f2e-aa9f-8073c0f461f9');\n",
       "          const dataTable =\n",
       "            await google.colab.kernel.invokeFunction('convertToInteractive',\n",
       "                                                     [key], {});\n",
       "          if (!dataTable) return;\n",
       "\n",
       "          const docLinkHtml = 'Like what you see? Visit the ' +\n",
       "            '<a target=\"_blank\" href=https://colab.research.google.com/notebooks/data_table.ipynb>data table notebook</a>'\n",
       "            + ' to learn more about interactive tables.';\n",
       "          element.innerHTML = '';\n",
       "          dataTable['output_type'] = 'display_data';\n",
       "          await google.colab.output.renderOutput(dataTable, element);\n",
       "          const docLink = document.createElement('div');\n",
       "          docLink.innerHTML = docLinkHtml;\n",
       "          element.appendChild(docLink);\n",
       "        }\n",
       "      </script>\n",
       "    </div>\n",
       "  </div>\n",
       "  "
      ],
      "text/plain": [
       "         0         1         2         3         4    5         6         7   \\\n",
       "0 -0.508205  0.281935 -0.060153  0.272586 -1.123467  0.0  0.509399 -0.008943   \n",
       "1 -0.720642  0.252836  1.241233  1.119125 -0.619881  0.0 -0.999823  1.907372   \n",
       "2 -0.493403  0.482823 -0.493948  0.272586 -0.518276  0.0  0.119354 -0.967100   \n",
       "3  1.134821 -0.434666  2.108824  1.307245  1.938720  0.0 -1.044875 -0.008943   \n",
       "4  0.587322  0.497439 -0.927744 -0.809103 -0.328240  0.0  1.283708 -0.008943   \n",
       "\n",
       "         8         9   ...   90   91   92   93   94   95   96   97   98   99  \n",
       "0  0.014639 -0.620174  ...  1.0  0.0  0.0  0.0  0.0  1.0  0.0  0.0  1.0  0.0  \n",
       "1  0.014639 -0.620174  ...  1.0  0.0  0.0  0.0  0.0  1.0  1.0  0.0  0.0  0.0  \n",
       "2  0.014639 -0.620174  ...  0.0  1.0  1.0  0.0  0.0  0.0  0.0  0.0  1.0  0.0  \n",
       "3 -0.983474  2.762592  ...  0.0  1.0  1.0  0.0  0.0  0.0  1.0  0.0  0.0  0.0  \n",
       "4  0.014639 -0.620174  ...  0.0  0.0  0.0  0.0  0.0  1.0  1.0  0.0  0.0  0.0  \n",
       "\n",
       "[5 rows x 100 columns]"
      ]
     },
     "execution_count": 10,
     "metadata": {},
     "output_type": "execute_result"
    }
   ],
   "source": [
    "X_train_df = pd.DataFrame(X_train_processed)\n",
    "X_train_df.head()"
   ]
  },
  {
   "cell_type": "code",
   "execution_count": null,
   "metadata": {
    "colab": {
     "base_uri": "https://localhost:8080/"
    },
    "id": "wYukku5X6UrG",
    "outputId": "da52af46-da1d-4d1b-9e29-54e71c53803e"
   },
   "outputs": [
    {
     "name": "stdout",
     "output_type": "stream",
     "text": [
      "<class 'pandas.core.frame.DataFrame'>\n",
      "RangeIndex: 750 entries, 0 to 749\n",
      "Data columns (total 100 columns):\n",
      " #   Column  Non-Null Count  Dtype  \n",
      "---  ------  --------------  -----  \n",
      " 0   0       750 non-null    float64\n",
      " 1   1       750 non-null    float64\n",
      " 2   2       750 non-null    float64\n",
      " 3   3       750 non-null    float64\n",
      " 4   4       750 non-null    float64\n",
      " 5   5       750 non-null    float64\n",
      " 6   6       750 non-null    float64\n",
      " 7   7       750 non-null    float64\n",
      " 8   8       750 non-null    float64\n",
      " 9   9       750 non-null    float64\n",
      " 10  10      750 non-null    float64\n",
      " 11  11      750 non-null    float64\n",
      " 12  12      750 non-null    float64\n",
      " 13  13      750 non-null    float64\n",
      " 14  14      750 non-null    float64\n",
      " 15  15      750 non-null    float64\n",
      " 16  16      750 non-null    float64\n",
      " 17  17      750 non-null    float64\n",
      " 18  18      750 non-null    float64\n",
      " 19  19      750 non-null    float64\n",
      " 20  20      750 non-null    float64\n",
      " 21  21      750 non-null    float64\n",
      " 22  22      750 non-null    float64\n",
      " 23  23      750 non-null    float64\n",
      " 24  24      750 non-null    float64\n",
      " 25  25      750 non-null    float64\n",
      " 26  26      750 non-null    float64\n",
      " 27  27      750 non-null    float64\n",
      " 28  28      750 non-null    float64\n",
      " 29  29      750 non-null    float64\n",
      " 30  30      750 non-null    float64\n",
      " 31  31      750 non-null    float64\n",
      " 32  32      750 non-null    float64\n",
      " 33  33      750 non-null    float64\n",
      " 34  34      750 non-null    float64\n",
      " 35  35      750 non-null    float64\n",
      " 36  36      750 non-null    float64\n",
      " 37  37      750 non-null    float64\n",
      " 38  38      750 non-null    float64\n",
      " 39  39      750 non-null    float64\n",
      " 40  40      750 non-null    float64\n",
      " 41  41      750 non-null    float64\n",
      " 42  42      750 non-null    float64\n",
      " 43  43      750 non-null    float64\n",
      " 44  44      750 non-null    float64\n",
      " 45  45      750 non-null    float64\n",
      " 46  46      750 non-null    float64\n",
      " 47  47      750 non-null    float64\n",
      " 48  48      750 non-null    float64\n",
      " 49  49      750 non-null    float64\n",
      " 50  50      750 non-null    float64\n",
      " 51  51      750 non-null    float64\n",
      " 52  52      750 non-null    float64\n",
      " 53  53      750 non-null    float64\n",
      " 54  54      750 non-null    float64\n",
      " 55  55      750 non-null    float64\n",
      " 56  56      750 non-null    float64\n",
      " 57  57      750 non-null    float64\n",
      " 58  58      750 non-null    float64\n",
      " 59  59      750 non-null    float64\n",
      " 60  60      750 non-null    float64\n",
      " 61  61      750 non-null    float64\n",
      " 62  62      750 non-null    float64\n",
      " 63  63      750 non-null    float64\n",
      " 64  64      750 non-null    float64\n",
      " 65  65      750 non-null    float64\n",
      " 66  66      750 non-null    float64\n",
      " 67  67      750 non-null    float64\n",
      " 68  68      750 non-null    float64\n",
      " 69  69      750 non-null    float64\n",
      " 70  70      750 non-null    float64\n",
      " 71  71      750 non-null    float64\n",
      " 72  72      750 non-null    float64\n",
      " 73  73      750 non-null    float64\n",
      " 74  74      750 non-null    float64\n",
      " 75  75      750 non-null    float64\n",
      " 76  76      750 non-null    float64\n",
      " 77  77      750 non-null    float64\n",
      " 78  78      750 non-null    float64\n",
      " 79  79      750 non-null    float64\n",
      " 80  80      750 non-null    float64\n",
      " 81  81      750 non-null    float64\n",
      " 82  82      750 non-null    float64\n",
      " 83  83      750 non-null    float64\n",
      " 84  84      750 non-null    float64\n",
      " 85  85      750 non-null    float64\n",
      " 86  86      750 non-null    float64\n",
      " 87  87      750 non-null    float64\n",
      " 88  88      750 non-null    float64\n",
      " 89  89      750 non-null    float64\n",
      " 90  90      750 non-null    float64\n",
      " 91  91      750 non-null    float64\n",
      " 92  92      750 non-null    float64\n",
      " 93  93      750 non-null    float64\n",
      " 94  94      750 non-null    float64\n",
      " 95  95      750 non-null    float64\n",
      " 96  96      750 non-null    float64\n",
      " 97  97      750 non-null    float64\n",
      " 98  98      750 non-null    float64\n",
      " 99  99      750 non-null    float64\n",
      "dtypes: float64(100)\n",
      "memory usage: 586.1 KB\n"
     ]
    }
   ],
   "source": [
    "X_train_df.info()"
   ]
  },
  {
   "cell_type": "markdown",
   "metadata": {
    "id": "iZUu2HpX6dQU"
   },
   "source": [
    "Summary"
   ]
  },
  {
   "cell_type": "markdown",
   "metadata": {
    "id": "NLkM6dOe6eEd"
   },
   "source": [
    "Often you will need to do different transformations on different columns. ColumnTransformer can split the columns apart, transform different columns in different ways, and then stitch them back together automatically. This will save you time and code, make your process more transparent, help prevent data leakage, and prepare your preprocessing workflow for future real-world deployment."
   ]
  },
  {
   "cell_type": "markdown",
   "metadata": {
    "id": "0qLH_HMCCcql"
   },
   "source": [
    "### Simple Imputer (note code is just for demonstration)"
   ]
  },
  {
   "cell_type": "markdown",
   "metadata": {
    "id": "fTgQgXFsCmXa"
   },
   "source": [
    "- SimpleImputer prevents data leakage\n",
    "- We do not impute values based on any calculation that involve the test set\n",
    "- Any calculations (mean, median, ect) must only be done on the training set to avoid data leakage\n",
    "- We impute after our validation split\n",
    "\n",
    "SimpleImputer can use any of the 5 strategies below:\n",
    "\n",
    "- 'mean', fill missing values with the mean average of the column they are in.\n",
    "- 'median', fill missing values with the median average of the column they are in.\n",
    "- 'mode', fill missing values with the mode average of the column they are in.\n",
    "- 'most_frequent', fill missing values with the most frequent value in the column they are in (equivalent to 'mode' for numeric columns).\n",
    "- 'constant', provide a constant value to use to fill missing values. A common choice for categorical data is 'missing'.\n"
   ]
  },
  {
   "cell_type": "markdown",
   "metadata": {
    "id": "WiYWhNyCECH-"
   },
   "source": [
    "### Pipelines"
   ]
  },
  {
   "cell_type": "markdown",
   "metadata": {
    "id": "strwXdMOEsac"
   },
   "source": [
    "![image.png](data:image/png;base64,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)"
   ]
  },
  {
   "cell_type": "markdown",
   "metadata": {
    "id": "jGrFhh7YEuzq"
   },
   "source": [
    "Pipelines contain multiple transformers that happen sequentially and the order you build them matters\n",
    "\n",
    "Why use them for Machine Learning?\n",
    "\n",
    "1.   So much less code, able to do a lot with less lines of code\n",
    "2.   Easier to read, shows readers simply and easily what is happening at each step in pipeline\n",
    "3. Easy to use in production models - a preprocessing pipeline can ensure that the new data can be quickly and easily preprocessed for modeling\n",
    "4. Pipelines can prevent data leakage- they are designed to be only fit on training data\n",
    "\n"
   ]
  },
  {
   "cell_type": "markdown",
   "metadata": {
    "id": "bLZ0utH7GLZE"
   },
   "source": [
    "When you instantiate a pipeline you will pass a number of transformers (and one estimator at the end, if needed), in the order you want them applied. We will use sklearn.pipeline.make_pipeline() to construct our pipelines. "
   ]
  },
  {
   "cell_type": "markdown",
   "metadata": {
    "id": "NDRTtgUaGTAF"
   },
   "source": [
    "Steps to Make a Pipeline:\n",
    "0. Import Necessary Libraries.\n",
    "\n",
    "1. Load Data.\n",
    "\n",
    "2. Inspect the Data.\n",
    "\n",
    "3. Validation Split.\n",
    "\n",
    "4. Instantiate the Transformers.\n",
    "\n",
    "5. Instantiate the Pipeline Using Transformers.\n",
    "\n",
    "6. Fit Pipeline on the Training Data.\n",
    "\n",
    "7. Transform Both the Training and Testing Data.\n",
    "\n",
    "8. Inspect the Result."
   ]
  },
  {
   "cell_type": "markdown",
   "metadata": {
    "id": "m1I4A2HsGX1l"
   },
   "source": [
    "#### Example in Dataset (code)"
   ]
  },
  {
   "cell_type": "markdown",
   "metadata": {
    "id": "SS_eezTcGg0u"
   },
   "source": [
    "We will import our imputer, scaler, and also the make_pipeline() function to create our Pipeline object. We will also import sklearn.set_config and set the display configuration to 'diagram'. This way when we inspect our pipeline sklearn will draw us a diagram rather than just outputting a textual description of the steps."
   ]
  },
  {
   "cell_type": "code",
   "execution_count": null,
   "metadata": {
    "id": "1REArypqGcbS"
   },
   "outputs": [],
   "source": [
    "# Imports\n",
    "import pandas as pd\n",
    "import numpy as np\n",
    "from sklearn.pipeline import make_pipeline\n",
    "from sklearn.impute import SimpleImputer\n",
    "from sklearn.preprocessing import StandardScaler\n",
    "from sklearn.model_selection import train_test_split\n",
    "from sklearn import set_config\n",
    "set_config(display='diagram')"
   ]
  },
  {
   "cell_type": "code",
   "execution_count": null,
   "metadata": {
    "colab": {
     "base_uri": "https://localhost:8080/",
     "height": 353
    },
    "id": "e9YKYYFIGynJ",
    "outputId": "3d148893-da16-47cf-ece4-2f73913e55f7"
   },
   "outputs": [
    {
     "data": {
      "text/html": [
       "\n",
       "  <div id=\"df-2e6bbea9-cd14-48eb-af1a-b36ec0af3492\">\n",
       "    <div class=\"colab-df-container\">\n",
       "      <div>\n",
       "<style scoped>\n",
       "    .dataframe tbody tr th:only-of-type {\n",
       "        vertical-align: middle;\n",
       "    }\n",
       "\n",
       "    .dataframe tbody tr th {\n",
       "        vertical-align: top;\n",
       "    }\n",
       "\n",
       "    .dataframe thead th {\n",
       "        text-align: right;\n",
       "    }\n",
       "</style>\n",
       "<table border=\"1\" class=\"dataframe\">\n",
       "  <thead>\n",
       "    <tr style=\"text-align: right;\">\n",
       "      <th></th>\n",
       "      <th>Status</th>\n",
       "      <th>Life expectancy</th>\n",
       "      <th>Adult Mortality</th>\n",
       "      <th>infant deaths</th>\n",
       "      <th>Alcohol</th>\n",
       "      <th>percentage expenditure</th>\n",
       "      <th>Hepatitis B</th>\n",
       "      <th>Measles</th>\n",
       "      <th>BMI</th>\n",
       "      <th>under-five deaths</th>\n",
       "      <th>Polio</th>\n",
       "      <th>Total expenditure</th>\n",
       "      <th>Diphtheria</th>\n",
       "      <th>HIV/AIDS</th>\n",
       "      <th>GDP</th>\n",
       "      <th>Population</th>\n",
       "      <th>thinness  1-19 years</th>\n",
       "      <th>thinness 5-9 years</th>\n",
       "      <th>Income composition of resources</th>\n",
       "      <th>Schooling</th>\n",
       "    </tr>\n",
       "    <tr>\n",
       "      <th>CountryYear</th>\n",
       "      <th></th>\n",
       "      <th></th>\n",
       "      <th></th>\n",
       "      <th></th>\n",
       "      <th></th>\n",
       "      <th></th>\n",
       "      <th></th>\n",
       "      <th></th>\n",
       "      <th></th>\n",
       "      <th></th>\n",
       "      <th></th>\n",
       "      <th></th>\n",
       "      <th></th>\n",
       "      <th></th>\n",
       "      <th></th>\n",
       "      <th></th>\n",
       "      <th></th>\n",
       "      <th></th>\n",
       "      <th></th>\n",
       "      <th></th>\n",
       "    </tr>\n",
       "  </thead>\n",
       "  <tbody>\n",
       "    <tr>\n",
       "      <th>Afghanistan2015</th>\n",
       "      <td>0</td>\n",
       "      <td>65.0</td>\n",
       "      <td>263</td>\n",
       "      <td>62</td>\n",
       "      <td>0.01</td>\n",
       "      <td>71.279624</td>\n",
       "      <td>65.0</td>\n",
       "      <td>1154</td>\n",
       "      <td>19.1</td>\n",
       "      <td>83</td>\n",
       "      <td>6.0</td>\n",
       "      <td>8.16</td>\n",
       "      <td>65.0</td>\n",
       "      <td>0.1</td>\n",
       "      <td>584.259210</td>\n",
       "      <td>33736494.0</td>\n",
       "      <td>17.2</td>\n",
       "      <td>17.3</td>\n",
       "      <td>0.479</td>\n",
       "      <td>10.1</td>\n",
       "    </tr>\n",
       "    <tr>\n",
       "      <th>Afghanistan2014</th>\n",
       "      <td>0</td>\n",
       "      <td>59.9</td>\n",
       "      <td>271</td>\n",
       "      <td>64</td>\n",
       "      <td>0.01</td>\n",
       "      <td>73.523582</td>\n",
       "      <td>62.0</td>\n",
       "      <td>492</td>\n",
       "      <td>18.6</td>\n",
       "      <td>86</td>\n",
       "      <td>58.0</td>\n",
       "      <td>8.18</td>\n",
       "      <td>62.0</td>\n",
       "      <td>0.1</td>\n",
       "      <td>612.696514</td>\n",
       "      <td>327582.0</td>\n",
       "      <td>17.5</td>\n",
       "      <td>17.5</td>\n",
       "      <td>0.476</td>\n",
       "      <td>10.0</td>\n",
       "    </tr>\n",
       "    <tr>\n",
       "      <th>Afghanistan2013</th>\n",
       "      <td>0</td>\n",
       "      <td>59.9</td>\n",
       "      <td>268</td>\n",
       "      <td>66</td>\n",
       "      <td>0.01</td>\n",
       "      <td>73.219243</td>\n",
       "      <td>64.0</td>\n",
       "      <td>430</td>\n",
       "      <td>18.1</td>\n",
       "      <td>89</td>\n",
       "      <td>62.0</td>\n",
       "      <td>8.13</td>\n",
       "      <td>64.0</td>\n",
       "      <td>0.1</td>\n",
       "      <td>631.744976</td>\n",
       "      <td>31731688.0</td>\n",
       "      <td>17.7</td>\n",
       "      <td>17.7</td>\n",
       "      <td>0.470</td>\n",
       "      <td>9.9</td>\n",
       "    </tr>\n",
       "    <tr>\n",
       "      <th>Afghanistan2012</th>\n",
       "      <td>0</td>\n",
       "      <td>59.5</td>\n",
       "      <td>272</td>\n",
       "      <td>69</td>\n",
       "      <td>0.01</td>\n",
       "      <td>78.184215</td>\n",
       "      <td>67.0</td>\n",
       "      <td>2787</td>\n",
       "      <td>17.6</td>\n",
       "      <td>93</td>\n",
       "      <td>67.0</td>\n",
       "      <td>8.52</td>\n",
       "      <td>67.0</td>\n",
       "      <td>0.1</td>\n",
       "      <td>669.959000</td>\n",
       "      <td>3696958.0</td>\n",
       "      <td>17.9</td>\n",
       "      <td>18.0</td>\n",
       "      <td>0.463</td>\n",
       "      <td>9.8</td>\n",
       "    </tr>\n",
       "    <tr>\n",
       "      <th>Afghanistan2011</th>\n",
       "      <td>0</td>\n",
       "      <td>59.2</td>\n",
       "      <td>275</td>\n",
       "      <td>71</td>\n",
       "      <td>0.01</td>\n",
       "      <td>7.097109</td>\n",
       "      <td>68.0</td>\n",
       "      <td>3013</td>\n",
       "      <td>17.2</td>\n",
       "      <td>97</td>\n",
       "      <td>68.0</td>\n",
       "      <td>7.87</td>\n",
       "      <td>68.0</td>\n",
       "      <td>0.1</td>\n",
       "      <td>63.537231</td>\n",
       "      <td>2978599.0</td>\n",
       "      <td>18.2</td>\n",
       "      <td>18.2</td>\n",
       "      <td>0.454</td>\n",
       "      <td>9.5</td>\n",
       "    </tr>\n",
       "  </tbody>\n",
       "</table>\n",
       "</div>\n",
       "      <button class=\"colab-df-convert\" onclick=\"convertToInteractive('df-2e6bbea9-cd14-48eb-af1a-b36ec0af3492')\"\n",
       "              title=\"Convert this dataframe to an interactive table.\"\n",
       "              style=\"display:none;\">\n",
       "        \n",
       "  <svg xmlns=\"http://www.w3.org/2000/svg\" height=\"24px\"viewBox=\"0 0 24 24\"\n",
       "       width=\"24px\">\n",
       "    <path d=\"M0 0h24v24H0V0z\" fill=\"none\"/>\n",
       "    <path d=\"M18.56 5.44l.94 2.06.94-2.06 2.06-.94-2.06-.94-.94-2.06-.94 2.06-2.06.94zm-11 1L8.5 8.5l.94-2.06 2.06-.94-2.06-.94L8.5 2.5l-.94 2.06-2.06.94zm10 10l.94 2.06.94-2.06 2.06-.94-2.06-.94-.94-2.06-.94 2.06-2.06.94z\"/><path d=\"M17.41 7.96l-1.37-1.37c-.4-.4-.92-.59-1.43-.59-.52 0-1.04.2-1.43.59L10.3 9.45l-7.72 7.72c-.78.78-.78 2.05 0 2.83L4 21.41c.39.39.9.59 1.41.59.51 0 1.02-.2 1.41-.59l7.78-7.78 2.81-2.81c.8-.78.8-2.07 0-2.86zM5.41 20L4 18.59l7.72-7.72 1.47 1.35L5.41 20z\"/>\n",
       "  </svg>\n",
       "      </button>\n",
       "      \n",
       "  <style>\n",
       "    .colab-df-container {\n",
       "      display:flex;\n",
       "      flex-wrap:wrap;\n",
       "      gap: 12px;\n",
       "    }\n",
       "\n",
       "    .colab-df-convert {\n",
       "      background-color: #E8F0FE;\n",
       "      border: none;\n",
       "      border-radius: 50%;\n",
       "      cursor: pointer;\n",
       "      display: none;\n",
       "      fill: #1967D2;\n",
       "      height: 32px;\n",
       "      padding: 0 0 0 0;\n",
       "      width: 32px;\n",
       "    }\n",
       "\n",
       "    .colab-df-convert:hover {\n",
       "      background-color: #E2EBFA;\n",
       "      box-shadow: 0px 1px 2px rgba(60, 64, 67, 0.3), 0px 1px 3px 1px rgba(60, 64, 67, 0.15);\n",
       "      fill: #174EA6;\n",
       "    }\n",
       "\n",
       "    [theme=dark] .colab-df-convert {\n",
       "      background-color: #3B4455;\n",
       "      fill: #D2E3FC;\n",
       "    }\n",
       "\n",
       "    [theme=dark] .colab-df-convert:hover {\n",
       "      background-color: #434B5C;\n",
       "      box-shadow: 0px 1px 3px 1px rgba(0, 0, 0, 0.15);\n",
       "      filter: drop-shadow(0px 1px 2px rgba(0, 0, 0, 0.3));\n",
       "      fill: #FFFFFF;\n",
       "    }\n",
       "  </style>\n",
       "\n",
       "      <script>\n",
       "        const buttonEl =\n",
       "          document.querySelector('#df-2e6bbea9-cd14-48eb-af1a-b36ec0af3492 button.colab-df-convert');\n",
       "        buttonEl.style.display =\n",
       "          google.colab.kernel.accessAllowed ? 'block' : 'none';\n",
       "\n",
       "        async function convertToInteractive(key) {\n",
       "          const element = document.querySelector('#df-2e6bbea9-cd14-48eb-af1a-b36ec0af3492');\n",
       "          const dataTable =\n",
       "            await google.colab.kernel.invokeFunction('convertToInteractive',\n",
       "                                                     [key], {});\n",
       "          if (!dataTable) return;\n",
       "\n",
       "          const docLinkHtml = 'Like what you see? Visit the ' +\n",
       "            '<a target=\"_blank\" href=https://colab.research.google.com/notebooks/data_table.ipynb>data table notebook</a>'\n",
       "            + ' to learn more about interactive tables.';\n",
       "          element.innerHTML = '';\n",
       "          dataTable['output_type'] = 'display_data';\n",
       "          await google.colab.output.renderOutput(dataTable, element);\n",
       "          const docLink = document.createElement('div');\n",
       "          docLink.innerHTML = docLinkHtml;\n",
       "          element.appendChild(docLink);\n",
       "        }\n",
       "      </script>\n",
       "    </div>\n",
       "  </div>\n",
       "  "
      ],
      "text/plain": [
       "                 Status  Life expectancy  Adult Mortality  infant deaths  \\\n",
       "CountryYear                                                                \n",
       "Afghanistan2015       0             65.0              263             62   \n",
       "Afghanistan2014       0             59.9              271             64   \n",
       "Afghanistan2013       0             59.9              268             66   \n",
       "Afghanistan2012       0             59.5              272             69   \n",
       "Afghanistan2011       0             59.2              275             71   \n",
       "\n",
       "                 Alcohol  percentage expenditure  Hepatitis B  Measles   BMI  \\\n",
       "CountryYear                                                                    \n",
       "Afghanistan2015     0.01               71.279624         65.0     1154  19.1   \n",
       "Afghanistan2014     0.01               73.523582         62.0      492  18.6   \n",
       "Afghanistan2013     0.01               73.219243         64.0      430  18.1   \n",
       "Afghanistan2012     0.01               78.184215         67.0     2787  17.6   \n",
       "Afghanistan2011     0.01                7.097109         68.0     3013  17.2   \n",
       "\n",
       "                 under-five deaths  Polio  Total expenditure  Diphtheria  \\\n",
       "CountryYear                                                                \n",
       "Afghanistan2015                 83    6.0               8.16        65.0   \n",
       "Afghanistan2014                 86   58.0               8.18        62.0   \n",
       "Afghanistan2013                 89   62.0               8.13        64.0   \n",
       "Afghanistan2012                 93   67.0               8.52        67.0   \n",
       "Afghanistan2011                 97   68.0               7.87        68.0   \n",
       "\n",
       "                 HIV/AIDS         GDP  Population  thinness  1-19 years  \\\n",
       "CountryYear                                                               \n",
       "Afghanistan2015       0.1  584.259210  33736494.0                  17.2   \n",
       "Afghanistan2014       0.1  612.696514    327582.0                  17.5   \n",
       "Afghanistan2013       0.1  631.744976  31731688.0                  17.7   \n",
       "Afghanistan2012       0.1  669.959000   3696958.0                  17.9   \n",
       "Afghanistan2011       0.1   63.537231   2978599.0                  18.2   \n",
       "\n",
       "                 thinness 5-9 years  Income composition of resources  \\\n",
       "CountryYear                                                            \n",
       "Afghanistan2015                17.3                            0.479   \n",
       "Afghanistan2014                17.5                            0.476   \n",
       "Afghanistan2013                17.7                            0.470   \n",
       "Afghanistan2012                18.0                            0.463   \n",
       "Afghanistan2011                18.2                            0.454   \n",
       "\n",
       "                 Schooling  \n",
       "CountryYear                 \n",
       "Afghanistan2015       10.1  \n",
       "Afghanistan2014       10.0  \n",
       "Afghanistan2013        9.9  \n",
       "Afghanistan2012        9.8  \n",
       "Afghanistan2011        9.5  "
      ]
     },
     "execution_count": 13,
     "metadata": {},
     "output_type": "execute_result"
    }
   ],
   "source": [
    "#load the data\n",
    "path = 'https://docs.google.com/spreadsheets/d/e/2PACX-1vQG5QTgHn7O1FaenQgpiHadFAza6cfG-cXznWh9a_Z-QWsbsrv3iJ5MpDdSSKTK7ZpTpRosOkK_LR_E/pub?output=csv'\n",
    "df = pd.read_csv(path, index_col='CountryYear')\n",
    "df.head()"
   ]
  },
  {
   "cell_type": "markdown",
   "metadata": {
    "id": "A9DG2h-OG9xE"
   },
   "source": [
    "All different scales, we want to be sure to scale the data before the model is fit"
   ]
  },
  {
   "cell_type": "code",
   "execution_count": null,
   "metadata": {
    "colab": {
     "base_uri": "https://localhost:8080/"
    },
    "id": "tvBHdCGQHC8o",
    "outputId": "20f172e3-cc6f-4397-8cbc-19e622c75c7f"
   },
   "outputs": [
    {
     "name": "stdout",
     "output_type": "stream",
     "text": [
      "<class 'pandas.core.frame.DataFrame'>\n",
      "Index: 2928 entries, Afghanistan2015 to Zimbabwe2000\n",
      "Data columns (total 20 columns):\n",
      " #   Column                           Non-Null Count  Dtype  \n",
      "---  ------                           --------------  -----  \n",
      " 0   Status                           2928 non-null   int64  \n",
      " 1   Life expectancy                  2928 non-null   float64\n",
      " 2   Adult Mortality                  2928 non-null   int64  \n",
      " 3   infant deaths                    2928 non-null   int64  \n",
      " 4   Alcohol                          2735 non-null   float64\n",
      " 5   percentage expenditure           2928 non-null   float64\n",
      " 6   Hepatitis B                      2375 non-null   float64\n",
      " 7   Measles                          2928 non-null   int64  \n",
      " 8   BMI                              2896 non-null   float64\n",
      " 9   under-five deaths                2928 non-null   int64  \n",
      " 10  Polio                            2909 non-null   float64\n",
      " 11  Total expenditure                2702 non-null   float64\n",
      " 12  Diphtheria                       2909 non-null   float64\n",
      " 13  HIV/AIDS                         2928 non-null   float64\n",
      " 14  GDP                              2485 non-null   float64\n",
      " 15  Population                       2284 non-null   float64\n",
      " 16  thinness  1-19 years             2896 non-null   float64\n",
      " 17  thinness 5-9 years               2896 non-null   float64\n",
      " 18  Income composition of resources  2768 non-null   float64\n",
      " 19  Schooling                        2768 non-null   float64\n",
      "dtypes: float64(15), int64(5)\n",
      "memory usage: 480.4+ KB\n",
      "None \n",
      "\n",
      "Status                               0\n",
      "Life expectancy                      0\n",
      "Adult Mortality                      0\n",
      "infant deaths                        0\n",
      "Alcohol                            193\n",
      "percentage expenditure               0\n",
      "Hepatitis B                        553\n",
      "Measles                              0\n",
      "BMI                                 32\n",
      "under-five deaths                    0\n",
      "Polio                               19\n",
      "Total expenditure                  226\n",
      "Diphtheria                          19\n",
      "HIV/AIDS                             0\n",
      "GDP                                443\n",
      "Population                         644\n",
      "thinness  1-19 years                32\n",
      "thinness 5-9 years                  32\n",
      "Income composition of resources    160\n",
      "Schooling                          160\n",
      "dtype: int64\n"
     ]
    }
   ],
   "source": [
    "#inspect the data\n",
    "print(df.info(), '\\n')\n",
    "print(df.isna().sum())"
   ]
  },
  {
   "cell_type": "code",
   "execution_count": null,
   "metadata": {
    "id": "3nb9R52-HP3q"
   },
   "outputs": [],
   "source": [
    "# divide features and target and perform a train/test split.\n",
    "X = df.drop(columns=['Life expectancy'])\n",
    "y = df['Life expectancy']\n",
    "X_train, X_test, y_train, y_test = train_test_split(X, y, random_state = 42)"
   ]
  },
  {
   "cell_type": "code",
   "execution_count": null,
   "metadata": {
    "id": "uJZX79uNHSmb"
   },
   "outputs": [],
   "source": [
    "#instantiate an imputer and a scaler\n",
    "median_imputer = SimpleImputer(strategy='median')\n",
    "scaler = StandardScaler()\n"
   ]
  },
  {
   "cell_type": "code",
   "execution_count": null,
   "metadata": {
    "colab": {
     "base_uri": "https://localhost:8080/",
     "height": 125
    },
    "id": "B_cwhJ4iHYhG",
    "outputId": "fe7966e4-1050-41c5-d696-032b88a6c12b"
   },
   "outputs": [
    {
     "data": {
      "text/html": [
       "<style>#sk-container-id-2 {color: black;background-color: white;}#sk-container-id-2 pre{padding: 0;}#sk-container-id-2 div.sk-toggleable {background-color: white;}#sk-container-id-2 label.sk-toggleable__label {cursor: pointer;display: block;width: 100%;margin-bottom: 0;padding: 0.3em;box-sizing: border-box;text-align: center;}#sk-container-id-2 label.sk-toggleable__label-arrow:before {content: \"▸\";float: left;margin-right: 0.25em;color: #696969;}#sk-container-id-2 label.sk-toggleable__label-arrow:hover:before {color: black;}#sk-container-id-2 div.sk-estimator:hover label.sk-toggleable__label-arrow:before {color: black;}#sk-container-id-2 div.sk-toggleable__content {max-height: 0;max-width: 0;overflow: hidden;text-align: left;background-color: #f0f8ff;}#sk-container-id-2 div.sk-toggleable__content pre {margin: 0.2em;color: black;border-radius: 0.25em;background-color: #f0f8ff;}#sk-container-id-2 input.sk-toggleable__control:checked~div.sk-toggleable__content {max-height: 200px;max-width: 100%;overflow: auto;}#sk-container-id-2 input.sk-toggleable__control:checked~label.sk-toggleable__label-arrow:before {content: \"▾\";}#sk-container-id-2 div.sk-estimator input.sk-toggleable__control:checked~label.sk-toggleable__label {background-color: #d4ebff;}#sk-container-id-2 div.sk-label input.sk-toggleable__control:checked~label.sk-toggleable__label {background-color: #d4ebff;}#sk-container-id-2 input.sk-hidden--visually {border: 0;clip: rect(1px 1px 1px 1px);clip: rect(1px, 1px, 1px, 1px);height: 1px;margin: -1px;overflow: hidden;padding: 0;position: absolute;width: 1px;}#sk-container-id-2 div.sk-estimator {font-family: monospace;background-color: #f0f8ff;border: 1px dotted black;border-radius: 0.25em;box-sizing: border-box;margin-bottom: 0.5em;}#sk-container-id-2 div.sk-estimator:hover {background-color: #d4ebff;}#sk-container-id-2 div.sk-parallel-item::after {content: \"\";width: 100%;border-bottom: 1px solid gray;flex-grow: 1;}#sk-container-id-2 div.sk-label:hover label.sk-toggleable__label {background-color: #d4ebff;}#sk-container-id-2 div.sk-serial::before {content: \"\";position: absolute;border-left: 1px solid gray;box-sizing: border-box;top: 0;bottom: 0;left: 50%;z-index: 0;}#sk-container-id-2 div.sk-serial {display: flex;flex-direction: column;align-items: center;background-color: white;padding-right: 0.2em;padding-left: 0.2em;position: relative;}#sk-container-id-2 div.sk-item {position: relative;z-index: 1;}#sk-container-id-2 div.sk-parallel {display: flex;align-items: stretch;justify-content: center;background-color: white;position: relative;}#sk-container-id-2 div.sk-item::before, #sk-container-id-2 div.sk-parallel-item::before {content: \"\";position: absolute;border-left: 1px solid gray;box-sizing: border-box;top: 0;bottom: 0;left: 50%;z-index: -1;}#sk-container-id-2 div.sk-parallel-item {display: flex;flex-direction: column;z-index: 1;position: relative;background-color: white;}#sk-container-id-2 div.sk-parallel-item:first-child::after {align-self: flex-end;width: 50%;}#sk-container-id-2 div.sk-parallel-item:last-child::after {align-self: flex-start;width: 50%;}#sk-container-id-2 div.sk-parallel-item:only-child::after {width: 0;}#sk-container-id-2 div.sk-dashed-wrapped {border: 1px dashed gray;margin: 0 0.4em 0.5em 0.4em;box-sizing: border-box;padding-bottom: 0.4em;background-color: white;}#sk-container-id-2 div.sk-label label {font-family: monospace;font-weight: bold;display: inline-block;line-height: 1.2em;}#sk-container-id-2 div.sk-label-container {text-align: center;}#sk-container-id-2 div.sk-container {/* jupyter's `normalize.less` sets `[hidden] { display: none; }` but bootstrap.min.css set `[hidden] { display: none !important; }` so we also need the `!important` here to be able to override the default hidden behavior on the sphinx rendered scikit-learn.org. See: https://github.com/scikit-learn/scikit-learn/issues/21755 */display: inline-block !important;position: relative;}#sk-container-id-2 div.sk-text-repr-fallback {display: none;}</style><div id=\"sk-container-id-2\" class=\"sk-top-container\"><div class=\"sk-text-repr-fallback\"><pre>Pipeline(steps=[(&#x27;simpleimputer&#x27;, SimpleImputer(strategy=&#x27;median&#x27;)),\n",
       "                (&#x27;standardscaler&#x27;, StandardScaler())])</pre><b>In a Jupyter environment, please rerun this cell to show the HTML representation or trust the notebook. <br />On GitHub, the HTML representation is unable to render, please try loading this page with nbviewer.org.</b></div><div class=\"sk-container\" hidden><div class=\"sk-item sk-dashed-wrapped\"><div class=\"sk-label-container\"><div class=\"sk-label sk-toggleable\"><input class=\"sk-toggleable__control sk-hidden--visually\" id=\"sk-estimator-id-8\" type=\"checkbox\" ><label for=\"sk-estimator-id-8\" class=\"sk-toggleable__label sk-toggleable__label-arrow\">Pipeline</label><div class=\"sk-toggleable__content\"><pre>Pipeline(steps=[(&#x27;simpleimputer&#x27;, SimpleImputer(strategy=&#x27;median&#x27;)),\n",
       "                (&#x27;standardscaler&#x27;, StandardScaler())])</pre></div></div></div><div class=\"sk-serial\"><div class=\"sk-item\"><div class=\"sk-estimator sk-toggleable\"><input class=\"sk-toggleable__control sk-hidden--visually\" id=\"sk-estimator-id-9\" type=\"checkbox\" ><label for=\"sk-estimator-id-9\" class=\"sk-toggleable__label sk-toggleable__label-arrow\">SimpleImputer</label><div class=\"sk-toggleable__content\"><pre>SimpleImputer(strategy=&#x27;median&#x27;)</pre></div></div></div><div class=\"sk-item\"><div class=\"sk-estimator sk-toggleable\"><input class=\"sk-toggleable__control sk-hidden--visually\" id=\"sk-estimator-id-10\" type=\"checkbox\" ><label for=\"sk-estimator-id-10\" class=\"sk-toggleable__label sk-toggleable__label-arrow\">StandardScaler</label><div class=\"sk-toggleable__content\"><pre>StandardScaler()</pre></div></div></div></div></div></div></div>"
      ],
      "text/plain": [
       "Pipeline(steps=[('simpleimputer', SimpleImputer(strategy='median')),\n",
       "                ('standardscaler', StandardScaler())])"
      ]
     },
     "execution_count": 17,
     "metadata": {},
     "output_type": "execute_result"
    }
   ],
   "source": [
    "#combine the imputer and the scaler into a pipeline\n",
    "preprocessing_pipeline = make_pipeline(median_imputer, scaler)\n",
    "preprocessing_pipeline\n"
   ]
  },
  {
   "cell_type": "code",
   "execution_count": null,
   "metadata": {
    "colab": {
     "base_uri": "https://localhost:8080/",
     "height": 171
    },
    "id": "fKB1Up7jHelx",
    "outputId": "e354f7e1-7e36-4a3e-bc8c-051a74e0de6d"
   },
   "outputs": [
    {
     "data": {
      "text/html": [
       "<style>#sk-container-id-3 {color: black;background-color: white;}#sk-container-id-3 pre{padding: 0;}#sk-container-id-3 div.sk-toggleable {background-color: white;}#sk-container-id-3 label.sk-toggleable__label {cursor: pointer;display: block;width: 100%;margin-bottom: 0;padding: 0.3em;box-sizing: border-box;text-align: center;}#sk-container-id-3 label.sk-toggleable__label-arrow:before {content: \"▸\";float: left;margin-right: 0.25em;color: #696969;}#sk-container-id-3 label.sk-toggleable__label-arrow:hover:before {color: black;}#sk-container-id-3 div.sk-estimator:hover label.sk-toggleable__label-arrow:before {color: black;}#sk-container-id-3 div.sk-toggleable__content {max-height: 0;max-width: 0;overflow: hidden;text-align: left;background-color: #f0f8ff;}#sk-container-id-3 div.sk-toggleable__content pre {margin: 0.2em;color: black;border-radius: 0.25em;background-color: #f0f8ff;}#sk-container-id-3 input.sk-toggleable__control:checked~div.sk-toggleable__content {max-height: 200px;max-width: 100%;overflow: auto;}#sk-container-id-3 input.sk-toggleable__control:checked~label.sk-toggleable__label-arrow:before {content: \"▾\";}#sk-container-id-3 div.sk-estimator input.sk-toggleable__control:checked~label.sk-toggleable__label {background-color: #d4ebff;}#sk-container-id-3 div.sk-label input.sk-toggleable__control:checked~label.sk-toggleable__label {background-color: #d4ebff;}#sk-container-id-3 input.sk-hidden--visually {border: 0;clip: rect(1px 1px 1px 1px);clip: rect(1px, 1px, 1px, 1px);height: 1px;margin: -1px;overflow: hidden;padding: 0;position: absolute;width: 1px;}#sk-container-id-3 div.sk-estimator {font-family: monospace;background-color: #f0f8ff;border: 1px dotted black;border-radius: 0.25em;box-sizing: border-box;margin-bottom: 0.5em;}#sk-container-id-3 div.sk-estimator:hover {background-color: #d4ebff;}#sk-container-id-3 div.sk-parallel-item::after {content: \"\";width: 100%;border-bottom: 1px solid gray;flex-grow: 1;}#sk-container-id-3 div.sk-label:hover label.sk-toggleable__label {background-color: #d4ebff;}#sk-container-id-3 div.sk-serial::before {content: \"\";position: absolute;border-left: 1px solid gray;box-sizing: border-box;top: 0;bottom: 0;left: 50%;z-index: 0;}#sk-container-id-3 div.sk-serial {display: flex;flex-direction: column;align-items: center;background-color: white;padding-right: 0.2em;padding-left: 0.2em;position: relative;}#sk-container-id-3 div.sk-item {position: relative;z-index: 1;}#sk-container-id-3 div.sk-parallel {display: flex;align-items: stretch;justify-content: center;background-color: white;position: relative;}#sk-container-id-3 div.sk-item::before, #sk-container-id-3 div.sk-parallel-item::before {content: \"\";position: absolute;border-left: 1px solid gray;box-sizing: border-box;top: 0;bottom: 0;left: 50%;z-index: -1;}#sk-container-id-3 div.sk-parallel-item {display: flex;flex-direction: column;z-index: 1;position: relative;background-color: white;}#sk-container-id-3 div.sk-parallel-item:first-child::after {align-self: flex-end;width: 50%;}#sk-container-id-3 div.sk-parallel-item:last-child::after {align-self: flex-start;width: 50%;}#sk-container-id-3 div.sk-parallel-item:only-child::after {width: 0;}#sk-container-id-3 div.sk-dashed-wrapped {border: 1px dashed gray;margin: 0 0.4em 0.5em 0.4em;box-sizing: border-box;padding-bottom: 0.4em;background-color: white;}#sk-container-id-3 div.sk-label label {font-family: monospace;font-weight: bold;display: inline-block;line-height: 1.2em;}#sk-container-id-3 div.sk-label-container {text-align: center;}#sk-container-id-3 div.sk-container {/* jupyter's `normalize.less` sets `[hidden] { display: none; }` but bootstrap.min.css set `[hidden] { display: none !important; }` so we also need the `!important` here to be able to override the default hidden behavior on the sphinx rendered scikit-learn.org. See: https://github.com/scikit-learn/scikit-learn/issues/21755 */display: inline-block !important;position: relative;}#sk-container-id-3 div.sk-text-repr-fallback {display: none;}</style><div id=\"sk-container-id-3\" class=\"sk-top-container\"><div class=\"sk-text-repr-fallback\"><pre>Pipeline(steps=[(&#x27;simpleimputer&#x27;, SimpleImputer(strategy=&#x27;median&#x27;)),\n",
       "                (&#x27;standardscaler&#x27;, StandardScaler())])</pre><b>In a Jupyter environment, please rerun this cell to show the HTML representation or trust the notebook. <br />On GitHub, the HTML representation is unable to render, please try loading this page with nbviewer.org.</b></div><div class=\"sk-container\" hidden><div class=\"sk-item sk-dashed-wrapped\"><div class=\"sk-label-container\"><div class=\"sk-label sk-toggleable\"><input class=\"sk-toggleable__control sk-hidden--visually\" id=\"sk-estimator-id-11\" type=\"checkbox\" ><label for=\"sk-estimator-id-11\" class=\"sk-toggleable__label sk-toggleable__label-arrow\">Pipeline</label><div class=\"sk-toggleable__content\"><pre>Pipeline(steps=[(&#x27;simpleimputer&#x27;, SimpleImputer(strategy=&#x27;median&#x27;)),\n",
       "                (&#x27;standardscaler&#x27;, StandardScaler())])</pre></div></div></div><div class=\"sk-serial\"><div class=\"sk-item\"><div class=\"sk-estimator sk-toggleable\"><input class=\"sk-toggleable__control sk-hidden--visually\" id=\"sk-estimator-id-12\" type=\"checkbox\" ><label for=\"sk-estimator-id-12\" class=\"sk-toggleable__label sk-toggleable__label-arrow\">SimpleImputer</label><div class=\"sk-toggleable__content\"><pre>SimpleImputer(strategy=&#x27;median&#x27;)</pre></div></div></div><div class=\"sk-item\"><div class=\"sk-estimator sk-toggleable\"><input class=\"sk-toggleable__control sk-hidden--visually\" id=\"sk-estimator-id-13\" type=\"checkbox\" ><label for=\"sk-estimator-id-13\" class=\"sk-toggleable__label sk-toggleable__label-arrow\">StandardScaler</label><div class=\"sk-toggleable__content\"><pre>StandardScaler()</pre></div></div></div></div></div></div></div>"
      ],
      "text/plain": [
       "Pipeline(steps=[('simpleimputer', SimpleImputer(strategy='median')),\n",
       "                ('standardscaler', StandardScaler())])"
      ]
     },
     "execution_count": 18,
     "metadata": {},
     "output_type": "execute_result"
    }
   ],
   "source": [
    "#fit pipeline on training data\n",
    "preprocessing_pipeline.fit(X_train)"
   ]
  },
  {
   "cell_type": "code",
   "execution_count": null,
   "metadata": {
    "id": "HfwLIekTHjtR"
   },
   "outputs": [],
   "source": [
    "#transform train and test sets\n",
    "X_train_processed = preprocessing_pipeline.transform(X_train)\n",
    "X_test_processed = preprocessing_pipeline.transform(X_test)"
   ]
  },
  {
   "cell_type": "code",
   "execution_count": null,
   "metadata": {
    "colab": {
     "base_uri": "https://localhost:8080/"
    },
    "id": "bTbK3MshHrny",
    "outputId": "51be3a12-86a8-49ee-d8fe-b1bf6e5eeba9"
   },
   "outputs": [
    {
     "name": "stdout",
     "output_type": "stream",
     "text": [
      "0 missing values \n",
      "\n"
     ]
    },
    {
     "data": {
      "text/plain": [
       "array([[ 0.        , -0.81229166, -0.26366021, ..., -0.87868801,\n",
       "         1.19451878,  1.92222335],\n",
       "       [ 0.        ,  1.43809769,  0.15576412, ...,  0.58477555,\n",
       "         0.22791761,  0.08271906],\n",
       "       [ 0.        ,  2.02690924, -0.18501814, ...,  0.87303352,\n",
       "        -0.68443553, -0.80637468],\n",
       "       ...,\n",
       "       [ 0.        , -1.10266448, -0.11511409, ..., -0.10260885,\n",
       "        -0.88170108, -1.17427554],\n",
       "       [ 0.        , -0.73163255, -0.24618419, ..., -0.96738278,\n",
       "         0.97259504,  0.87983758],\n",
       "       [ 0.        ,  1.43003177, -0.20249416, ...,  1.07259673,\n",
       "        -3.11080174, -2.24731971]])"
      ]
     },
     "execution_count": 20,
     "metadata": {},
     "output_type": "execute_result"
    }
   ],
   "source": [
    "#inspect the result of the transformation\n",
    "print(np.isnan(X_train_processed).sum().sum(), 'missing values \\n')\n",
    "X_train_processed"
   ]
  },
  {
   "cell_type": "markdown",
   "metadata": {
    "id": "hvCWz_YsHyh4"
   },
   "source": [
    "Summary\n",
    "\n",
    "When you are preparing your data for modeling you will often need to perform multiple preprocessing steps. Pipelines can bundle transformers into one transparent preprocessing object that applies them in sequential steps. Using preprocessing Pipelines in your machine learning workflow will save you time, reduce errors, prevent data leakage, and prepare your models for future machine learning tools."
   ]
  },
  {
   "cell_type": "markdown",
   "metadata": {
    "id": "0oNqre1FHLCr"
   },
   "source": [
    "# Week 2 - Regression Models"
   ]
  },
  {
   "cell_type": "markdown",
   "metadata": {
    "id": "0j9qLkn5H1dz"
   },
   "source": [
    "## Core Assignments"
   ]
  },
  {
   "cell_type": "markdown",
   "metadata": {
    "id": "NW6cx0pyH1aO"
   },
   "source": [
    "## Practice Assignments"
   ]
  },
  {
   "cell_type": "markdown",
   "metadata": {
    "id": "eO3JLxY0H1W8"
   },
   "source": [
    "## Class Notes"
   ]
  },
  {
   "cell_type": "markdown",
   "metadata": {
    "id": "yiu0d8u-H1UI",
    "tags": []
   },
   "source": [
    "## Learning Platform Notes"
   ]
  },
  {
   "cell_type": "markdown",
   "metadata": {},
   "source": [
    "### Linear Regression"
   ]
  },
  {
   "cell_type": "markdown",
   "metadata": {},
   "source": [
    "- Oldest and commonly used machine learning algorithm\n",
    "- the regression line is a line along that graph that describes predicted y values for a given x input\n",
    "- for each X input, the algorithm predicts what the y target will be on that line where x is equal to the input feature\n",
    "- sklearn does this by attempting to reduce the errors as much as possible where the line is \"good enough\""
   ]
  },
  {
   "cell_type": "markdown",
   "metadata": {},
   "source": [
    "Slope, Intercept and the Regression Line\n",
    "\n",
    "- slope of the line is the predicted correlation between the x and y variables\n",
    "- a steep upward slope means a strong positive correlation, while a steep downward slope means a strong negative correlation"
   ]
  },
  {
   "cell_type": "markdown",
   "metadata": {},
   "source": [
    "Simple Linear Regression: One Input Feature\n",
    "\n",
    "yhat = b + b1 * x\n",
    "\n",
    "- yhat = predicted y value for a given input\n",
    "- x = input feature\n",
    "- b1 = coefficient\n",
    "- b = intercept\n",
    "\n",
    "Multiple Linear Regression: Two or More Input Features\n",
    "\n",
    "yhat = b + (b1 * x1) + (b2 * x2) + (b3 * x3)...\n",
    "\n"
   ]
  },
  {
   "cell_type": "markdown",
   "metadata": {},
   "source": [
    "#### Linear Regression in Python (code)"
   ]
  },
  {
   "cell_type": "code",
   "execution_count": 6,
   "metadata": {},
   "outputs": [
    {
     "data": {
      "text/html": [
       "<div>\n",
       "<style scoped>\n",
       "    .dataframe tbody tr th:only-of-type {\n",
       "        vertical-align: middle;\n",
       "    }\n",
       "\n",
       "    .dataframe tbody tr th {\n",
       "        vertical-align: top;\n",
       "    }\n",
       "\n",
       "    .dataframe thead th {\n",
       "        text-align: right;\n",
       "    }\n",
       "</style>\n",
       "<table border=\"1\" class=\"dataframe\">\n",
       "  <thead>\n",
       "    <tr style=\"text-align: right;\">\n",
       "      <th></th>\n",
       "      <th>MedInc</th>\n",
       "      <th>HouseAge</th>\n",
       "      <th>AveRooms</th>\n",
       "      <th>AveBedrms</th>\n",
       "      <th>Population</th>\n",
       "      <th>AveOccup</th>\n",
       "      <th>Latitude</th>\n",
       "      <th>Longitude</th>\n",
       "      <th>MedHouseVal</th>\n",
       "    </tr>\n",
       "  </thead>\n",
       "  <tbody>\n",
       "    <tr>\n",
       "      <th>0</th>\n",
       "      <td>8.3252</td>\n",
       "      <td>41.0</td>\n",
       "      <td>6.984127</td>\n",
       "      <td>1.023810</td>\n",
       "      <td>322.0</td>\n",
       "      <td>2.555556</td>\n",
       "      <td>37.88</td>\n",
       "      <td>-122.23</td>\n",
       "      <td>4.526</td>\n",
       "    </tr>\n",
       "    <tr>\n",
       "      <th>1</th>\n",
       "      <td>8.3014</td>\n",
       "      <td>21.0</td>\n",
       "      <td>6.238137</td>\n",
       "      <td>0.971880</td>\n",
       "      <td>2401.0</td>\n",
       "      <td>2.109842</td>\n",
       "      <td>37.86</td>\n",
       "      <td>-122.22</td>\n",
       "      <td>3.585</td>\n",
       "    </tr>\n",
       "    <tr>\n",
       "      <th>2</th>\n",
       "      <td>7.2574</td>\n",
       "      <td>52.0</td>\n",
       "      <td>8.288136</td>\n",
       "      <td>1.073446</td>\n",
       "      <td>496.0</td>\n",
       "      <td>2.802260</td>\n",
       "      <td>37.85</td>\n",
       "      <td>-122.24</td>\n",
       "      <td>3.521</td>\n",
       "    </tr>\n",
       "    <tr>\n",
       "      <th>3</th>\n",
       "      <td>5.6431</td>\n",
       "      <td>52.0</td>\n",
       "      <td>5.817352</td>\n",
       "      <td>1.073059</td>\n",
       "      <td>558.0</td>\n",
       "      <td>2.547945</td>\n",
       "      <td>37.85</td>\n",
       "      <td>-122.25</td>\n",
       "      <td>3.413</td>\n",
       "    </tr>\n",
       "    <tr>\n",
       "      <th>4</th>\n",
       "      <td>3.8462</td>\n",
       "      <td>52.0</td>\n",
       "      <td>6.281853</td>\n",
       "      <td>1.081081</td>\n",
       "      <td>565.0</td>\n",
       "      <td>2.181467</td>\n",
       "      <td>37.85</td>\n",
       "      <td>-122.25</td>\n",
       "      <td>3.422</td>\n",
       "    </tr>\n",
       "  </tbody>\n",
       "</table>\n",
       "</div>"
      ],
      "text/plain": [
       "   MedInc  HouseAge  AveRooms  AveBedrms  Population  AveOccup  Latitude  \\\n",
       "0  8.3252      41.0  6.984127   1.023810       322.0  2.555556     37.88   \n",
       "1  8.3014      21.0  6.238137   0.971880      2401.0  2.109842     37.86   \n",
       "2  7.2574      52.0  8.288136   1.073446       496.0  2.802260     37.85   \n",
       "3  5.6431      52.0  5.817352   1.073059       558.0  2.547945     37.85   \n",
       "4  3.8462      52.0  6.281853   1.081081       565.0  2.181467     37.85   \n",
       "\n",
       "   Longitude  MedHouseVal  \n",
       "0    -122.23        4.526  \n",
       "1    -122.22        3.585  \n",
       "2    -122.24        3.521  \n",
       "3    -122.25        3.413  \n",
       "4    -122.25        3.422  "
      ]
     },
     "execution_count": 6,
     "metadata": {},
     "output_type": "execute_result"
    }
   ],
   "source": [
    "import pandas as pd\n",
    "df = pd.read_csv(r'C:\\Users\\hgplo\\Desktop\\Coding Dojo\\Course 2\\Week 6 - Regression Models\\1. Data Files\\cali_housing (1).csv')\n",
    "df.head()"
   ]
  },
  {
   "cell_type": "code",
   "execution_count": 8,
   "metadata": {},
   "outputs": [],
   "source": [
    "# Assign the Target (y) and Features (X)\n",
    "y = df['MedHouseVal']\n",
    "X = df.drop(columns = 'MedHouseVal')"
   ]
  },
  {
   "cell_type": "code",
   "execution_count": 9,
   "metadata": {},
   "outputs": [],
   "source": [
    "# Train Test Split the Data\n",
    "from sklearn.model_selection import train_test_split\n",
    "X_train, X_test, y_train, y_test = train_test_split(X, y, random_state = 42)"
   ]
  },
  {
   "cell_type": "code",
   "execution_count": 10,
   "metadata": {},
   "outputs": [],
   "source": [
    "# the data is clean and there is no missing data\n",
    "# you can combine any preprocesser (such as column transformer, or just a scaler), with the Linear Regression model\n",
    "# which will make a single modeling pipeline, to do preprocessing and modeling the data in one step!"
   ]
  },
  {
   "cell_type": "code",
   "execution_count": 12,
   "metadata": {},
   "outputs": [],
   "source": [
    "# Step 0: Import and instantiate the scaler\n",
    "from sklearn.preprocessing import StandardScaler\n",
    "scaler = StandardScaler()"
   ]
  },
  {
   "cell_type": "code",
   "execution_count": 13,
   "metadata": {},
   "outputs": [],
   "source": [
    "#Step 1: Import and instantiate the model\n",
    "from sklearn.linear_model import LinearRegression\n",
    "reg = LinearRegression()"
   ]
  },
  {
   "cell_type": "code",
   "execution_count": 14,
   "metadata": {},
   "outputs": [],
   "source": [
    "#Step 2: Create a modeling pipeline\n",
    "from sklearn.pipeline import make_pipeline\n",
    "reg_pipe = make_pipeline(scaler,reg)"
   ]
  },
  {
   "cell_type": "code",
   "execution_count": 15,
   "metadata": {},
   "outputs": [
    {
     "data": {
      "text/html": [
       "<style>#sk-container-id-1 {color: black;background-color: white;}#sk-container-id-1 pre{padding: 0;}#sk-container-id-1 div.sk-toggleable {background-color: white;}#sk-container-id-1 label.sk-toggleable__label {cursor: pointer;display: block;width: 100%;margin-bottom: 0;padding: 0.3em;box-sizing: border-box;text-align: center;}#sk-container-id-1 label.sk-toggleable__label-arrow:before {content: \"▸\";float: left;margin-right: 0.25em;color: #696969;}#sk-container-id-1 label.sk-toggleable__label-arrow:hover:before {color: black;}#sk-container-id-1 div.sk-estimator:hover label.sk-toggleable__label-arrow:before {color: black;}#sk-container-id-1 div.sk-toggleable__content {max-height: 0;max-width: 0;overflow: hidden;text-align: left;background-color: #f0f8ff;}#sk-container-id-1 div.sk-toggleable__content pre {margin: 0.2em;color: black;border-radius: 0.25em;background-color: #f0f8ff;}#sk-container-id-1 input.sk-toggleable__control:checked~div.sk-toggleable__content {max-height: 200px;max-width: 100%;overflow: auto;}#sk-container-id-1 input.sk-toggleable__control:checked~label.sk-toggleable__label-arrow:before {content: \"▾\";}#sk-container-id-1 div.sk-estimator input.sk-toggleable__control:checked~label.sk-toggleable__label {background-color: #d4ebff;}#sk-container-id-1 div.sk-label input.sk-toggleable__control:checked~label.sk-toggleable__label {background-color: #d4ebff;}#sk-container-id-1 input.sk-hidden--visually {border: 0;clip: rect(1px 1px 1px 1px);clip: rect(1px, 1px, 1px, 1px);height: 1px;margin: -1px;overflow: hidden;padding: 0;position: absolute;width: 1px;}#sk-container-id-1 div.sk-estimator {font-family: monospace;background-color: #f0f8ff;border: 1px dotted black;border-radius: 0.25em;box-sizing: border-box;margin-bottom: 0.5em;}#sk-container-id-1 div.sk-estimator:hover {background-color: #d4ebff;}#sk-container-id-1 div.sk-parallel-item::after {content: \"\";width: 100%;border-bottom: 1px solid gray;flex-grow: 1;}#sk-container-id-1 div.sk-label:hover label.sk-toggleable__label {background-color: #d4ebff;}#sk-container-id-1 div.sk-serial::before {content: \"\";position: absolute;border-left: 1px solid gray;box-sizing: border-box;top: 0;bottom: 0;left: 50%;z-index: 0;}#sk-container-id-1 div.sk-serial {display: flex;flex-direction: column;align-items: center;background-color: white;padding-right: 0.2em;padding-left: 0.2em;position: relative;}#sk-container-id-1 div.sk-item {position: relative;z-index: 1;}#sk-container-id-1 div.sk-parallel {display: flex;align-items: stretch;justify-content: center;background-color: white;position: relative;}#sk-container-id-1 div.sk-item::before, #sk-container-id-1 div.sk-parallel-item::before {content: \"\";position: absolute;border-left: 1px solid gray;box-sizing: border-box;top: 0;bottom: 0;left: 50%;z-index: -1;}#sk-container-id-1 div.sk-parallel-item {display: flex;flex-direction: column;z-index: 1;position: relative;background-color: white;}#sk-container-id-1 div.sk-parallel-item:first-child::after {align-self: flex-end;width: 50%;}#sk-container-id-1 div.sk-parallel-item:last-child::after {align-self: flex-start;width: 50%;}#sk-container-id-1 div.sk-parallel-item:only-child::after {width: 0;}#sk-container-id-1 div.sk-dashed-wrapped {border: 1px dashed gray;margin: 0 0.4em 0.5em 0.4em;box-sizing: border-box;padding-bottom: 0.4em;background-color: white;}#sk-container-id-1 div.sk-label label {font-family: monospace;font-weight: bold;display: inline-block;line-height: 1.2em;}#sk-container-id-1 div.sk-label-container {text-align: center;}#sk-container-id-1 div.sk-container {/* jupyter's `normalize.less` sets `[hidden] { display: none; }` but bootstrap.min.css set `[hidden] { display: none !important; }` so we also need the `!important` here to be able to override the default hidden behavior on the sphinx rendered scikit-learn.org. See: https://github.com/scikit-learn/scikit-learn/issues/21755 */display: inline-block !important;position: relative;}#sk-container-id-1 div.sk-text-repr-fallback {display: none;}</style><div id=\"sk-container-id-1\" class=\"sk-top-container\"><div class=\"sk-text-repr-fallback\"><pre>Pipeline(steps=[(&#x27;standardscaler&#x27;, StandardScaler()),\n",
       "                (&#x27;linearregression&#x27;, LinearRegression())])</pre><b>In a Jupyter environment, please rerun this cell to show the HTML representation or trust the notebook. <br />On GitHub, the HTML representation is unable to render, please try loading this page with nbviewer.org.</b></div><div class=\"sk-container\" hidden><div class=\"sk-item sk-dashed-wrapped\"><div class=\"sk-label-container\"><div class=\"sk-label sk-toggleable\"><input class=\"sk-toggleable__control sk-hidden--visually\" id=\"sk-estimator-id-1\" type=\"checkbox\" ><label for=\"sk-estimator-id-1\" class=\"sk-toggleable__label sk-toggleable__label-arrow\">Pipeline</label><div class=\"sk-toggleable__content\"><pre>Pipeline(steps=[(&#x27;standardscaler&#x27;, StandardScaler()),\n",
       "                (&#x27;linearregression&#x27;, LinearRegression())])</pre></div></div></div><div class=\"sk-serial\"><div class=\"sk-item\"><div class=\"sk-estimator sk-toggleable\"><input class=\"sk-toggleable__control sk-hidden--visually\" id=\"sk-estimator-id-2\" type=\"checkbox\" ><label for=\"sk-estimator-id-2\" class=\"sk-toggleable__label sk-toggleable__label-arrow\">StandardScaler</label><div class=\"sk-toggleable__content\"><pre>StandardScaler()</pre></div></div></div><div class=\"sk-item\"><div class=\"sk-estimator sk-toggleable\"><input class=\"sk-toggleable__control sk-hidden--visually\" id=\"sk-estimator-id-3\" type=\"checkbox\" ><label for=\"sk-estimator-id-3\" class=\"sk-toggleable__label sk-toggleable__label-arrow\">LinearRegression</label><div class=\"sk-toggleable__content\"><pre>LinearRegression()</pre></div></div></div></div></div></div></div>"
      ],
      "text/plain": [
       "Pipeline(steps=[('standardscaler', StandardScaler()),\n",
       "                ('linearregression', LinearRegression())])"
      ]
     },
     "execution_count": 15,
     "metadata": {},
     "output_type": "execute_result"
    }
   ],
   "source": [
    "#Step 3: Train the model on your training data\n",
    "#this is where the model learns about the relationships between the features and the target\n",
    "reg_pipe.fit(X_train,y_train)"
   ]
  },
  {
   "cell_type": "code",
   "execution_count": null,
   "metadata": {},
   "outputs": [],
   "source": [
    "#The model has now \"learned\" the patterns, time to see how well it is able to make predictions"
   ]
  },
  {
   "cell_type": "code",
   "execution_count": 16,
   "metadata": {},
   "outputs": [],
   "source": [
    "#Step 4: Make predictions using the testing data\n",
    "predictions = reg_pipe.predict(X_test)"
   ]
  },
  {
   "cell_type": "code",
   "execution_count": 17,
   "metadata": {},
   "outputs": [
    {
     "data": {
      "text/html": [
       "<div>\n",
       "<style scoped>\n",
       "    .dataframe tbody tr th:only-of-type {\n",
       "        vertical-align: middle;\n",
       "    }\n",
       "\n",
       "    .dataframe tbody tr th {\n",
       "        vertical-align: top;\n",
       "    }\n",
       "\n",
       "    .dataframe thead th {\n",
       "        text-align: right;\n",
       "    }\n",
       "</style>\n",
       "<table border=\"1\" class=\"dataframe\">\n",
       "  <thead>\n",
       "    <tr style=\"text-align: right;\">\n",
       "      <th></th>\n",
       "      <th>MedInc</th>\n",
       "      <th>HouseAge</th>\n",
       "      <th>AveRooms</th>\n",
       "      <th>AveBedrms</th>\n",
       "      <th>Population</th>\n",
       "      <th>AveOccup</th>\n",
       "      <th>Latitude</th>\n",
       "      <th>Longitude</th>\n",
       "      <th>True Median Price</th>\n",
       "      <th>Predicted Median Price</th>\n",
       "      <th>Error</th>\n",
       "    </tr>\n",
       "  </thead>\n",
       "  <tbody>\n",
       "    <tr>\n",
       "      <th>20046</th>\n",
       "      <td>1.6812</td>\n",
       "      <td>25.0</td>\n",
       "      <td>4.192201</td>\n",
       "      <td>1.022284</td>\n",
       "      <td>1392.0</td>\n",
       "      <td>3.877437</td>\n",
       "      <td>36.06</td>\n",
       "      <td>-119.01</td>\n",
       "      <td>0.47700</td>\n",
       "      <td>0.724128</td>\n",
       "      <td>0.247128</td>\n",
       "    </tr>\n",
       "    <tr>\n",
       "      <th>3024</th>\n",
       "      <td>2.5313</td>\n",
       "      <td>30.0</td>\n",
       "      <td>5.039384</td>\n",
       "      <td>1.193493</td>\n",
       "      <td>1565.0</td>\n",
       "      <td>2.679795</td>\n",
       "      <td>35.14</td>\n",
       "      <td>-119.46</td>\n",
       "      <td>0.45800</td>\n",
       "      <td>1.766778</td>\n",
       "      <td>1.308778</td>\n",
       "    </tr>\n",
       "    <tr>\n",
       "      <th>15663</th>\n",
       "      <td>3.4801</td>\n",
       "      <td>52.0</td>\n",
       "      <td>3.977155</td>\n",
       "      <td>1.185877</td>\n",
       "      <td>1310.0</td>\n",
       "      <td>1.360332</td>\n",
       "      <td>37.80</td>\n",
       "      <td>-122.44</td>\n",
       "      <td>5.00001</td>\n",
       "      <td>2.711516</td>\n",
       "      <td>-2.288494</td>\n",
       "    </tr>\n",
       "    <tr>\n",
       "      <th>20484</th>\n",
       "      <td>5.7376</td>\n",
       "      <td>17.0</td>\n",
       "      <td>6.163636</td>\n",
       "      <td>1.020202</td>\n",
       "      <td>1705.0</td>\n",
       "      <td>3.444444</td>\n",
       "      <td>34.28</td>\n",
       "      <td>-118.72</td>\n",
       "      <td>2.18600</td>\n",
       "      <td>2.836012</td>\n",
       "      <td>0.650012</td>\n",
       "    </tr>\n",
       "    <tr>\n",
       "      <th>9814</th>\n",
       "      <td>3.7250</td>\n",
       "      <td>34.0</td>\n",
       "      <td>5.492991</td>\n",
       "      <td>1.028037</td>\n",
       "      <td>1063.0</td>\n",
       "      <td>2.483645</td>\n",
       "      <td>36.62</td>\n",
       "      <td>-121.93</td>\n",
       "      <td>2.78000</td>\n",
       "      <td>2.603755</td>\n",
       "      <td>-0.176245</td>\n",
       "    </tr>\n",
       "  </tbody>\n",
       "</table>\n",
       "</div>"
      ],
      "text/plain": [
       "       MedInc  HouseAge  AveRooms  AveBedrms  Population  AveOccup  Latitude  \\\n",
       "20046  1.6812      25.0  4.192201   1.022284      1392.0  3.877437     36.06   \n",
       "3024   2.5313      30.0  5.039384   1.193493      1565.0  2.679795     35.14   \n",
       "15663  3.4801      52.0  3.977155   1.185877      1310.0  1.360332     37.80   \n",
       "20484  5.7376      17.0  6.163636   1.020202      1705.0  3.444444     34.28   \n",
       "9814   3.7250      34.0  5.492991   1.028037      1063.0  2.483645     36.62   \n",
       "\n",
       "       Longitude  True Median Price  Predicted Median Price     Error  \n",
       "20046    -119.01            0.47700                0.724128  0.247128  \n",
       "3024     -119.46            0.45800                1.766778  1.308778  \n",
       "15663    -122.44            5.00001                2.711516 -2.288494  \n",
       "20484    -118.72            2.18600                2.836012  0.650012  \n",
       "9814     -121.93            2.78000                2.603755 -0.176245  "
      ]
     },
     "execution_count": 17,
     "metadata": {},
     "output_type": "execute_result"
    }
   ],
   "source": [
    "#Bonus: Let's see how our predictions compare to the original values\n",
    "prediction_df = X_test.copy()\n",
    "prediction_df['True Median Price'] = y_test\n",
    "prediction_df['Predicted Median Price'] = predictions\n",
    "prediction_df['Error'] = predictions - y_test\n",
    "prediction_df.head()"
   ]
  },
  {
   "cell_type": "markdown",
   "metadata": {},
   "source": [
    "### Model Pipelines"
   ]
  },
  {
   "cell_type": "markdown",
   "metadata": {},
   "source": [
    "- A ColumnTransformer allows you to apply different transformers to different columns"
   ]
  },
  {
   "attachments": {
    "09b1448c-cca6-4081-b4ea-b7d506f3083b.png": {
     "image/png": "[encoded data removed]"
    }
   },
   "cell_type": "markdown",
   "metadata": {},
   "source": [
    "![image.png](attachment:09b1448c-cca6-4081-b4ea-b7d506f3083b.png)"
   ]
  },
  {
   "cell_type": "markdown",
   "metadata": {},
   "source": [
    "- Pipelines allow you to apply multiple transformers to data in a particular order."
   ]
  },
  {
   "attachments": {
    "4751c3ad-4eb8-441e-bf24-d496ef5011a3.png": {
     "image/png": "[encoded data removed]"
    }
   },
   "cell_type": "markdown",
   "metadata": {},
   "source": [
    "![image.png](attachment:4751c3ad-4eb8-441e-bf24-d496ef5011a3.png)"
   ]
  },
  {
   "cell_type": "code",
   "execution_count": null,
   "metadata": {},
   "outputs": [],
   "source": []
  },
  {
   "cell_type": "code",
   "execution_count": null,
   "metadata": {},
   "outputs": [],
   "source": []
  },
  {
   "cell_type": "code",
   "execution_count": null,
   "metadata": {},
   "outputs": [],
   "source": []
  },
  {
   "cell_type": "code",
   "execution_count": null,
   "metadata": {},
   "outputs": [],
   "source": []
  },
  {
   "cell_type": "markdown",
   "metadata": {
    "id": "g9XM20sVHLTr"
   },
   "source": [
    "# Week 3 - Classification Models"
   ]
  },
  {
   "cell_type": "markdown",
   "metadata": {
    "id": "LkniciemH2Zf"
   },
   "source": [
    "## Core Assignments"
   ]
  },
  {
   "cell_type": "markdown",
   "metadata": {
    "id": "IV4YHft_H2Uk"
   },
   "source": [
    "## Practice Assignments"
   ]
  },
  {
   "cell_type": "markdown",
   "metadata": {
    "id": "uWEwrVxaH2P_"
   },
   "source": [
    "## Class Notes"
   ]
  },
  {
   "cell_type": "markdown",
   "metadata": {
    "id": "Ot1oq8hXH17x"
   },
   "source": [
    "## Learning Platform Notes"
   ]
  },
  {
   "cell_type": "markdown",
   "metadata": {
    "id": "qiFjJEbzHLjD"
   },
   "source": [
    "# Week 4 - Boosting"
   ]
  },
  {
   "cell_type": "markdown",
   "metadata": {
    "id": "yUa-KWPJH3Rp"
   },
   "source": [
    "## Core Assignments"
   ]
  },
  {
   "cell_type": "markdown",
   "metadata": {
    "id": "r9pGnS3RH3NE"
   },
   "source": [
    "## Practice Assignments"
   ]
  },
  {
   "cell_type": "markdown",
   "metadata": {
    "id": "EUU-HLQJH3I7"
   },
   "source": [
    "## Class Notes"
   ]
  },
  {
   "cell_type": "markdown",
   "metadata": {
    "id": "aYeA5UjeH3Eg"
   },
   "source": [
    "## Learning Platform Notes"
   ]
  },
  {
   "cell_type": "markdown",
   "metadata": {
    "id": "Hngro25PH2_5"
   },
   "source": []
  }
 ],
 "metadata": {
  "colab": {
   "collapsed_sections": [
    "0oNqre1FHLCr",
    "g9XM20sVHLTr",
    "qiFjJEbzHLjD"
   ],
   "provenance": [],
   "toc_visible": true
  },
  "kernelspec": {
   "display_name": "Python 3 (ipykernel)",
   "language": "python",
   "name": "python3"
  },
  "language_info": {
   "codemirror_mode": {
    "name": "ipython",
    "version": 3
   },
   "file_extension": ".py",
   "mimetype": "text/x-python",
   "name": "python",
   "nbconvert_exporter": "python",
   "pygments_lexer": "ipython3",
   "version": "3.9.15"
  },
  "toc-autonumbering": false,
  "toc-showmarkdowntxt": false,
  "toc-showtags": false
 },
 "nbformat": 4,
 "nbformat_minor": 4
}
