{
 "cells": [
  {
   "cell_type": "markdown",
   "id": "fb8c744c-ab68-432f-931e-77f963635e5a",
   "metadata": {},
   "source": [
    "# Project 1 Revisited - Part 2 Global Explanations"
   ]
  },
  {
   "cell_type": "code",
   "execution_count": null,
   "id": "655e3f80-35c2-430e-ac68-7ca6fa1fea8e",
   "metadata": {},
   "outputs": [],
   "source": [
    "#fullname: Hannah Ploutz"
   ]
  },
  {
   "cell_type": "markdown",
   "id": "6129cd8c-b5ae-4845-9eb1-14702f5fb980",
   "metadata": {},
   "source": [
    "## Imports"
   ]
  },
  {
   "cell_type": "code",
   "execution_count": 2,
   "id": "ade6f457-bc90-45ba-8aba-d1e7eb786442",
   "metadata": {},
   "outputs": [],
   "source": [
    "## Our standard imports\n",
    "import pandas as pd\n",
    "import numpy as np\n",
    "import matplotlib.pyplot as plt\n",
    "import seaborn as sns\n",
    "\n",
    "## Preprocessing tools\n",
    "from sklearn.model_selection import train_test_split\n",
    "from sklearn.compose import make_column_transformer, make_column_selector\n",
    "from sklearn.pipeline import make_pipeline\n",
    "from sklearn.preprocessing import OneHotEncoder, StandardScaler, OrdinalEncoder\n",
    "from sklearn.impute import SimpleImputer\n",
    "\n",
    "## Models & evaluation metrics\n",
    "from sklearn import metrics\n",
    "from sklearn.linear_model import LinearRegression\n",
    "from sklearn.tree import DecisionTreeRegressor\n",
    "from sklearn.ensemble import RandomForestRegressor\n",
    "import joblib\n",
    "\n",
    "## setting random state for reproducibility\n",
    "SEED = 321\n",
    "np.random.seed(SEED)\n",
    "## set pandas to display more columns\n",
    "pd.set_option('display.max_columns',50)"
   ]
  },
  {
   "cell_type": "code",
   "execution_count": null,
   "id": "0738a080-09c5-4eb3-86fe-5a96c5ddde6f",
   "metadata": {},
   "outputs": [],
   "source": []
  },
  {
   "cell_type": "markdown",
   "id": "16ddc133-8c05-4958-8478-e8b4c0f69f92",
   "metadata": {},
   "source": [
    "## Loading Objects from a Joblib"
   ]
  },
  {
   "cell_type": "code",
   "execution_count": 3,
   "id": "bad08c62-1879-4b12-8ed8-efe3c84bbc20",
   "metadata": {},
   "outputs": [
    {
     "data": {
      "text/plain": [
       "dict_keys(['X_train', 'y_train', 'X_test', 'y_test', 'preprocessor', 'RandomForestRegressor'])"
      ]
     },
     "execution_count": 3,
     "metadata": {},
     "output_type": "execute_result"
    }
   ],
   "source": [
    "## Load the joblib file stored in the models folder\n",
    "fname_1 = \"random_forest_l01.joblib\"\n",
    "\n",
    "loadedforest = joblib.load(fname_1)\n",
    "# Preview the contents of the loaded joblib objects\n",
    "loadedforest.keys()"
   ]
  },
  {
   "cell_type": "code",
   "execution_count": null,
   "id": "8d1be600-45f6-4c09-aedd-fd497f4fb91f",
   "metadata": {},
   "outputs": [],
   "source": []
  }
 ],
 "metadata": {
  "kernelspec": {
   "display_name": "Python (dojo-env)",
   "language": "python",
   "name": "dojo-env"
  },
  "language_info": {
   "codemirror_mode": {
    "name": "ipython",
    "version": 3
   },
   "file_extension": ".py",
   "mimetype": "text/x-python",
   "name": "python",
   "nbconvert_exporter": "python",
   "pygments_lexer": "ipython3",
   "version": "3.9.15"
  }
 },
 "nbformat": 4,
 "nbformat_minor": 5
}
