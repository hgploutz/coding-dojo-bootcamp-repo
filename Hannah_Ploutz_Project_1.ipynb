{
  "nbformat": 4,
  "nbformat_minor": 0,
  "metadata": {
    "colab": {
      "provenance": [],
      "authorship_tag": "ABX9TyMeq46KH1dk7RPZ5fxG77Zv",
      "include_colab_link": true
    },
    "kernelspec": {
      "name": "python3",
      "display_name": "Python 3"
    },
    "language_info": {
      "name": "python"
    }
  },
  "cells": [
    {
      "cell_type": "markdown",
      "metadata": {
        "id": "view-in-github",
        "colab_type": "text"
      },
      "source": [
        "<a href=\"https://colab.research.google.com/github/hgploutz/food-sales-predictions/blob/main/Hannah_Ploutz_Project_1.ipynb\" target=\"_parent\"><img src=\"https://colab.research.google.com/assets/colab-badge.svg\" alt=\"Open In Colab\"/></a>"
      ]
    },
    {
      "cell_type": "markdown",
      "source": [
        "# Project 1 - Part 1\n",
        "Hannah Ploutz"
      ],
      "metadata": {
        "id": "pthyMqLL2j-d"
      }
    },
    {
      "cell_type": "code",
      "source": [],
      "metadata": {
        "id": "S-1dEirv1_jw"
      },
      "execution_count": null,
      "outputs": []
    },
    {
      "cell_type": "markdown",
      "source": [
        "## Loading Data"
      ],
      "metadata": {
        "id": "EjjXb_rD2pqM"
      }
    },
    {
      "cell_type": "code",
      "source": [],
      "metadata": {
        "id": "ispPeMO01_wG"
      },
      "execution_count": null,
      "outputs": []
    },
    {
      "cell_type": "markdown",
      "source": [
        "## Data Cleaning"
      ],
      "metadata": {
        "id": "XQ4qpv0L2sVV"
      }
    },
    {
      "cell_type": "code",
      "source": [],
      "metadata": {
        "id": "l6W9pAWZ1_6m"
      },
      "execution_count": null,
      "outputs": []
    },
    {
      "cell_type": "markdown",
      "source": [
        "## Exploratory Visuals"
      ],
      "metadata": {
        "id": "fceX9aax2uyi"
      }
    },
    {
      "cell_type": "code",
      "source": [],
      "metadata": {
        "id": "uOgyvpKn2AEg"
      },
      "execution_count": null,
      "outputs": []
    },
    {
      "cell_type": "markdown",
      "source": [
        "## Explanatory Visuals"
      ],
      "metadata": {
        "id": "U3GNYJ-n2yE0"
      }
    },
    {
      "cell_type": "code",
      "source": [],
      "metadata": {
        "id": "QlhZCsb82ASH"
      },
      "execution_count": null,
      "outputs": []
    }
  ]
}